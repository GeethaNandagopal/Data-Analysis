{
 "cells": [
  {
   "cell_type": "markdown",
   "metadata": {},
   "source": [
    "\n",
    "# Project: Investigating no-show appointment Dataset\n",
    "\n",
    "## Table of Contents\n",
    "<ul>\n",
    "<li><a href=\"#intro\">Introduction</a></li>\n",
    "<li><a href=\"#wrangling\">Data Wrangling</a></li>\n",
    "<li><a href=\"#eda\">Exploratory Data Analysis</a></li>\n",
    "<li><a href=\"#conclusions\">Conclusions</a></li>\n",
    "</ul>"
   ]
  },
  {
   "cell_type": "markdown",
   "metadata": {},
   "source": [
    "<a id='intro'></a>\n",
    "## Introduction\n",
    "\n",
    "    I have chosen the \"no show appointment\" dataset out of the five dataset options.\n",
    "    This dataset has information collected from 100k medical appointments in Brazil and is focused on the question of whether\n",
    "    or not patients show up for their appointment. \n",
    "    \n",
    "    Project Walkthrough:\n",
    "    Libraries used:\n",
    "        ❖ pandas\n",
    "        ❖ numpy\n",
    "        ❖ matplotlib\n",
    "        ❖ seaborn\n",
    "        \n",
    "    The dataset used here for analysis is a csv file. It had 110527 rows and 14 columns.\n",
    "    The columns include appointment scheduled date, appointment date, age, gender, health condition(diabetes,\n",
    "    hypertension, etc.,),and a column for appointment show up.\n",
    "    The dataset is then assessed for any missing values, duplicate values, column datatypes etc.,\n",
    "    After assessement the dataset is cleaned for EDA.\n",
    "        ❖ Some of the cleaning carried out are: \n",
    "             1. Age had extreme values like -1 and over 110. Tried to keep the data which will be useful for analysis and \n",
    "                deleted the remaining.\n",
    "             2. Changed the date columns from string to date datatypes.\n",
    "             3. Made the column names readable.\n",
    "    Then moved onto EDA where the follwing question are answered through various visualizations.\n",
    "\n",
    "Few Questions I would like to explore are:\n",
    "    1. Which gender has the highest proportion of no-show?\n",
    "    2. What are the top 10 Neighbourhoods show up and no-show up rate?\n",
    "    3. Which patient/condition is least likely to show up?\n",
    "    4. Does longer waittime increases the chance for patients no-show up?"
   ]
  },
  {
   "cell_type": "code",
   "execution_count": 1,
   "metadata": {},
   "outputs": [],
   "source": [
    "# import packages \n",
    "\n",
    "import pandas as pd\n",
    "import numpy as np\n",
    "\n",
    "import datetime\n",
    "\n",
    "import matplotlib.pyplot as plt\n",
    "import seaborn as sns\n",
    "import matplotlib.gridspec as gridspec\n",
    "\n",
    "%matplotlib inline\n"
   ]
  },
  {
   "cell_type": "markdown",
   "metadata": {},
   "source": [
    "<a id='wrangling'></a>\n",
    "## Data Wrangling\n",
    "\n",
    "### General Properties"
   ]
  },
  {
   "cell_type": "code",
   "execution_count": 2,
   "metadata": {},
   "outputs": [
    {
     "name": "stdout",
     "output_type": "stream",
     "text": [
      "Rows and columns in the file(dataframe):\n",
      "Number of rows: 110527\n",
      "Number of columns: 14\n"
     ]
    }
   ],
   "source": [
    "# Load the csv file print out a few lines. \n",
    "\n",
    "noshow_df=pd.read_csv('noshow_appt.csv')\n",
    "print('Rows and columns in the file(dataframe):')\n",
    "print('Number of rows: '+ str(noshow_df.shape[0]))\n",
    "print('Number of columns: '+ str(noshow_df.shape[1]))\n"
   ]
  },
  {
   "cell_type": "code",
   "execution_count": 3,
   "metadata": {},
   "outputs": [
    {
     "data": {
      "text/html": [
       "<div>\n",
       "<style>\n",
       "    .dataframe thead tr:only-child th {\n",
       "        text-align: right;\n",
       "    }\n",
       "\n",
       "    .dataframe thead th {\n",
       "        text-align: left;\n",
       "    }\n",
       "\n",
       "    .dataframe tbody tr th {\n",
       "        vertical-align: top;\n",
       "    }\n",
       "</style>\n",
       "<table border=\"1\" class=\"dataframe\">\n",
       "  <thead>\n",
       "    <tr style=\"text-align: right;\">\n",
       "      <th></th>\n",
       "      <th>PatientId</th>\n",
       "      <th>AppointmentID</th>\n",
       "      <th>Gender</th>\n",
       "      <th>ScheduledDay</th>\n",
       "      <th>AppointmentDay</th>\n",
       "      <th>Age</th>\n",
       "      <th>Neighbourhood</th>\n",
       "      <th>Scholarship</th>\n",
       "      <th>Hipertension</th>\n",
       "      <th>Diabetes</th>\n",
       "      <th>Alcoholism</th>\n",
       "      <th>Handcap</th>\n",
       "      <th>SMS_received</th>\n",
       "      <th>No-show</th>\n",
       "    </tr>\n",
       "  </thead>\n",
       "  <tbody>\n",
       "    <tr>\n",
       "      <th>0</th>\n",
       "      <td>2.987250e+13</td>\n",
       "      <td>5642903</td>\n",
       "      <td>F</td>\n",
       "      <td>2016-04-29T18:38:08Z</td>\n",
       "      <td>2016-04-29T00:00:00Z</td>\n",
       "      <td>62</td>\n",
       "      <td>JARDIM DA PENHA</td>\n",
       "      <td>0</td>\n",
       "      <td>1</td>\n",
       "      <td>0</td>\n",
       "      <td>0</td>\n",
       "      <td>0</td>\n",
       "      <td>0</td>\n",
       "      <td>No</td>\n",
       "    </tr>\n",
       "    <tr>\n",
       "      <th>1</th>\n",
       "      <td>5.589978e+14</td>\n",
       "      <td>5642503</td>\n",
       "      <td>M</td>\n",
       "      <td>2016-04-29T16:08:27Z</td>\n",
       "      <td>2016-04-29T00:00:00Z</td>\n",
       "      <td>56</td>\n",
       "      <td>JARDIM DA PENHA</td>\n",
       "      <td>0</td>\n",
       "      <td>0</td>\n",
       "      <td>0</td>\n",
       "      <td>0</td>\n",
       "      <td>0</td>\n",
       "      <td>0</td>\n",
       "      <td>No</td>\n",
       "    </tr>\n",
       "    <tr>\n",
       "      <th>2</th>\n",
       "      <td>4.262962e+12</td>\n",
       "      <td>5642549</td>\n",
       "      <td>F</td>\n",
       "      <td>2016-04-29T16:19:04Z</td>\n",
       "      <td>2016-04-29T00:00:00Z</td>\n",
       "      <td>62</td>\n",
       "      <td>MATA DA PRAIA</td>\n",
       "      <td>0</td>\n",
       "      <td>0</td>\n",
       "      <td>0</td>\n",
       "      <td>0</td>\n",
       "      <td>0</td>\n",
       "      <td>0</td>\n",
       "      <td>No</td>\n",
       "    </tr>\n",
       "    <tr>\n",
       "      <th>3</th>\n",
       "      <td>8.679512e+11</td>\n",
       "      <td>5642828</td>\n",
       "      <td>F</td>\n",
       "      <td>2016-04-29T17:29:31Z</td>\n",
       "      <td>2016-04-29T00:00:00Z</td>\n",
       "      <td>8</td>\n",
       "      <td>PONTAL DE CAMBURI</td>\n",
       "      <td>0</td>\n",
       "      <td>0</td>\n",
       "      <td>0</td>\n",
       "      <td>0</td>\n",
       "      <td>0</td>\n",
       "      <td>0</td>\n",
       "      <td>No</td>\n",
       "    </tr>\n",
       "    <tr>\n",
       "      <th>4</th>\n",
       "      <td>8.841186e+12</td>\n",
       "      <td>5642494</td>\n",
       "      <td>F</td>\n",
       "      <td>2016-04-29T16:07:23Z</td>\n",
       "      <td>2016-04-29T00:00:00Z</td>\n",
       "      <td>56</td>\n",
       "      <td>JARDIM DA PENHA</td>\n",
       "      <td>0</td>\n",
       "      <td>1</td>\n",
       "      <td>1</td>\n",
       "      <td>0</td>\n",
       "      <td>0</td>\n",
       "      <td>0</td>\n",
       "      <td>No</td>\n",
       "    </tr>\n",
       "  </tbody>\n",
       "</table>\n",
       "</div>"
      ],
      "text/plain": [
       "      PatientId  AppointmentID Gender          ScheduledDay  \\\n",
       "0  2.987250e+13        5642903      F  2016-04-29T18:38:08Z   \n",
       "1  5.589978e+14        5642503      M  2016-04-29T16:08:27Z   \n",
       "2  4.262962e+12        5642549      F  2016-04-29T16:19:04Z   \n",
       "3  8.679512e+11        5642828      F  2016-04-29T17:29:31Z   \n",
       "4  8.841186e+12        5642494      F  2016-04-29T16:07:23Z   \n",
       "\n",
       "         AppointmentDay  Age      Neighbourhood  Scholarship  Hipertension  \\\n",
       "0  2016-04-29T00:00:00Z   62    JARDIM DA PENHA            0             1   \n",
       "1  2016-04-29T00:00:00Z   56    JARDIM DA PENHA            0             0   \n",
       "2  2016-04-29T00:00:00Z   62      MATA DA PRAIA            0             0   \n",
       "3  2016-04-29T00:00:00Z    8  PONTAL DE CAMBURI            0             0   \n",
       "4  2016-04-29T00:00:00Z   56    JARDIM DA PENHA            0             1   \n",
       "\n",
       "   Diabetes  Alcoholism  Handcap  SMS_received No-show  \n",
       "0         0           0        0             0      No  \n",
       "1         0           0        0             0      No  \n",
       "2         0           0        0             0      No  \n",
       "3         0           0        0             0      No  \n",
       "4         1           0        0             0      No  "
      ]
     },
     "execution_count": 3,
     "metadata": {},
     "output_type": "execute_result"
    }
   ],
   "source": [
    "#display first 5 rows in the dataframe\n",
    "noshow_df.head(5)"
   ]
  },
  {
   "cell_type": "code",
   "execution_count": 4,
   "metadata": {},
   "outputs": [
    {
     "name": "stdout",
     "output_type": "stream",
     "text": [
      "<class 'pandas.core.frame.DataFrame'>\n",
      "RangeIndex: 110527 entries, 0 to 110526\n",
      "Data columns (total 14 columns):\n",
      "PatientId         110527 non-null float64\n",
      "AppointmentID     110527 non-null int64\n",
      "Gender            110527 non-null object\n",
      "ScheduledDay      110527 non-null object\n",
      "AppointmentDay    110527 non-null object\n",
      "Age               110527 non-null int64\n",
      "Neighbourhood     110527 non-null object\n",
      "Scholarship       110527 non-null int64\n",
      "Hipertension      110527 non-null int64\n",
      "Diabetes          110527 non-null int64\n",
      "Alcoholism        110527 non-null int64\n",
      "Handcap           110527 non-null int64\n",
      "SMS_received      110527 non-null int64\n",
      "No-show           110527 non-null object\n",
      "dtypes: float64(1), int64(8), object(5)\n",
      "memory usage: 11.8+ MB\n"
     ]
    }
   ],
   "source": [
    "#check the datatypes of the columns\n",
    "noshow_df.info()"
   ]
  },
  {
   "cell_type": "markdown",
   "metadata": {},
   "source": [
    "The dataframe info show there are 110527 row/records and 14 columns"
   ]
  },
  {
   "cell_type": "code",
   "execution_count": 5,
   "metadata": {},
   "outputs": [
    {
     "data": {
      "text/plain": [
       "PatientId         0\n",
       "AppointmentID     0\n",
       "Gender            0\n",
       "ScheduledDay      0\n",
       "AppointmentDay    0\n",
       "Age               0\n",
       "Neighbourhood     0\n",
       "Scholarship       0\n",
       "Hipertension      0\n",
       "Diabetes          0\n",
       "Alcoholism        0\n",
       "Handcap           0\n",
       "SMS_received      0\n",
       "No-show           0\n",
       "dtype: int64"
      ]
     },
     "execution_count": 5,
     "metadata": {},
     "output_type": "execute_result"
    }
   ],
   "source": [
    "#check if there are any null values in the dataframe\n",
    "noshow_df.isnull().sum()"
   ]
  },
  {
   "cell_type": "markdown",
   "metadata": {},
   "source": [
    "Clearly, there are no null values in the table."
   ]
  },
  {
   "cell_type": "code",
   "execution_count": 6,
   "metadata": {},
   "outputs": [
    {
     "data": {
      "text/html": [
       "<div>\n",
       "<style>\n",
       "    .dataframe thead tr:only-child th {\n",
       "        text-align: right;\n",
       "    }\n",
       "\n",
       "    .dataframe thead th {\n",
       "        text-align: left;\n",
       "    }\n",
       "\n",
       "    .dataframe tbody tr th {\n",
       "        vertical-align: top;\n",
       "    }\n",
       "</style>\n",
       "<table border=\"1\" class=\"dataframe\">\n",
       "  <thead>\n",
       "    <tr style=\"text-align: right;\">\n",
       "      <th></th>\n",
       "      <th>PatientId</th>\n",
       "      <th>AppointmentID</th>\n",
       "      <th>Gender</th>\n",
       "      <th>ScheduledDay</th>\n",
       "      <th>AppointmentDay</th>\n",
       "      <th>Age</th>\n",
       "      <th>Neighbourhood</th>\n",
       "      <th>Scholarship</th>\n",
       "      <th>Hipertension</th>\n",
       "      <th>Diabetes</th>\n",
       "      <th>Alcoholism</th>\n",
       "      <th>Handcap</th>\n",
       "      <th>SMS_received</th>\n",
       "      <th>No-show</th>\n",
       "    </tr>\n",
       "  </thead>\n",
       "  <tbody>\n",
       "  </tbody>\n",
       "</table>\n",
       "</div>"
      ],
      "text/plain": [
       "Empty DataFrame\n",
       "Columns: [PatientId, AppointmentID, Gender, ScheduledDay, AppointmentDay, Age, Neighbourhood, Scholarship, Hipertension, Diabetes, Alcoholism, Handcap, SMS_received, No-show]\n",
       "Index: []"
      ]
     },
     "execution_count": 6,
     "metadata": {},
     "output_type": "execute_result"
    }
   ],
   "source": [
    "# check for any duplicate values\n",
    "noshow_df[noshow_df.duplicated()]"
   ]
  },
  {
   "cell_type": "markdown",
   "metadata": {},
   "source": [
    "And no duplicate data in the table as well."
   ]
  },
  {
   "cell_type": "markdown",
   "metadata": {},
   "source": [
    "### Data Cleaning -  Amending or removing data in the dataset that is incorrect, incomplete, improperly formatted, or duplicated.\n",
    "\n",
    " "
   ]
  },
  {
   "cell_type": "code",
   "execution_count": 7,
   "metadata": {},
   "outputs": [
    {
     "data": {
      "text/plain": [
       "Index(['Patient_id', 'Appointment_id', 'Gender', 'Scheduled_day',\n",
       "       'Appointment_day', 'Age', 'Neighbourhood', 'Scholarship',\n",
       "       'Hypertension', 'Diabetes', 'Alcoholism', 'Handicap', 'SMS_received',\n",
       "       'No_show'],\n",
       "      dtype='object')"
      ]
     },
     "execution_count": 7,
     "metadata": {},
     "output_type": "execute_result"
    }
   ],
   "source": [
    "#correcting the mispelled column names and changing it to snake case\n",
    "\n",
    "noshow_df.rename(columns={'Handcap':'Handicap','Hipertension':'Hypertension'},inplace=True)\n",
    "noshow_df.rename(columns={'PatientId':'Patient_id','AppointmentID':'Appointment_id',\n",
    "                          'ScheduledDay':'Scheduled_day','AppointmentDay':'Appointment_day',\n",
    "                           'No-show':'No_show'},inplace=True)\n",
    "noshow_df.columns"
   ]
  },
  {
   "cell_type": "markdown",
   "metadata": {},
   "source": [
    "Now let us take a look at each of the columns, to clean, modify and/or add new columns as needed. To do this I will divide\n",
    "the columns into four groups(just to clean the data) and gothrough each group one after the other.\n",
    "Patient Info:\n",
    "    Patient_id, Gender, Age\n",
    "   \n",
    "Appointment Info:\n",
    "    Appointment_id, Scheduled_day, Appointment_day, Neighbourhood,\n",
    "    \n",
    "patient condition Info:\n",
    "    Hypertension, Diabetes, Alcoholism, Handicap\n",
    "    \n",
    "Other Info:\n",
    "    Neighbourhood,SMS_recieved, Scholarship, No_show\n",
    "    \n"
   ]
  },
  {
   "cell_type": "code",
   "execution_count": 8,
   "metadata": {},
   "outputs": [
    {
     "name": "stdout",
     "output_type": "stream",
     "text": [
      "{'F', 'M'}\n",
      "{0, 1, 2, 3, 4, 5, 6, 7, 8, 9, 10, 11, 12, 13, 14, 15, 16, 17, 18, 19, 20, 21, 22, 23, 24, 25, 26, 27, 28, 29, 30, 31, 32, 33, 34, 35, 36, 37, 38, 39, 40, 41, 42, 43, 44, 45, 46, 47, 48, 49, 50, 51, 52, 53, 54, 55, 56, 57, 58, 59, 60, 61, 62, 63, 64, 65, 66, 67, 68, 69, 70, 71, 72, 73, 74, 75, 76, 77, 78, 79, 80, 81, 82, 83, 84, 85, 86, 87, 88, 89, 90, 91, 92, 93, 94, 95, 96, 97, 98, 99, 100, 102, 115, -1}\n"
     ]
    }
   ],
   "source": [
    "#take a look at patient info group(just the gender and age as patient id needs no change)\n",
    "\n",
    "print(set(noshow_df['Gender']))\n",
    "print(set(noshow_df['Age']))"
   ]
  },
  {
   "cell_type": "markdown",
   "metadata": {},
   "source": [
    "By looking at the above output, the gender field needs no change but the age field has abnormal values like 0,-1 and over 100. Even though the average life span in Brazil is 74.68, I would keep the record from age range 1 to 100 and delete the remaining.\n"
   ]
  },
  {
   "cell_type": "code",
   "execution_count": 9,
   "metadata": {},
   "outputs": [
    {
     "name": "stdout",
     "output_type": "stream",
     "text": [
      "Deleting 3547 rows with strange age values\n",
      "\n",
      "\n",
      "Values in Age column:\n",
      "{1, 2, 3, 4, 5, 6, 7, 8, 9, 10, 11, 12, 13, 14, 15, 16, 17, 18, 19, 20, 21, 22, 23, 24, 25, 26, 27, 28, 29, 30, 31, 32, 33, 34, 35, 36, 37, 38, 39, 40, 41, 42, 43, 44, 45, 46, 47, 48, 49, 50, 51, 52, 53, 54, 55, 56, 57, 58, 59, 60, 61, 62, 63, 64, 65, 66, 67, 68, 69, 70, 71, 72, 73, 74, 75, 76, 77, 78, 79, 80, 81, 82, 83, 84, 85, 86, 87, 88, 89, 90, 91, 92, 93, 94, 95, 96, 97, 98, 99, 100}\n"
     ]
    }
   ],
   "source": [
    "#Deleting the rows with strange age values\n",
    "final_row_count = (noshow_df[(noshow_df['Age'] > 0) & (noshow_df['Age'] <= 100)]).shape[0]\n",
    "del_row_count = noshow_df.shape[0] - final_row_count\n",
    "print('Deleting ' + str(del_row_count) + ' rows with strange age values')\n",
    "print('\\n')\n",
    "noshow_df = noshow_df[(noshow_df['Age'] > 0) & (noshow_df['Age'] <= 100)]\n",
    "print('Values in Age column:')\n",
    "print(set(noshow_df['Age']))"
   ]
  },
  {
   "cell_type": "code",
   "execution_count": 10,
   "metadata": {},
   "outputs": [
    {
     "data": {
      "text/html": [
       "<div>\n",
       "<style>\n",
       "    .dataframe thead tr:only-child th {\n",
       "        text-align: right;\n",
       "    }\n",
       "\n",
       "    .dataframe thead th {\n",
       "        text-align: left;\n",
       "    }\n",
       "\n",
       "    .dataframe tbody tr th {\n",
       "        vertical-align: top;\n",
       "    }\n",
       "</style>\n",
       "<table border=\"1\" class=\"dataframe\">\n",
       "  <thead>\n",
       "    <tr style=\"text-align: right;\">\n",
       "      <th></th>\n",
       "      <th>Scheduled_day</th>\n",
       "      <th>Appointment_day</th>\n",
       "    </tr>\n",
       "  </thead>\n",
       "  <tbody>\n",
       "    <tr>\n",
       "      <th>0</th>\n",
       "      <td>2016-04-29T18:38:08Z</td>\n",
       "      <td>2016-04-29T00:00:00Z</td>\n",
       "    </tr>\n",
       "    <tr>\n",
       "      <th>1</th>\n",
       "      <td>2016-04-29T16:08:27Z</td>\n",
       "      <td>2016-04-29T00:00:00Z</td>\n",
       "    </tr>\n",
       "    <tr>\n",
       "      <th>2</th>\n",
       "      <td>2016-04-29T16:19:04Z</td>\n",
       "      <td>2016-04-29T00:00:00Z</td>\n",
       "    </tr>\n",
       "    <tr>\n",
       "      <th>3</th>\n",
       "      <td>2016-04-29T17:29:31Z</td>\n",
       "      <td>2016-04-29T00:00:00Z</td>\n",
       "    </tr>\n",
       "    <tr>\n",
       "      <th>4</th>\n",
       "      <td>2016-04-29T16:07:23Z</td>\n",
       "      <td>2016-04-29T00:00:00Z</td>\n",
       "    </tr>\n",
       "    <tr>\n",
       "      <th>5</th>\n",
       "      <td>2016-04-27T08:36:51Z</td>\n",
       "      <td>2016-04-29T00:00:00Z</td>\n",
       "    </tr>\n",
       "  </tbody>\n",
       "</table>\n",
       "</div>"
      ],
      "text/plain": [
       "          Scheduled_day       Appointment_day\n",
       "0  2016-04-29T18:38:08Z  2016-04-29T00:00:00Z\n",
       "1  2016-04-29T16:08:27Z  2016-04-29T00:00:00Z\n",
       "2  2016-04-29T16:19:04Z  2016-04-29T00:00:00Z\n",
       "3  2016-04-29T17:29:31Z  2016-04-29T00:00:00Z\n",
       "4  2016-04-29T16:07:23Z  2016-04-29T00:00:00Z\n",
       "5  2016-04-27T08:36:51Z  2016-04-29T00:00:00Z"
      ]
     },
     "execution_count": 10,
     "metadata": {},
     "output_type": "execute_result"
    }
   ],
   "source": [
    "#display first five rows with Scheduled_day and Appointment_day columns\n",
    "noshow_df.loc[:5,['Scheduled_day','Appointment_day']]"
   ]
  },
  {
   "cell_type": "markdown",
   "metadata": {},
   "source": [
    "Will change the both column datatypes from string to datetime object."
   ]
  },
  {
   "cell_type": "code",
   "execution_count": 11,
   "metadata": {},
   "outputs": [
    {
     "name": "stdout",
     "output_type": "stream",
     "text": [
      "<class 'pandas.core.frame.DataFrame'>\n",
      "Int64Index: 106980 entries, 0 to 110526\n",
      "Data columns (total 14 columns):\n",
      "Patient_id         106980 non-null float64\n",
      "Appointment_id     106980 non-null int64\n",
      "Gender             106980 non-null object\n",
      "Scheduled_day      106980 non-null datetime64[ns]\n",
      "Appointment_day    106980 non-null datetime64[ns]\n",
      "Age                106980 non-null int64\n",
      "Neighbourhood      106980 non-null object\n",
      "Scholarship        106980 non-null int64\n",
      "Hypertension       106980 non-null int64\n",
      "Diabetes           106980 non-null int64\n",
      "Alcoholism         106980 non-null int64\n",
      "Handicap           106980 non-null int64\n",
      "SMS_received       106980 non-null int64\n",
      "No_show            106980 non-null object\n",
      "dtypes: datetime64[ns](2), float64(1), int64(8), object(3)\n",
      "memory usage: 17.2+ MB\n",
      "None\n",
      "0   2016-04-29 18:38:08\n",
      "1   2016-04-29 16:08:27\n",
      "2   2016-04-29 16:19:04\n",
      "3   2016-04-29 17:29:31\n",
      "4   2016-04-29 16:07:23\n",
      "Name: Scheduled_day, dtype: datetime64[ns]\n",
      "0   2016-04-29\n",
      "1   2016-04-29\n",
      "2   2016-04-29\n",
      "3   2016-04-29\n",
      "4   2016-04-29\n",
      "Name: Appointment_day, dtype: datetime64[ns]\n"
     ]
    }
   ],
   "source": [
    "#change the Scheduled_day and Appointment_day to datetime object\n",
    "noshow_df['Scheduled_day'] = pd.to_datetime(noshow_df.Scheduled_day)\n",
    "noshow_df['Appointment_day'] = pd.to_datetime(noshow_df.Appointment_day)\n",
    "print(noshow_df.info())\n",
    "print(noshow_df['Scheduled_day'].head())\n",
    "print(noshow_df['Appointment_day'].head())"
   ]
  },
  {
   "cell_type": "markdown",
   "metadata": {},
   "source": [
    "Check the chronological order of Scheduled date and appointment date.\n",
    "Find if there are any records with appointment date before the scheduled date and eliminate those erroneous data."
   ]
  },
  {
   "cell_type": "code",
   "execution_count": 12,
   "metadata": {},
   "outputs": [
    {
     "data": {
      "text/html": [
       "<div>\n",
       "<style>\n",
       "    .dataframe thead tr:only-child th {\n",
       "        text-align: right;\n",
       "    }\n",
       "\n",
       "    .dataframe thead th {\n",
       "        text-align: left;\n",
       "    }\n",
       "\n",
       "    .dataframe tbody tr th {\n",
       "        vertical-align: top;\n",
       "    }\n",
       "</style>\n",
       "<table border=\"1\" class=\"dataframe\">\n",
       "  <thead>\n",
       "    <tr style=\"text-align: right;\">\n",
       "      <th></th>\n",
       "      <th>Patient_id</th>\n",
       "      <th>Appointment_id</th>\n",
       "      <th>Gender</th>\n",
       "      <th>Scheduled_day</th>\n",
       "      <th>Appointment_day</th>\n",
       "      <th>Age</th>\n",
       "      <th>Neighbourhood</th>\n",
       "      <th>Scholarship</th>\n",
       "      <th>Hypertension</th>\n",
       "      <th>Diabetes</th>\n",
       "      <th>Alcoholism</th>\n",
       "      <th>Handicap</th>\n",
       "      <th>SMS_received</th>\n",
       "      <th>No_show</th>\n",
       "    </tr>\n",
       "  </thead>\n",
       "  <tbody>\n",
       "    <tr>\n",
       "      <th>27033</th>\n",
       "      <td>7.839273e+12</td>\n",
       "      <td>5679978</td>\n",
       "      <td>M</td>\n",
       "      <td>2016-05-10 10:51:53</td>\n",
       "      <td>2016-05-09</td>\n",
       "      <td>38</td>\n",
       "      <td>RESISTÊNCIA</td>\n",
       "      <td>0</td>\n",
       "      <td>0</td>\n",
       "      <td>0</td>\n",
       "      <td>0</td>\n",
       "      <td>1</td>\n",
       "      <td>0</td>\n",
       "      <td>Yes</td>\n",
       "    </tr>\n",
       "    <tr>\n",
       "      <th>55226</th>\n",
       "      <td>7.896294e+12</td>\n",
       "      <td>5715660</td>\n",
       "      <td>F</td>\n",
       "      <td>2016-05-18 14:50:41</td>\n",
       "      <td>2016-05-17</td>\n",
       "      <td>19</td>\n",
       "      <td>SANTO ANTÔNIO</td>\n",
       "      <td>0</td>\n",
       "      <td>0</td>\n",
       "      <td>0</td>\n",
       "      <td>0</td>\n",
       "      <td>1</td>\n",
       "      <td>0</td>\n",
       "      <td>Yes</td>\n",
       "    </tr>\n",
       "    <tr>\n",
       "      <th>64175</th>\n",
       "      <td>2.425226e+13</td>\n",
       "      <td>5664962</td>\n",
       "      <td>F</td>\n",
       "      <td>2016-05-05 13:43:58</td>\n",
       "      <td>2016-05-04</td>\n",
       "      <td>22</td>\n",
       "      <td>CONSOLAÇÃO</td>\n",
       "      <td>0</td>\n",
       "      <td>0</td>\n",
       "      <td>0</td>\n",
       "      <td>0</td>\n",
       "      <td>0</td>\n",
       "      <td>0</td>\n",
       "      <td>Yes</td>\n",
       "    </tr>\n",
       "    <tr>\n",
       "      <th>71533</th>\n",
       "      <td>9.982316e+14</td>\n",
       "      <td>5686628</td>\n",
       "      <td>F</td>\n",
       "      <td>2016-05-11 13:49:20</td>\n",
       "      <td>2016-05-05</td>\n",
       "      <td>81</td>\n",
       "      <td>SANTO ANTÔNIO</td>\n",
       "      <td>0</td>\n",
       "      <td>0</td>\n",
       "      <td>0</td>\n",
       "      <td>0</td>\n",
       "      <td>0</td>\n",
       "      <td>0</td>\n",
       "      <td>Yes</td>\n",
       "    </tr>\n",
       "    <tr>\n",
       "      <th>72362</th>\n",
       "      <td>3.787482e+12</td>\n",
       "      <td>5655637</td>\n",
       "      <td>M</td>\n",
       "      <td>2016-05-04 06:50:57</td>\n",
       "      <td>2016-05-03</td>\n",
       "      <td>7</td>\n",
       "      <td>TABUAZEIRO</td>\n",
       "      <td>0</td>\n",
       "      <td>0</td>\n",
       "      <td>0</td>\n",
       "      <td>0</td>\n",
       "      <td>0</td>\n",
       "      <td>0</td>\n",
       "      <td>Yes</td>\n",
       "    </tr>\n",
       "  </tbody>\n",
       "</table>\n",
       "</div>"
      ],
      "text/plain": [
       "         Patient_id  Appointment_id Gender       Scheduled_day  \\\n",
       "27033  7.839273e+12         5679978      M 2016-05-10 10:51:53   \n",
       "55226  7.896294e+12         5715660      F 2016-05-18 14:50:41   \n",
       "64175  2.425226e+13         5664962      F 2016-05-05 13:43:58   \n",
       "71533  9.982316e+14         5686628      F 2016-05-11 13:49:20   \n",
       "72362  3.787482e+12         5655637      M 2016-05-04 06:50:57   \n",
       "\n",
       "      Appointment_day  Age  Neighbourhood  Scholarship  Hypertension  \\\n",
       "27033      2016-05-09   38    RESISTÊNCIA            0             0   \n",
       "55226      2016-05-17   19  SANTO ANTÔNIO            0             0   \n",
       "64175      2016-05-04   22     CONSOLAÇÃO            0             0   \n",
       "71533      2016-05-05   81  SANTO ANTÔNIO            0             0   \n",
       "72362      2016-05-03    7     TABUAZEIRO            0             0   \n",
       "\n",
       "       Diabetes  Alcoholism  Handicap  SMS_received No_show  \n",
       "27033         0           0         1             0     Yes  \n",
       "55226         0           0         1             0     Yes  \n",
       "64175         0           0         0             0     Yes  \n",
       "71533         0           0         0             0     Yes  \n",
       "72362         0           0         0             0     Yes  "
      ]
     },
     "execution_count": 12,
     "metadata": {},
     "output_type": "execute_result"
    }
   ],
   "source": [
    "#Check the chronological order of scheduled date and appointment date\n",
    "date_error_rows = noshow_df[noshow_df['Scheduled_day'].dt.date > noshow_df['Appointment_day'].dt.date]\n",
    "date_error_rows"
   ]
  },
  {
   "cell_type": "markdown",
   "metadata": {},
   "source": [
    "Lets get rid the five rows with appointment date before scheduled date"
   ]
  },
  {
   "cell_type": "code",
   "execution_count": 13,
   "metadata": {},
   "outputs": [
    {
     "name": "stdout",
     "output_type": "stream",
     "text": [
      "Number of rows and columns after some cleanup: (106975, 14)\n"
     ]
    }
   ],
   "source": [
    "#delete the five rows\n",
    "noshow_df = noshow_df[noshow_df['Scheduled_day'].dt.date <= noshow_df['Appointment_day'].dt.date]\n",
    "print('Number of rows and columns after some cleanup: ' + str(noshow_df.shape))"
   ]
  },
  {
   "cell_type": "markdown",
   "metadata": {},
   "source": [
    "The awaiting time/days (ie the days between scheduled date and appointmnent date ) might be an importantant factor while analysing the rate of no-show, so adding a column called waiting_day.\n"
   ]
  },
  {
   "cell_type": "code",
   "execution_count": 14,
   "metadata": {},
   "outputs": [],
   "source": [
    "#using numpy array to create a column called 'waiting_days' \n",
    "\n",
    "noshow_df['Waiting_days'] = np.where(noshow_df.Scheduled_day.dt.date == noshow_df.Appointment_day.dt.date,0,noshow_df.Appointment_day.sub(noshow_df.Scheduled_day))\n",
    "\n",
    "noshow_df['Waiting_days'] = noshow_df['Waiting_days'].dt.days\n"
   ]
  },
  {
   "cell_type": "code",
   "execution_count": 15,
   "metadata": {},
   "outputs": [
    {
     "name": "stdout",
     "output_type": "stream",
     "text": [
      "<class 'pandas.core.frame.DataFrame'>\n",
      "Int64Index: 106975 entries, 0 to 110526\n",
      "Data columns (total 15 columns):\n",
      "Patient_id         106975 non-null float64\n",
      "Appointment_id     106975 non-null int64\n",
      "Gender             106975 non-null object\n",
      "Scheduled_day      106975 non-null datetime64[ns]\n",
      "Appointment_day    106975 non-null datetime64[ns]\n",
      "Age                106975 non-null int64\n",
      "Neighbourhood      106975 non-null object\n",
      "Scholarship        106975 non-null int64\n",
      "Hypertension       106975 non-null int64\n",
      "Diabetes           106975 non-null int64\n",
      "Alcoholism         106975 non-null int64\n",
      "Handicap           106975 non-null int64\n",
      "SMS_received       106975 non-null int64\n",
      "No_show            106975 non-null object\n",
      "Waiting_days       106975 non-null int64\n",
      "dtypes: datetime64[ns](2), float64(1), int64(9), object(3)\n",
      "memory usage: 13.1+ MB\n"
     ]
    }
   ],
   "source": [
    "noshow_df.info()"
   ]
  },
  {
   "cell_type": "code",
   "execution_count": 16,
   "metadata": {},
   "outputs": [
    {
     "name": "stdout",
     "output_type": "stream",
     "text": [
      "Number of rows and columns in the dataframe: (106975, 15)\n"
     ]
    }
   ],
   "source": [
    "print(\"Number of rows and columns in the dataframe: \" + str(noshow_df.shape))"
   ]
  },
  {
   "cell_type": "markdown",
   "metadata": {},
   "source": [
    "Now lets take a look at the patient condition group.\n",
    "Lets display first few rows of the four columns to see how the data is stored."
   ]
  },
  {
   "cell_type": "code",
   "execution_count": 17,
   "metadata": {},
   "outputs": [
    {
     "data": {
      "text/html": [
       "<div>\n",
       "<style>\n",
       "    .dataframe thead tr:only-child th {\n",
       "        text-align: right;\n",
       "    }\n",
       "\n",
       "    .dataframe thead th {\n",
       "        text-align: left;\n",
       "    }\n",
       "\n",
       "    .dataframe tbody tr th {\n",
       "        vertical-align: top;\n",
       "    }\n",
       "</style>\n",
       "<table border=\"1\" class=\"dataframe\">\n",
       "  <thead>\n",
       "    <tr style=\"text-align: right;\">\n",
       "      <th></th>\n",
       "      <th>Hypertension</th>\n",
       "      <th>Diabetes</th>\n",
       "      <th>Alcoholism</th>\n",
       "      <th>Handicap</th>\n",
       "    </tr>\n",
       "  </thead>\n",
       "  <tbody>\n",
       "    <tr>\n",
       "      <th>0</th>\n",
       "      <td>1</td>\n",
       "      <td>0</td>\n",
       "      <td>0</td>\n",
       "      <td>0</td>\n",
       "    </tr>\n",
       "    <tr>\n",
       "      <th>1</th>\n",
       "      <td>0</td>\n",
       "      <td>0</td>\n",
       "      <td>0</td>\n",
       "      <td>0</td>\n",
       "    </tr>\n",
       "    <tr>\n",
       "      <th>2</th>\n",
       "      <td>0</td>\n",
       "      <td>0</td>\n",
       "      <td>0</td>\n",
       "      <td>0</td>\n",
       "    </tr>\n",
       "    <tr>\n",
       "      <th>3</th>\n",
       "      <td>0</td>\n",
       "      <td>0</td>\n",
       "      <td>0</td>\n",
       "      <td>0</td>\n",
       "    </tr>\n",
       "    <tr>\n",
       "      <th>4</th>\n",
       "      <td>1</td>\n",
       "      <td>1</td>\n",
       "      <td>0</td>\n",
       "      <td>0</td>\n",
       "    </tr>\n",
       "    <tr>\n",
       "      <th>5</th>\n",
       "      <td>1</td>\n",
       "      <td>0</td>\n",
       "      <td>0</td>\n",
       "      <td>0</td>\n",
       "    </tr>\n",
       "    <tr>\n",
       "      <th>6</th>\n",
       "      <td>0</td>\n",
       "      <td>0</td>\n",
       "      <td>0</td>\n",
       "      <td>0</td>\n",
       "    </tr>\n",
       "    <tr>\n",
       "      <th>7</th>\n",
       "      <td>0</td>\n",
       "      <td>0</td>\n",
       "      <td>0</td>\n",
       "      <td>0</td>\n",
       "    </tr>\n",
       "    <tr>\n",
       "      <th>8</th>\n",
       "      <td>0</td>\n",
       "      <td>0</td>\n",
       "      <td>0</td>\n",
       "      <td>0</td>\n",
       "    </tr>\n",
       "    <tr>\n",
       "      <th>9</th>\n",
       "      <td>0</td>\n",
       "      <td>0</td>\n",
       "      <td>0</td>\n",
       "      <td>0</td>\n",
       "    </tr>\n",
       "    <tr>\n",
       "      <th>10</th>\n",
       "      <td>0</td>\n",
       "      <td>0</td>\n",
       "      <td>0</td>\n",
       "      <td>0</td>\n",
       "    </tr>\n",
       "  </tbody>\n",
       "</table>\n",
       "</div>"
      ],
      "text/plain": [
       "    Hypertension  Diabetes  Alcoholism  Handicap\n",
       "0              1         0           0         0\n",
       "1              0         0           0         0\n",
       "2              0         0           0         0\n",
       "3              0         0           0         0\n",
       "4              1         1           0         0\n",
       "5              1         0           0         0\n",
       "6              0         0           0         0\n",
       "7              0         0           0         0\n",
       "8              0         0           0         0\n",
       "9              0         0           0         0\n",
       "10             0         0           0         0"
      ]
     },
     "execution_count": 17,
     "metadata": {},
     "output_type": "execute_result"
    }
   ],
   "source": [
    "#using dataframe loc display the columns \n",
    "noshow_df.loc[:10,['Hypertension', 'Diabetes', 'Alcoholism', 'Handicap']]"
   ]
  },
  {
   "cell_type": "markdown",
   "metadata": {},
   "source": [
    "The data are stored in binary. 1 means patient has that condition and 0 mean that the patient doesn't have that condition.These four columns are clean, so we can move on to the next group ie 'other info'.\n",
    "Lests display and take a look at the four columns under other info group."
   ]
  },
  {
   "cell_type": "code",
   "execution_count": 18,
   "metadata": {},
   "outputs": [
    {
     "data": {
      "text/html": [
       "<div>\n",
       "<style>\n",
       "    .dataframe thead tr:only-child th {\n",
       "        text-align: right;\n",
       "    }\n",
       "\n",
       "    .dataframe thead th {\n",
       "        text-align: left;\n",
       "    }\n",
       "\n",
       "    .dataframe tbody tr th {\n",
       "        vertical-align: top;\n",
       "    }\n",
       "</style>\n",
       "<table border=\"1\" class=\"dataframe\">\n",
       "  <thead>\n",
       "    <tr style=\"text-align: right;\">\n",
       "      <th></th>\n",
       "      <th>Scholarship</th>\n",
       "      <th>Neighbourhood</th>\n",
       "      <th>SMS_received</th>\n",
       "      <th>No_show</th>\n",
       "    </tr>\n",
       "  </thead>\n",
       "  <tbody>\n",
       "    <tr>\n",
       "      <th>0</th>\n",
       "      <td>0</td>\n",
       "      <td>JARDIM DA PENHA</td>\n",
       "      <td>0</td>\n",
       "      <td>No</td>\n",
       "    </tr>\n",
       "    <tr>\n",
       "      <th>1</th>\n",
       "      <td>0</td>\n",
       "      <td>JARDIM DA PENHA</td>\n",
       "      <td>0</td>\n",
       "      <td>No</td>\n",
       "    </tr>\n",
       "    <tr>\n",
       "      <th>2</th>\n",
       "      <td>0</td>\n",
       "      <td>MATA DA PRAIA</td>\n",
       "      <td>0</td>\n",
       "      <td>No</td>\n",
       "    </tr>\n",
       "    <tr>\n",
       "      <th>3</th>\n",
       "      <td>0</td>\n",
       "      <td>PONTAL DE CAMBURI</td>\n",
       "      <td>0</td>\n",
       "      <td>No</td>\n",
       "    </tr>\n",
       "    <tr>\n",
       "      <th>4</th>\n",
       "      <td>0</td>\n",
       "      <td>JARDIM DA PENHA</td>\n",
       "      <td>0</td>\n",
       "      <td>No</td>\n",
       "    </tr>\n",
       "    <tr>\n",
       "      <th>5</th>\n",
       "      <td>0</td>\n",
       "      <td>REPÚBLICA</td>\n",
       "      <td>0</td>\n",
       "      <td>No</td>\n",
       "    </tr>\n",
       "    <tr>\n",
       "      <th>6</th>\n",
       "      <td>0</td>\n",
       "      <td>GOIABEIRAS</td>\n",
       "      <td>0</td>\n",
       "      <td>Yes</td>\n",
       "    </tr>\n",
       "    <tr>\n",
       "      <th>7</th>\n",
       "      <td>0</td>\n",
       "      <td>GOIABEIRAS</td>\n",
       "      <td>0</td>\n",
       "      <td>Yes</td>\n",
       "    </tr>\n",
       "    <tr>\n",
       "      <th>8</th>\n",
       "      <td>0</td>\n",
       "      <td>ANDORINHAS</td>\n",
       "      <td>0</td>\n",
       "      <td>No</td>\n",
       "    </tr>\n",
       "    <tr>\n",
       "      <th>9</th>\n",
       "      <td>0</td>\n",
       "      <td>CONQUISTA</td>\n",
       "      <td>0</td>\n",
       "      <td>No</td>\n",
       "    </tr>\n",
       "    <tr>\n",
       "      <th>10</th>\n",
       "      <td>0</td>\n",
       "      <td>NOVA PALESTINA</td>\n",
       "      <td>0</td>\n",
       "      <td>No</td>\n",
       "    </tr>\n",
       "  </tbody>\n",
       "</table>\n",
       "</div>"
      ],
      "text/plain": [
       "    Scholarship      Neighbourhood  SMS_received No_show\n",
       "0             0    JARDIM DA PENHA             0      No\n",
       "1             0    JARDIM DA PENHA             0      No\n",
       "2             0      MATA DA PRAIA             0      No\n",
       "3             0  PONTAL DE CAMBURI             0      No\n",
       "4             0    JARDIM DA PENHA             0      No\n",
       "5             0          REPÚBLICA             0      No\n",
       "6             0         GOIABEIRAS             0     Yes\n",
       "7             0         GOIABEIRAS             0     Yes\n",
       "8             0         ANDORINHAS             0      No\n",
       "9             0          CONQUISTA             0      No\n",
       "10            0     NOVA PALESTINA             0      No"
      ]
     },
     "execution_count": 18,
     "metadata": {},
     "output_type": "execute_result"
    }
   ],
   "source": [
    "#using dataframe loc to filter the columns\n",
    "noshow_df.loc[:10,['Scholarship','Neighbourhood','SMS_received','No_show']]"
   ]
  },
  {
   "cell_type": "markdown",
   "metadata": {},
   "source": [
    "These columns look clean too.Only thing we have to keep in mind is that the \"No\" in No_show column indicates that the patient did show up for the appointment.Now we can move on to the EDA."
   ]
  },
  {
   "cell_type": "markdown",
   "metadata": {},
   "source": [
    "<a id='eda'></a>\n",
    "## Exploratory Data Analysis\n"
   ]
  },
  {
   "cell_type": "markdown",
   "metadata": {},
   "source": [
    "Initial analysis before answering the questions:\n",
    "    "
   ]
  },
  {
   "cell_type": "code",
   "execution_count": 19,
   "metadata": {},
   "outputs": [
    {
     "name": "stdout",
     "output_type": "stream",
     "text": [
      "Total Appointments: 106975\n",
      "Number of Show-ups: 85303\n",
      "Number of No-show ups: 21672\n",
      "Patients show up percentage: 79.74%\n",
      "Patients no show up percentage:20.26%\n"
     ]
    }
   ],
   "source": [
    "#find the no-show rate\n",
    "\n",
    "show_up = noshow_df[noshow_df.No_show == 'No'].shape[0]\n",
    "noshow_up = noshow_df[noshow_df.No_show == 'Yes'].shape[0]\n",
    "noshow_df.shape[0] == show_up + noshow_up\n",
    "show_up_percent = show_up / noshow_df.shape[0] * 100\n",
    "noshow_up_percent = noshow_up / noshow_df.shape[0] * 100\n",
    "\n",
    "print('Total Appointments: '+ str(noshow_df.shape[0]))\n",
    "print('Number of Show-ups: '+ str(show_up))\n",
    "print('Number of No-show ups: ' + str(noshow_up))\n",
    "print('Patients show up percentage: ' + str(round(show_up_percent,2)) + '%')\n",
    "print('Patients no show up percentage:' + str(round(noshow_up_percent,2)) + '%')\n",
    "\n"
   ]
  },
  {
   "cell_type": "code",
   "execution_count": 20,
   "metadata": {},
   "outputs": [
    {
     "data": {
      "image/png": "[encoded data removed]",
      "text/plain": [
       "<matplotlib.figure.Figure at 0x7f5fd5e49860>"
      ]
     },
     "metadata": {},
     "output_type": "display_data"
    }
   ],
   "source": [
    "#plot the graph \n",
    "sns.set_style('whitegrid')\n",
    "sns.countplot(noshow_df['No_show'], alpha =.80, palette= ['green','red'])\n",
    "\n",
    "plt.title('Show-up vs No-show up',fontsize=15)\n",
    "obj=['Show up','No-show up']\n",
    "ticks = np.arange(len(obj))\n",
    "plt.ylabel('# Patients')\n",
    "plt.xticks(ticks,obj)\n",
    "plt.xlabel('')\n",
    "plt.show()"
   ]
  },
  {
   "cell_type": "markdown",
   "metadata": {},
   "source": [
    "79.74% of patients showed up and 20.26% of patients didn't show up for their appointments. Now lets dig deeper and see out of this 20.26% which gender has the maximum no-show rate.\n"
   ]
  },
  {
   "cell_type": "code",
   "execution_count": 21,
   "metadata": {},
   "outputs": [],
   "source": [
    "#create two list- one with female showup and no-show up and another with male showup and female no-show up\n",
    "female = []\n",
    "female.append(noshow_df[(noshow_df.No_show == 'No') & (noshow_df.Gender == 'F')].shape[0])\n",
    "female.append(noshow_df[(noshow_df.No_show == 'Yes') & (noshow_df.Gender == 'F')].shape[0])\n",
    "\n",
    "male = []\n",
    "male.append(noshow_df[(noshow_df.No_show == 'No') & (noshow_df.Gender == 'M')].shape[0])\n",
    "male.append(noshow_df[(noshow_df.No_show == 'Yes') & (noshow_df.Gender == 'M')].shape[0])\n"
   ]
  },
  {
   "cell_type": "code",
   "execution_count": 22,
   "metadata": {},
   "outputs": [
    {
     "data": {
      "image/png": "[encoded data removed]",
      "text/plain": [
       "<matplotlib.figure.Figure at 0x7f5fd5e1f668>"
      ]
     },
     "metadata": {},
     "output_type": "display_data"
    },
    {
     "name": "stdout",
     "output_type": "stream",
     "text": [
      "       Female show up count: 55839      Female No-show up count: 14269\n",
      "       Male show up count: 29464        Male show up count: 7403\n"
     ]
    }
   ],
   "source": [
    "#plot the stacked bar using matplotlib\n",
    "plt.figure(figsize=(8,6))\n",
    "x=np.arange(len(female))\n",
    "bar_width=.30\n",
    "p1 = plt.bar(x,female,.80,label = 'Female',color='pink')\n",
    "p2 = plt.bar(x,male,bottom=female,label='Male')\n",
    "plt.title('Show up vs No-show by Gender',fontsize=20)\n",
    "plt.xticks(x,['Showup','No-Showup'])\n",
    "plt.ylabel('# patients')\n",
    "plt.legend()\n",
    "plt.show()\n",
    "\n",
    "print('       Female show up count: ' + str(female[0]) + '      Female No-show up count: ' + str(female[1]))\n",
    "\n",
    "print('       Male show up count: ' + str(male[0]) + '        Male show up count: ' + str(male[1]))\n",
    "\n"
   ]
  },
  {
   "cell_type": "markdown",
   "metadata": {},
   "source": [
    "This shows Female patients visits doctor more often than male patients. Their showup count is higher than male."
   ]
  },
  {
   "cell_type": "markdown",
   "metadata": {},
   "source": [
    "### Research Question 1- Which gender has the highest proportion of no-show?"
   ]
  },
  {
   "cell_type": "code",
   "execution_count": 23,
   "metadata": {},
   "outputs": [
    {
     "name": "stdout",
     "output_type": "stream",
     "text": [
      "Percentage of Female no-show up: 65.84%\n",
      "Percentage of Male no-show up: 34.16%\n"
     ]
    }
   ],
   "source": [
    "#find the number of male and female count and the percentage of no-show ups\n",
    "\n",
    "noshow_gender = noshow_df[noshow_df.No_show == 'Yes'].groupby('Gender').No_show.value_counts()\n",
    "\n",
    "percent_array=np.arange(2,dtype=float)\n",
    "percent_array[0] = round((noshow_gender[0]/(noshow_gender[0]+noshow_gender[1])*100),2)\n",
    "percent_array[1] = round((noshow_gender[1]/(noshow_gender[0]+noshow_gender[1])*100),2)\n",
    "\n",
    "print('Percentage of Female no-show up: ' + str(percent_array[0]) + '%')\n",
    "print('Percentage of Male no-show up: ' + str(percent_array[1]) + '%')\n"
   ]
  },
  {
   "cell_type": "code",
   "execution_count": 24,
   "metadata": {},
   "outputs": [
    {
     "data": {
      "image/png": "[encoded data removed]",
      "text/plain": [
       "<matplotlib.figure.Figure at 0x7f5fd7afeef0>"
      ]
     },
     "metadata": {},
     "output_type": "display_data"
    }
   ],
   "source": [
    "#plot a bar char showing the proportion of gender based no-show\n",
    "y=[noshow_gender[0],noshow_gender[1]]\n",
    "obj=['Female','Male']\n",
    "ticks=np.arange(len(obj))\n",
    "plt.figure(figsize=(5,5))\n",
    "plt.bar(ticks,percent_array,.80,alpha=.80,color=['pink','blue'])\n",
    "plt.xticks(ticks,obj)\n",
    "plt.xlabel('Gender')\n",
    "plt.ylabel('Percentage')\n",
    "plt.title('Gender based No-show ups\\n')\n",
    "plt.show\n",
    "for i,v in enumerate(ticks):\n",
    "    label_str=str(percent_array[i])+'%'\n",
    "    plt.text(i,v+1+percent_array[i],label_str)"
   ]
  },
  {
   "cell_type": "markdown",
   "metadata": {},
   "source": [
    "Answer to question number 1:\n",
    "\n",
    "The bar chart shows that 65.84% of females don't showup and only 34.16% of males don't show up for their appointment.So females have the higest proportion of no-show."
   ]
  },
  {
   "cell_type": "markdown",
   "metadata": {},
   "source": [
    "### Research Question 2- TOP 10 Neighbourhood show up and no-show up\n",
    "###### There are 80 neighbourhoods in total. Let us pick top 10 high traffic neighbourhood and do the the analysis."
   ]
  },
  {
   "cell_type": "code",
   "execution_count": 25,
   "metadata": {},
   "outputs": [],
   "source": [
    "#this function takes a datafram as input and return a sorted neighbourhood list\n",
    "def groupby_func(df,groupby):\n",
    "    groupby_list = df.groupby([groupby]).size()\n",
    "    return groupby_list"
   ]
  },
  {
   "cell_type": "code",
   "execution_count": 26,
   "metadata": {},
   "outputs": [],
   "source": [
    "#plot the graph side by side showing the top 10 neighbourhood in show up and no-show up\n",
    "def plot_graph(show_list1,noshow_list1):\n",
    "    fig,(ax1,ax2) = plt.subplots(ncols=2,sharey=True)\n",
    "    show_list1[0:10].plot(kind='bar',ax=ax1,figsize=(15,5),title='Top 10 Neighbourhood Show up')\n",
    "    noshow_list1[0:10].plot(kind='bar',ax=ax2,figsize=(15,5),title='Top 10 Neighbourhood No Show up')"
   ]
  },
  {
   "cell_type": "code",
   "execution_count": 27,
   "metadata": {},
   "outputs": [
    {
     "data": {
      "image/png": "[encoded data removed]",
      "text/plain": [
       "<matplotlib.figure.Figure at 0x7f5fd7ae0c88>"
      ]
     },
     "metadata": {},
     "output_type": "display_data"
    }
   ],
   "source": [
    "#create two list with neighbourhood name-one for showup and one for no-show up\n",
    "#the function returns all the rows with 'No' in the No_show column\n",
    "no_df = noshow_df.loc[noshow_df.No_show == 'No']\n",
    "#the function returns all the rows with 'Yes' in the No_show column\n",
    "yes_df = noshow_df.loc[noshow_df.No_show == 'Yes']\n",
    "\n",
    "#call the function with the dataframe created with above statements\n",
    "noshow_list = groupby_func(yes_df,'Neighbourhood')\n",
    "noshow_list.sort_values(ascending=False,inplace=True)\n",
    "\n",
    "show_list = groupby_func(no_df,'Neighbourhood')\n",
    "show_list.sort_values(ascending=False,inplace=True)\n",
    "\n",
    "#call the function that plots the graph \n",
    "plot_graph(show_list,noshow_list)\n",
    "\n",
    "\n",
    "\n",
    "    "
   ]
  },
  {
   "cell_type": "markdown",
   "metadata": {},
   "source": [
    "Answer to question number 2:\n",
    "\n",
    "Jardim Camburi is busiest neighbourood of all with over 6000 appointment show ups and around 1500 no-show ups.The least among the 10 is Bonfim with over 2000 show-ups and around 500 no-show ups."
   ]
  },
  {
   "cell_type": "markdown",
   "metadata": {},
   "source": [
    "### Research Question 3- Which patient/condition is least likely to show up?"
   ]
  },
  {
   "cell_type": "code",
   "execution_count": 28,
   "metadata": {
    "scrolled": false
   },
   "outputs": [
    {
     "name": "stdout",
     "output_type": "stream",
     "text": [
      "No_show      Category     No   Yes  No_Show_Rate\n",
      "0          Alcoholism   2683   677         20.15\n",
      "1            Diabetes   6513  1430         18.00\n",
      "2            Handicap   2004   448         18.27\n",
      "3        Hypertension  18028  3772         17.30\n",
      "4         Scholarship   8238  2571         23.79\n"
     ]
    },
    {
     "data": {
      "image/png": "[encoded data removed]",
      "text/plain": [
       "<matplotlib.figure.Figure at 0x7f5fd7994da0>"
      ]
     },
     "metadata": {},
     "output_type": "display_data"
    }
   ],
   "source": [
    "#calculate show up count,no-show up and no-show rate(percentage) count for each condition\n",
    "#create a pivot table with the five columns of interest\n",
    "\n",
    "pv = noshow_df.pivot_table(values=[\"Diabetes\",\"Alcoholism\",\"Hypertension\",\"Handicap\",\"Scholarship\"],index='No_show',aggfunc=np.sum)\n",
    "\n",
    "#unstack the pivot table to a dataframe\n",
    "data = pv.unstack().unstack('No_show').reset_index().rename(columns={\"index\":\"Category\"})\n",
    "\n",
    "#add a column for the no-show percentage\n",
    "data[\"No_Show_Rate\"] = round(data['Yes'] / (data['Yes'] + data['No'])*100,2)\n",
    "\n",
    "print(data)\n",
    "pie_values=data[\"No_Show_Rate\"]\n",
    "\n",
    "obj=data['Category']\n",
    "explode = (0, 0, 0, 0,0.1)\n",
    "colors = ['gold', 'yellowgreen', 'lightcoral', 'lightskyblue','lightpink']\n",
    "plt.figure(figsize=(8,8))\n",
    "plt.pie(pie_values, explode=explode, labels=obj, colors=colors,autopct='%1.1f%%', shadow=True,startangle=140,center=(0,0))\n",
    "plt.title('No show rate based on condition',fontsize=25)\n",
    "plt.show()"
   ]
  },
  {
   "cell_type": "markdown",
   "metadata": {},
   "source": [
    "Answer to question number 3:\n",
    "\n",
    "From the pie chart we can see that patients who have enrolled for scholarship are very much likely to miss the appointments.\n",
    "Leaving scholarship and when we compare the four patient conditions, the alocoholic patients are the least likely to show up for the appointment.All four patients show a similar or lower percentage of not attending apppointments compared to the general population."
   ]
  },
  {
   "cell_type": "markdown",
   "metadata": {},
   "source": [
    "### Research Question 4 - Does long await affect patients show up?\n"
   ]
  },
  {
   "cell_type": "code",
   "execution_count": 29,
   "metadata": {
    "scrolled": false
   },
   "outputs": [],
   "source": [
    "'''To find answer for this question I've created a dataframe called duplicate_df that holds \n",
    "the waiting days, showup count and no-show count for each waiting day.'''\n",
    "\n",
    "#call the function to group the no-show dataframe(yes_df) by waiting days\n",
    "noshow_waitdays = groupby_func(yes_df,'Waiting_days')\n",
    "\n",
    "#call the function to group the show up dataframe(no_df) by waiting days\n",
    "show_waitdays = groupby_func(no_df,'Waiting_days')\n"
   ]
  },
  {
   "cell_type": "code",
   "execution_count": 30,
   "metadata": {},
   "outputs": [],
   "source": [
    "# convert the series object returned from the above function to dataframe and rename the column\n",
    "show_waitdays = show_waitdays.to_frame()\n",
    "show_waitdays.rename(columns={0:'show_count'},inplace=True)\n",
    "show_waitdays['waiting_days'] = show_waitdays.index\n",
    "\n",
    "noshow_waitdays = noshow_waitdays.to_frame()\n",
    "noshow_waitdays.rename(columns={0:'noshow_count'},inplace=True)\n",
    "noshow_waitdays['waiting_days']=noshow_waitdays.index\n"
   ]
  },
  {
   "cell_type": "code",
   "execution_count": 31,
   "metadata": {},
   "outputs": [
    {
     "name": "stdout",
     "output_type": "stream",
     "text": [
      "Null values count after merging:\n",
      "\n",
      "show_count       0\n",
      "waiting_days     0\n",
      "noshow_count    19\n",
      "dtype: int64\n"
     ]
    }
   ],
   "source": [
    "#Now merge the two dataframe using left join and store it in duplicate_df\n",
    "duplicate_df = show_waitdays.merge(noshow_waitdays,how='left')\n",
    "\n",
    "print('Null values count after merging:\\n' )\n",
    "print(duplicate_df.isnull().sum())\n",
    "duplicate_df.dropna(inplace=True)\n"
   ]
  },
  {
   "cell_type": "markdown",
   "metadata": {},
   "source": [
    "The null values are removed."
   ]
  },
  {
   "cell_type": "code",
   "execution_count": 32,
   "metadata": {},
   "outputs": [
    {
     "name": "stdout",
     "output_type": "stream",
     "text": [
      "show_count      0\n",
      "waiting_days    0\n",
      "noshow_count    0\n",
      "dtype: int64\n"
     ]
    }
   ],
   "source": [
    "#checkinf if the nill values are removed\n",
    "print(duplicate_df.isnull().sum())\n"
   ]
  },
  {
   "cell_type": "code",
   "execution_count": 33,
   "metadata": {},
   "outputs": [
    {
     "name": "stdout",
     "output_type": "stream",
     "text": [
      "   waiting_days  show_count  noshow_count  noshow_rate\n",
      "0             0       39364          2816     6.676150\n",
      "1             1        5051          1584    23.873399\n",
      "2             2        2016           621    23.549488\n",
      "3             3        4003          1209    23.196470\n",
      "4             4        2350           846    26.470588\n",
      "5             5        2975           975    24.683544\n",
      "6             6        3514          1271    26.562173\n",
      "7             7        1598           650    28.914591\n",
      "8             8        1134           429    27.447217\n",
      "9             9         928           432    31.764706\n"
     ]
    }
   ],
   "source": [
    "#change the noshow_count column back to int type(left join converted the noshow_count column to float) \n",
    "duplicate_df['noshow_count'] = duplicate_df['noshow_count'].astype(int)\n",
    "duplicate_df['noshow_rate'] = duplicate_df['noshow_count']/(duplicate_df['noshow_count']+duplicate_df['show_count'])*100\n",
    "\n",
    "#Reorder the columns for readability\n",
    "col_title = ['waiting_days','show_count','noshow_count','noshow_rate']\n",
    "duplicate_df = duplicate_df.reindex(columns=col_title)\n",
    "print(duplicate_df.head(10))\n"
   ]
  },
  {
   "cell_type": "code",
   "execution_count": 34,
   "metadata": {},
   "outputs": [
    {
     "data": {
      "text/html": [
       "<div>\n",
       "<style>\n",
       "    .dataframe thead tr:only-child th {\n",
       "        text-align: right;\n",
       "    }\n",
       "\n",
       "    .dataframe thead th {\n",
       "        text-align: left;\n",
       "    }\n",
       "\n",
       "    .dataframe tbody tr th {\n",
       "        vertical-align: top;\n",
       "    }\n",
       "</style>\n",
       "<table border=\"1\" class=\"dataframe\">\n",
       "  <thead>\n",
       "    <tr style=\"text-align: right;\">\n",
       "      <th></th>\n",
       "      <th>waiting_days</th>\n",
       "      <th>show_count</th>\n",
       "      <th>noshow_count</th>\n",
       "      <th>noshow_rate</th>\n",
       "    </tr>\n",
       "  </thead>\n",
       "  <tbody>\n",
       "    <tr>\n",
       "      <th>count</th>\n",
       "      <td>104.000000</td>\n",
       "      <td>104.000000</td>\n",
       "      <td>104.000000</td>\n",
       "      <td>104.000000</td>\n",
       "    </tr>\n",
       "    <tr>\n",
       "      <th>mean</th>\n",
       "      <td>56.125000</td>\n",
       "      <td>819.750000</td>\n",
       "      <td>208.336538</td>\n",
       "      <td>32.230763</td>\n",
       "    </tr>\n",
       "    <tr>\n",
       "      <th>std</th>\n",
       "      <td>39.833802</td>\n",
       "      <td>3908.027237</td>\n",
       "      <td>389.028828</td>\n",
       "      <td>9.587196</td>\n",
       "    </tr>\n",
       "    <tr>\n",
       "      <th>min</th>\n",
       "      <td>0.000000</td>\n",
       "      <td>1.000000</td>\n",
       "      <td>1.000000</td>\n",
       "      <td>6.676150</td>\n",
       "    </tr>\n",
       "    <tr>\n",
       "      <th>10%</th>\n",
       "      <td>10.300000</td>\n",
       "      <td>5.000000</td>\n",
       "      <td>3.000000</td>\n",
       "      <td>22.066667</td>\n",
       "    </tr>\n",
       "    <tr>\n",
       "      <th>20%</th>\n",
       "      <td>20.600000</td>\n",
       "      <td>12.800000</td>\n",
       "      <td>8.000000</td>\n",
       "      <td>25.172414</td>\n",
       "    </tr>\n",
       "    <tr>\n",
       "      <th>30%</th>\n",
       "      <td>30.900000</td>\n",
       "      <td>41.900000</td>\n",
       "      <td>15.900000</td>\n",
       "      <td>29.558126</td>\n",
       "    </tr>\n",
       "    <tr>\n",
       "      <th>40%</th>\n",
       "      <td>41.200000</td>\n",
       "      <td>58.000000</td>\n",
       "      <td>31.200000</td>\n",
       "      <td>30.786388</td>\n",
       "    </tr>\n",
       "    <tr>\n",
       "      <th>50%</th>\n",
       "      <td>51.500000</td>\n",
       "      <td>81.000000</td>\n",
       "      <td>40.000000</td>\n",
       "      <td>32.043586</td>\n",
       "    </tr>\n",
       "    <tr>\n",
       "      <th>60%</th>\n",
       "      <td>61.800000</td>\n",
       "      <td>145.000000</td>\n",
       "      <td>70.200000</td>\n",
       "      <td>33.333333</td>\n",
       "    </tr>\n",
       "    <tr>\n",
       "      <th>70%</th>\n",
       "      <td>72.100000</td>\n",
       "      <td>418.400000</td>\n",
       "      <td>215.900000</td>\n",
       "      <td>35.149290</td>\n",
       "    </tr>\n",
       "    <tr>\n",
       "      <th>80%</th>\n",
       "      <td>83.400000</td>\n",
       "      <td>698.000000</td>\n",
       "      <td>341.400000</td>\n",
       "      <td>36.769231</td>\n",
       "    </tr>\n",
       "    <tr>\n",
       "      <th>90%</th>\n",
       "      <td>101.700000</td>\n",
       "      <td>1134.700000</td>\n",
       "      <td>506.000000</td>\n",
       "      <td>39.314888</td>\n",
       "    </tr>\n",
       "    <tr>\n",
       "      <th>max</th>\n",
       "      <td>178.000000</td>\n",
       "      <td>39364.000000</td>\n",
       "      <td>2816.000000</td>\n",
       "      <td>75.000000</td>\n",
       "    </tr>\n",
       "  </tbody>\n",
       "</table>\n",
       "</div>"
      ],
      "text/plain": [
       "       waiting_days    show_count  noshow_count  noshow_rate\n",
       "count    104.000000    104.000000    104.000000   104.000000\n",
       "mean      56.125000    819.750000    208.336538    32.230763\n",
       "std       39.833802   3908.027237    389.028828     9.587196\n",
       "min        0.000000      1.000000      1.000000     6.676150\n",
       "10%       10.300000      5.000000      3.000000    22.066667\n",
       "20%       20.600000     12.800000      8.000000    25.172414\n",
       "30%       30.900000     41.900000     15.900000    29.558126\n",
       "40%       41.200000     58.000000     31.200000    30.786388\n",
       "50%       51.500000     81.000000     40.000000    32.043586\n",
       "60%       61.800000    145.000000     70.200000    33.333333\n",
       "70%       72.100000    418.400000    215.900000    35.149290\n",
       "80%       83.400000    698.000000    341.400000    36.769231\n",
       "90%      101.700000   1134.700000    506.000000    39.314888\n",
       "max      178.000000  39364.000000   2816.000000    75.000000"
      ]
     },
     "execution_count": 34,
     "metadata": {},
     "output_type": "execute_result"
    }
   ],
   "source": [
    "#find the percentile values and store it in a dataframe\n",
    "describe_df = duplicate_df.describe(percentiles=[.10,.20,.30,.40,.50,.60,.70,.80,.90])\n",
    "describe_df"
   ]
  },
  {
   "cell_type": "markdown",
   "metadata": {},
   "source": [
    "Answer to question number 4:\n",
    "\n",
    "From the above displayed data, we can clearly see that no-show up rate increases as the number of waiting days increases.So long await does affect the patients show up rate.\n",
    "We can also see that the show up count is high for the max waiting day, which means more patients make appointments way ahead."
   ]
  },
  {
   "cell_type": "code",
   "execution_count": 35,
   "metadata": {},
   "outputs": [
    {
     "name": "stdout",
     "output_type": "stream",
     "text": [
      "Index(['10%', '20%', '30%', '40%', '50%', '60%', '70%', '80%', '90%', 'max'], dtype='object')\n",
      "[22.066666666666666, 25.172413793103452, 29.55812574139976, 30.786388332856735, 32.043586265902476, 33.33333333333333, 35.14928960581135, 36.769230769230774, 39.31488801054018, 75.0]\n"
     ]
    }
   ],
   "source": [
    "#plot a line graph for th above data(answer to question 4)\n",
    "#create two list from the percentiles column and noshow rate column \n",
    "plot_df = describe_df.loc[['10%','20%','30%','40%','50%','60%','70%','80%','90%','max'],['noshow_rate']]\n",
    "xaxis=plot_df.index\n",
    "yaxis=plot_df['noshow_rate'].tolist()\n",
    "print(xaxis)\n",
    "print(yaxis)"
   ]
  },
  {
   "cell_type": "code",
   "execution_count": 36,
   "metadata": {},
   "outputs": [
    {
     "data": {
      "image/png": "[encoded data removed]",
      "text/plain": [
       "<matplotlib.figure.Figure at 0x7f5fd792f048>"
      ]
     },
     "metadata": {},
     "output_type": "display_data"
    }
   ],
   "source": [
    "#plot the line using matplotlib\n",
    "plt.figure(figsize=(12,5))\n",
    "plt.plot(xaxis,yaxis)\n",
    "plt.title('No-show rate over Wait days',fontsize=18)\n",
    "plt.xlabel('Wait Days')\n",
    "plt.ylabel('No Show Rate')\n",
    "plt.show()"
   ]
  },
  {
   "cell_type": "markdown",
   "metadata": {},
   "source": [
    "The longer the wait days between the scheduled date and appointment date the more the no show rate."
   ]
  },
  {
   "cell_type": "markdown",
   "metadata": {},
   "source": [
    "<a id='conclusions'></a>\n",
    "## Conclusions\n",
    "\n",
    "We have looked at most of the columns in our data set. \n",
    "\n",
    "    ❖First with this dataset we found that 79.74% of patients showed up for their appointment and 20.26% didn't show up.\n",
    "      Futhermore out of this 20.26%, female patients are the more likely to miss their appointments than the male patients.\n",
    "\n",
    "    ❖Then among the 80 neighbourhoods we found the top 10 neighbourhoods with high show up and no-show up.We come \n",
    "      to know the busiest neighbourhood with high show ups and no-show ups.\n",
    "\n",
    "    ❖Next we picked the four patient condition(Alcoholism,Hypertension,Diabetes and Handicap) along with scholarship \n",
    "      for analysis of no-show rate. Patients with scholarships are more likely to miss the appointment and next the\n",
    "      alcoholic patients.\n",
    "\n",
    "    ❖Lastly, we found that longer the days between scheduled date and appointment date the more the patients miss \n",
    "      their appointments.\n",
    "\n",
    "Eventhough we looked at lots of variables in the dataset, there are more variables that needs to be explored and analysed.The dataset contains a lot of information that will likely help us predict whether a patient will likely up or not. To device an accurate predictive model and to draw better conclusions, more in-depth analysis had to be done."
   ]
  },
  {
   "cell_type": "code",
   "execution_count": 37,
   "metadata": {},
   "outputs": [
    {
     "data": {
      "text/plain": [
       "0"
      ]
     },
     "execution_count": 37,
     "metadata": {},
     "output_type": "execute_result"
    }
   ],
   "source": [
    "from subprocess import call\n",
    "call(['python', '-m', 'nbconvert', 'Investigate_a_Dataset.ipynb'])"
   ]
  },
  {
   "cell_type": "code",
   "execution_count": null,
   "metadata": {},
   "outputs": [],
   "source": []
  },
  {
   "cell_type": "code",
   "execution_count": null,
   "metadata": {},
   "outputs": [],
   "source": []
  },
  {
   "cell_type": "code",
   "execution_count": null,
   "metadata": {},
   "outputs": [],
   "source": []
  },
  {
   "cell_type": "code",
   "execution_count": null,
   "metadata": {},
   "outputs": [],
   "source": []
  }
 ],
 "metadata": {
  "kernelspec": {
   "display_name": "Python 3",
   "language": "python",
   "name": "python3"
  },
  "language_info": {
   "codemirror_mode": {
    "name": "ipython",
    "version": 3
   },
   "file_extension": ".py",
   "mimetype": "text/x-python",
   "name": "python",
   "nbconvert_exporter": "python",
   "pygments_lexer": "ipython3",
   "version": "3.6.3"
  }
 },
 "nbformat": 4,
 "nbformat_minor": 2
}
