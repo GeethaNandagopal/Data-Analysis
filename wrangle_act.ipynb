{
 "cells": [
  {
   "cell_type": "markdown",
   "metadata": {},
   "source": [
    "## <center>Wrangle and Analysis of WeRateDogs Twitter Data </center>\n",
    "<center> by </center>\n",
    "<center>Geetha Nandagopal</center>\n",
    "\n",
    "**Project Intro:**<br>\n",
    "Goal of this project is to wrangle WeRateDogs Twitter data to create interesting and trustworthy analyses and visualizations.\n",
    "\n",
    "Steps involved:\n",
    "-  Gather - Gather data from three different source.\n",
    "-  Assess - Assess the gathered data visually and programmatically for atleast eight qualityissues and two tidiness issues.\n",
    "-  clean - Clean all issues identified in the assess phase.\n",
    "-  Storing, Analyzing, and Visualizing  the Data\n",
    "\n",
    "### Table of Contents\n",
    "-  [Gather](#gather)\n",
    "    \n",
    "-  [Assess](#assess)\n",
    "    -  [List of Quality and Tidiness Issues](#a)\n",
    "    \n",
    "-  [Clean](#clean)\n",
    "\n",
    "-  [Store, Analyze, and Visualize the Data](#store)\n",
    "    -  [Insights](#insights)\n",
    "        -  [Descriptive Statistical Analysis](#dsa)\n",
    "        -  [Which dog has the highest rating?](#dograting)\n",
    "        -  [Which tweet/dog is most popular with most favorite count?](#dogfav)\n",
    "        -  [which tweet/dog  has the most retweets?](#dogretweet)\n",
    "    -  [Visualization](#visual)\n",
    "        -  [Top 20 dog breeds by rating](#toprating)\n",
    "        -  [Top 20 dog breeds by favorite count](#topfav)\n",
    "        -  [Retweet and favorite count by dog stages](#dogstages)\n",
    "        -  [Which month has the most tweets?](#month)"
   ]
  },
  {
   "cell_type": "markdown",
   "metadata": {},
   "source": [
    "## Gather<a name=\"gather\"></a>"
   ]
  },
  {
   "cell_type": "code",
   "execution_count": 1,
   "metadata": {},
   "outputs": [
    {
     "data": {
      "text/html": [
       "<div>\n",
       "<style>\n",
       "    .dataframe thead tr:only-child th {\n",
       "        text-align: right;\n",
       "    }\n",
       "\n",
       "    .dataframe thead th {\n",
       "        text-align: left;\n",
       "    }\n",
       "\n",
       "    .dataframe tbody tr th {\n",
       "        vertical-align: top;\n",
       "    }\n",
       "</style>\n",
       "<table border=\"1\" class=\"dataframe\">\n",
       "  <thead>\n",
       "    <tr style=\"text-align: right;\">\n",
       "      <th></th>\n",
       "      <th>tweet_id</th>\n",
       "      <th>in_reply_to_status_id</th>\n",
       "      <th>in_reply_to_user_id</th>\n",
       "      <th>timestamp</th>\n",
       "      <th>source</th>\n",
       "      <th>text</th>\n",
       "      <th>retweeted_status_id</th>\n",
       "      <th>retweeted_status_user_id</th>\n",
       "      <th>retweeted_status_timestamp</th>\n",
       "      <th>expanded_urls</th>\n",
       "      <th>rating_numerator</th>\n",
       "      <th>rating_denominator</th>\n",
       "      <th>name</th>\n",
       "      <th>doggo</th>\n",
       "      <th>floofer</th>\n",
       "      <th>pupper</th>\n",
       "      <th>puppo</th>\n",
       "    </tr>\n",
       "  </thead>\n",
       "  <tbody>\n",
       "    <tr>\n",
       "      <th>0</th>\n",
       "      <td>892420643555336193</td>\n",
       "      <td>NaN</td>\n",
       "      <td>NaN</td>\n",
       "      <td>2017-08-01 16:23:56 +0000</td>\n",
       "      <td>&lt;a href=\"http://twitter.com/download/iphone\" r...</td>\n",
       "      <td>This is Phineas. He's a mystical boy. Only eve...</td>\n",
       "      <td>NaN</td>\n",
       "      <td>NaN</td>\n",
       "      <td>NaN</td>\n",
       "      <td>https://twitter.com/dog_rates/status/892420643...</td>\n",
       "      <td>13</td>\n",
       "      <td>10</td>\n",
       "      <td>Phineas</td>\n",
       "      <td>None</td>\n",
       "      <td>None</td>\n",
       "      <td>None</td>\n",
       "      <td>None</td>\n",
       "    </tr>\n",
       "    <tr>\n",
       "      <th>1</th>\n",
       "      <td>892177421306343426</td>\n",
       "      <td>NaN</td>\n",
       "      <td>NaN</td>\n",
       "      <td>2017-08-01 00:17:27 +0000</td>\n",
       "      <td>&lt;a href=\"http://twitter.com/download/iphone\" r...</td>\n",
       "      <td>This is Tilly. She's just checking pup on you....</td>\n",
       "      <td>NaN</td>\n",
       "      <td>NaN</td>\n",
       "      <td>NaN</td>\n",
       "      <td>https://twitter.com/dog_rates/status/892177421...</td>\n",
       "      <td>13</td>\n",
       "      <td>10</td>\n",
       "      <td>Tilly</td>\n",
       "      <td>None</td>\n",
       "      <td>None</td>\n",
       "      <td>None</td>\n",
       "      <td>None</td>\n",
       "    </tr>\n",
       "    <tr>\n",
       "      <th>2</th>\n",
       "      <td>891815181378084864</td>\n",
       "      <td>NaN</td>\n",
       "      <td>NaN</td>\n",
       "      <td>2017-07-31 00:18:03 +0000</td>\n",
       "      <td>&lt;a href=\"http://twitter.com/download/iphone\" r...</td>\n",
       "      <td>This is Archie. He is a rare Norwegian Pouncin...</td>\n",
       "      <td>NaN</td>\n",
       "      <td>NaN</td>\n",
       "      <td>NaN</td>\n",
       "      <td>https://twitter.com/dog_rates/status/891815181...</td>\n",
       "      <td>12</td>\n",
       "      <td>10</td>\n",
       "      <td>Archie</td>\n",
       "      <td>None</td>\n",
       "      <td>None</td>\n",
       "      <td>None</td>\n",
       "      <td>None</td>\n",
       "    </tr>\n",
       "    <tr>\n",
       "      <th>3</th>\n",
       "      <td>891689557279858688</td>\n",
       "      <td>NaN</td>\n",
       "      <td>NaN</td>\n",
       "      <td>2017-07-30 15:58:51 +0000</td>\n",
       "      <td>&lt;a href=\"http://twitter.com/download/iphone\" r...</td>\n",
       "      <td>This is Darla. She commenced a snooze mid meal...</td>\n",
       "      <td>NaN</td>\n",
       "      <td>NaN</td>\n",
       "      <td>NaN</td>\n",
       "      <td>https://twitter.com/dog_rates/status/891689557...</td>\n",
       "      <td>13</td>\n",
       "      <td>10</td>\n",
       "      <td>Darla</td>\n",
       "      <td>None</td>\n",
       "      <td>None</td>\n",
       "      <td>None</td>\n",
       "      <td>None</td>\n",
       "    </tr>\n",
       "    <tr>\n",
       "      <th>4</th>\n",
       "      <td>891327558926688256</td>\n",
       "      <td>NaN</td>\n",
       "      <td>NaN</td>\n",
       "      <td>2017-07-29 16:00:24 +0000</td>\n",
       "      <td>&lt;a href=\"http://twitter.com/download/iphone\" r...</td>\n",
       "      <td>This is Franklin. He would like you to stop ca...</td>\n",
       "      <td>NaN</td>\n",
       "      <td>NaN</td>\n",
       "      <td>NaN</td>\n",
       "      <td>https://twitter.com/dog_rates/status/891327558...</td>\n",
       "      <td>12</td>\n",
       "      <td>10</td>\n",
       "      <td>Franklin</td>\n",
       "      <td>None</td>\n",
       "      <td>None</td>\n",
       "      <td>None</td>\n",
       "      <td>None</td>\n",
       "    </tr>\n",
       "  </tbody>\n",
       "</table>\n",
       "</div>"
      ],
      "text/plain": [
       "             tweet_id  in_reply_to_status_id  in_reply_to_user_id  \\\n",
       "0  892420643555336193                    NaN                  NaN   \n",
       "1  892177421306343426                    NaN                  NaN   \n",
       "2  891815181378084864                    NaN                  NaN   \n",
       "3  891689557279858688                    NaN                  NaN   \n",
       "4  891327558926688256                    NaN                  NaN   \n",
       "\n",
       "                   timestamp  \\\n",
       "0  2017-08-01 16:23:56 +0000   \n",
       "1  2017-08-01 00:17:27 +0000   \n",
       "2  2017-07-31 00:18:03 +0000   \n",
       "3  2017-07-30 15:58:51 +0000   \n",
       "4  2017-07-29 16:00:24 +0000   \n",
       "\n",
       "                                              source  \\\n",
       "0  <a href=\"http://twitter.com/download/iphone\" r...   \n",
       "1  <a href=\"http://twitter.com/download/iphone\" r...   \n",
       "2  <a href=\"http://twitter.com/download/iphone\" r...   \n",
       "3  <a href=\"http://twitter.com/download/iphone\" r...   \n",
       "4  <a href=\"http://twitter.com/download/iphone\" r...   \n",
       "\n",
       "                                                text  retweeted_status_id  \\\n",
       "0  This is Phineas. He's a mystical boy. Only eve...                  NaN   \n",
       "1  This is Tilly. She's just checking pup on you....                  NaN   \n",
       "2  This is Archie. He is a rare Norwegian Pouncin...                  NaN   \n",
       "3  This is Darla. She commenced a snooze mid meal...                  NaN   \n",
       "4  This is Franklin. He would like you to stop ca...                  NaN   \n",
       "\n",
       "   retweeted_status_user_id retweeted_status_timestamp  \\\n",
       "0                       NaN                        NaN   \n",
       "1                       NaN                        NaN   \n",
       "2                       NaN                        NaN   \n",
       "3                       NaN                        NaN   \n",
       "4                       NaN                        NaN   \n",
       "\n",
       "                                       expanded_urls  rating_numerator  \\\n",
       "0  https://twitter.com/dog_rates/status/892420643...                13   \n",
       "1  https://twitter.com/dog_rates/status/892177421...                13   \n",
       "2  https://twitter.com/dog_rates/status/891815181...                12   \n",
       "3  https://twitter.com/dog_rates/status/891689557...                13   \n",
       "4  https://twitter.com/dog_rates/status/891327558...                12   \n",
       "\n",
       "   rating_denominator      name doggo floofer pupper puppo  \n",
       "0                  10   Phineas  None    None   None  None  \n",
       "1                  10     Tilly  None    None   None  None  \n",
       "2                  10    Archie  None    None   None  None  \n",
       "3                  10     Darla  None    None   None  None  \n",
       "4                  10  Franklin  None    None   None  None  "
      ]
     },
     "execution_count": 1,
     "metadata": {},
     "output_type": "execute_result"
    }
   ],
   "source": [
    "# import the necessary libraries\n",
    "\n",
    "import datetime as dt\n",
    "import pandas as pd\n",
    "import numpy as np\n",
    "import re\n",
    "import warnings\n",
    "import requests\n",
    "import tweepy\n",
    "import matplotlib.pyplot as plt\n",
    "%matplotlib inline\n",
    "\n",
    "archive_df = pd.read_csv('twitter-archive-enhanced.csv')\n",
    "archive_df.head()"
   ]
  },
  {
   "cell_type": "code",
   "execution_count": 2,
   "metadata": {},
   "outputs": [
    {
     "data": {
      "text/plain": [
       "<Response [200]>"
      ]
     },
     "execution_count": 2,
     "metadata": {},
     "output_type": "execute_result"
    }
   ],
   "source": [
    "# get image data using the url through requests library\n",
    "url='https://d17h27t6h515a5.cloudfront.net/topher/2017/August/599fd2ad_image-predictions/image-predictions.tsv'\n",
    "response = requests.get(url)\n",
    "response"
   ]
  },
  {
   "cell_type": "code",
   "execution_count": 3,
   "metadata": {},
   "outputs": [],
   "source": [
    "#get the contents from the response object returned from requests\n",
    "\n",
    "with open('image-predictions.tsv',mode='wb')as file:\n",
    "    file.write(response.content)"
   ]
  },
  {
   "cell_type": "code",
   "execution_count": 4,
   "metadata": {},
   "outputs": [],
   "source": [
    "#store the data in the image_file dataframe\n",
    "image_file=pd.read_csv('image-predictions.tsv',sep='\\t')"
   ]
  },
  {
   "cell_type": "code",
   "execution_count": 5,
   "metadata": {},
   "outputs": [
    {
     "data": {
      "text/html": [
       "<div>\n",
       "<style>\n",
       "    .dataframe thead tr:only-child th {\n",
       "        text-align: right;\n",
       "    }\n",
       "\n",
       "    .dataframe thead th {\n",
       "        text-align: left;\n",
       "    }\n",
       "\n",
       "    .dataframe tbody tr th {\n",
       "        vertical-align: top;\n",
       "    }\n",
       "</style>\n",
       "<table border=\"1\" class=\"dataframe\">\n",
       "  <thead>\n",
       "    <tr style=\"text-align: right;\">\n",
       "      <th></th>\n",
       "      <th>tweet_id</th>\n",
       "      <th>jpg_url</th>\n",
       "      <th>img_num</th>\n",
       "      <th>p1</th>\n",
       "      <th>p1_conf</th>\n",
       "      <th>p1_dog</th>\n",
       "      <th>p2</th>\n",
       "      <th>p2_conf</th>\n",
       "      <th>p2_dog</th>\n",
       "      <th>p3</th>\n",
       "      <th>p3_conf</th>\n",
       "      <th>p3_dog</th>\n",
       "    </tr>\n",
       "  </thead>\n",
       "  <tbody>\n",
       "    <tr>\n",
       "      <th>0</th>\n",
       "      <td>666020888022790149</td>\n",
       "      <td>https://pbs.twimg.com/media/CT4udn0WwAA0aMy.jpg</td>\n",
       "      <td>1</td>\n",
       "      <td>Welsh_springer_spaniel</td>\n",
       "      <td>0.465074</td>\n",
       "      <td>True</td>\n",
       "      <td>collie</td>\n",
       "      <td>0.156665</td>\n",
       "      <td>True</td>\n",
       "      <td>Shetland_sheepdog</td>\n",
       "      <td>0.061428</td>\n",
       "      <td>True</td>\n",
       "    </tr>\n",
       "    <tr>\n",
       "      <th>1</th>\n",
       "      <td>666029285002620928</td>\n",
       "      <td>https://pbs.twimg.com/media/CT42GRgUYAA5iDo.jpg</td>\n",
       "      <td>1</td>\n",
       "      <td>redbone</td>\n",
       "      <td>0.506826</td>\n",
       "      <td>True</td>\n",
       "      <td>miniature_pinscher</td>\n",
       "      <td>0.074192</td>\n",
       "      <td>True</td>\n",
       "      <td>Rhodesian_ridgeback</td>\n",
       "      <td>0.072010</td>\n",
       "      <td>True</td>\n",
       "    </tr>\n",
       "    <tr>\n",
       "      <th>2</th>\n",
       "      <td>666033412701032449</td>\n",
       "      <td>https://pbs.twimg.com/media/CT4521TWwAEvMyu.jpg</td>\n",
       "      <td>1</td>\n",
       "      <td>German_shepherd</td>\n",
       "      <td>0.596461</td>\n",
       "      <td>True</td>\n",
       "      <td>malinois</td>\n",
       "      <td>0.138584</td>\n",
       "      <td>True</td>\n",
       "      <td>bloodhound</td>\n",
       "      <td>0.116197</td>\n",
       "      <td>True</td>\n",
       "    </tr>\n",
       "    <tr>\n",
       "      <th>3</th>\n",
       "      <td>666044226329800704</td>\n",
       "      <td>https://pbs.twimg.com/media/CT5Dr8HUEAA-lEu.jpg</td>\n",
       "      <td>1</td>\n",
       "      <td>Rhodesian_ridgeback</td>\n",
       "      <td>0.408143</td>\n",
       "      <td>True</td>\n",
       "      <td>redbone</td>\n",
       "      <td>0.360687</td>\n",
       "      <td>True</td>\n",
       "      <td>miniature_pinscher</td>\n",
       "      <td>0.222752</td>\n",
       "      <td>True</td>\n",
       "    </tr>\n",
       "    <tr>\n",
       "      <th>4</th>\n",
       "      <td>666049248165822465</td>\n",
       "      <td>https://pbs.twimg.com/media/CT5IQmsXIAAKY4A.jpg</td>\n",
       "      <td>1</td>\n",
       "      <td>miniature_pinscher</td>\n",
       "      <td>0.560311</td>\n",
       "      <td>True</td>\n",
       "      <td>Rottweiler</td>\n",
       "      <td>0.243682</td>\n",
       "      <td>True</td>\n",
       "      <td>Doberman</td>\n",
       "      <td>0.154629</td>\n",
       "      <td>True</td>\n",
       "    </tr>\n",
       "  </tbody>\n",
       "</table>\n",
       "</div>"
      ],
      "text/plain": [
       "             tweet_id                                          jpg_url  \\\n",
       "0  666020888022790149  https://pbs.twimg.com/media/CT4udn0WwAA0aMy.jpg   \n",
       "1  666029285002620928  https://pbs.twimg.com/media/CT42GRgUYAA5iDo.jpg   \n",
       "2  666033412701032449  https://pbs.twimg.com/media/CT4521TWwAEvMyu.jpg   \n",
       "3  666044226329800704  https://pbs.twimg.com/media/CT5Dr8HUEAA-lEu.jpg   \n",
       "4  666049248165822465  https://pbs.twimg.com/media/CT5IQmsXIAAKY4A.jpg   \n",
       "\n",
       "   img_num                      p1   p1_conf  p1_dog                  p2  \\\n",
       "0        1  Welsh_springer_spaniel  0.465074    True              collie   \n",
       "1        1                 redbone  0.506826    True  miniature_pinscher   \n",
       "2        1         German_shepherd  0.596461    True            malinois   \n",
       "3        1     Rhodesian_ridgeback  0.408143    True             redbone   \n",
       "4        1      miniature_pinscher  0.560311    True          Rottweiler   \n",
       "\n",
       "    p2_conf  p2_dog                   p3   p3_conf  p3_dog  \n",
       "0  0.156665    True    Shetland_sheepdog  0.061428    True  \n",
       "1  0.074192    True  Rhodesian_ridgeback  0.072010    True  \n",
       "2  0.138584    True           bloodhound  0.116197    True  \n",
       "3  0.360687    True   miniature_pinscher  0.222752    True  \n",
       "4  0.243682    True             Doberman  0.154629    True  "
      ]
     },
     "execution_count": 5,
     "metadata": {},
     "output_type": "execute_result"
    }
   ],
   "source": [
    "image_file.head()"
   ]
  },
  {
   "cell_type": "code",
   "execution_count": 6,
   "metadata": {},
   "outputs": [
    {
     "data": {
      "text/plain": [
       "<tweepy.api.API at 0x7efd6a4c1278>"
      ]
     },
     "execution_count": 6,
     "metadata": {},
     "output_type": "execute_result"
    }
   ],
   "source": [
    "#get the authentication to access twitter data\n",
    "consumer_key=''\n",
    "consumer_secret=''\n",
    "access_token=''\n",
    "access_token_secret=''\n",
    "\n",
    "auth = tweepy.OAuthHandler(consumer_key,consumer_secret)\n",
    "auth.set_access_token(access_token,access_token_secret)\n",
    "\n",
    "api = tweepy.API(auth,parser=tweepy.parsers.JSONParser(),\n",
    "                 wait_on_rate_limit = True, wait_on_rate_limit_notify = True)\n",
    "api\n",
    "\n"
   ]
  },
  {
   "cell_type": "code",
   "execution_count": 7,
   "metadata": {},
   "outputs": [],
   "source": [
    "# set the variables\n",
    "samp=[]\n",
    "tweet_ids= archive_df['tweet_id']\n",
    "#len(tweet_ids)\n"
   ]
  },
  {
   "cell_type": "code",
   "execution_count": 8,
   "metadata": {},
   "outputs": [
    {
     "name": "stdout",
     "output_type": "stream",
     "text": [
      "error:888202515573088257\n",
      "error:873697596434513921\n",
      "error:869988702071779329\n",
      "error:866816280283807744\n",
      "error:861769973181624320\n",
      "error:845459076796616705\n",
      "error:842892208864923648\n",
      "error:837012587749474308\n",
      "error:827228250799742977\n",
      "error:802247111496568832\n",
      "error:775096608509886464\n",
      "Rate limit reached. Sleeping for: 712\n",
      "Rate limit reached. Sleeping for: 716\n"
     ]
    }
   ],
   "source": [
    "# read the data using twitter API and store it in a dictionary\n",
    "for i in tweet_ids:\n",
    "    try:\n",
    "        page = api.get_status(i,wait_on_rate_limit=True,\n",
    "                                wait_on_rate_limit_notify=True)\n",
    "        fav_count=page['favorite_count']\n",
    "        retweet_count= page['retweet_count']\n",
    "        samp.append({'tweet_id':i,\n",
    "                     'favorite_count': fav_count,\n",
    "                     'retweet_count':retweet_count})\n",
    "    except:\n",
    "        print('error:' +str(i))"
   ]
  },
  {
   "cell_type": "code",
   "execution_count": 9,
   "metadata": {},
   "outputs": [],
   "source": [
    "#copy the data from dictionary to 'tweet_json.txt'\n",
    "samp = pd.DataFrame(samp, columns=['tweet_id','favorite_count','retweet_count'])\n",
    "samp.to_csv('tweet_json.txt')"
   ]
  },
  {
   "cell_type": "code",
   "execution_count": 6,
   "metadata": {},
   "outputs": [
    {
     "name": "stdout",
     "output_type": "stream",
     "text": [
      "<class 'pandas.core.frame.DataFrame'>\n",
      "RangeIndex: 2345 entries, 0 to 2344\n",
      "Data columns (total 4 columns):\n",
      "Unnamed: 0        2345 non-null int64\n",
      "tweet_id          2345 non-null int64\n",
      "favorite_count    2345 non-null int64\n",
      "retweet_count     2345 non-null int64\n",
      "dtypes: int64(4)\n",
      "memory usage: 73.4 KB\n"
     ]
    }
   ],
   "source": [
    "#store the data from 'tweet_json' to tweet_df dataframe\n",
    "tweet_df = pd.read_csv('tweet_json.txt')\n",
    "tweet_df.info()"
   ]
  },
  {
   "cell_type": "code",
   "execution_count": 7,
   "metadata": {},
   "outputs": [
    {
     "data": {
      "text/plain": [
       "((2356, 17), (2075, 12), (2345, 4))"
      ]
     },
     "execution_count": 7,
     "metadata": {},
     "output_type": "execute_result"
    }
   ],
   "source": [
    "#shape of all three dataframes\n",
    "archive_df.shape,image_file.shape,tweet_df.shape"
   ]
  },
  {
   "cell_type": "markdown",
   "metadata": {},
   "source": [
    "## Assess <a name=\"assess\"></a>"
   ]
  },
  {
   "cell_type": "code",
   "execution_count": 8,
   "metadata": {},
   "outputs": [
    {
     "name": "stdout",
     "output_type": "stream",
     "text": [
      "<class 'pandas.core.frame.DataFrame'>\n",
      "RangeIndex: 2356 entries, 0 to 2355\n",
      "Data columns (total 17 columns):\n",
      "tweet_id                      2356 non-null int64\n",
      "in_reply_to_status_id         78 non-null float64\n",
      "in_reply_to_user_id           78 non-null float64\n",
      "timestamp                     2356 non-null object\n",
      "source                        2356 non-null object\n",
      "text                          2356 non-null object\n",
      "retweeted_status_id           181 non-null float64\n",
      "retweeted_status_user_id      181 non-null float64\n",
      "retweeted_status_timestamp    181 non-null object\n",
      "expanded_urls                 2297 non-null object\n",
      "rating_numerator              2356 non-null int64\n",
      "rating_denominator            2356 non-null int64\n",
      "name                          2356 non-null object\n",
      "doggo                         2356 non-null object\n",
      "floofer                       2356 non-null object\n",
      "pupper                        2356 non-null object\n",
      "puppo                         2356 non-null object\n",
      "dtypes: float64(4), int64(3), object(10)\n",
      "memory usage: 313.0+ KB\n"
     ]
    }
   ],
   "source": [
    "archive_df.info()"
   ]
  },
  {
   "cell_type": "code",
   "execution_count": 9,
   "metadata": {},
   "outputs": [
    {
     "name": "stdout",
     "output_type": "stream",
     "text": [
      "<class 'pandas.core.frame.DataFrame'>\n",
      "RangeIndex: 2075 entries, 0 to 2074\n",
      "Data columns (total 12 columns):\n",
      "tweet_id    2075 non-null int64\n",
      "jpg_url     2075 non-null object\n",
      "img_num     2075 non-null int64\n",
      "p1          2075 non-null object\n",
      "p1_conf     2075 non-null float64\n",
      "p1_dog      2075 non-null bool\n",
      "p2          2075 non-null object\n",
      "p2_conf     2075 non-null float64\n",
      "p2_dog      2075 non-null bool\n",
      "p3          2075 non-null object\n",
      "p3_conf     2075 non-null float64\n",
      "p3_dog      2075 non-null bool\n",
      "dtypes: bool(3), float64(3), int64(2), object(4)\n",
      "memory usage: 152.1+ KB\n"
     ]
    }
   ],
   "source": [
    "image_file.info()"
   ]
  },
  {
   "cell_type": "code",
   "execution_count": 10,
   "metadata": {},
   "outputs": [
    {
     "name": "stdout",
     "output_type": "stream",
     "text": [
      "<class 'pandas.core.frame.DataFrame'>\n",
      "RangeIndex: 2345 entries, 0 to 2344\n",
      "Data columns (total 4 columns):\n",
      "Unnamed: 0        2345 non-null int64\n",
      "tweet_id          2345 non-null int64\n",
      "favorite_count    2345 non-null int64\n",
      "retweet_count     2345 non-null int64\n",
      "dtypes: int64(4)\n",
      "memory usage: 73.4 KB\n"
     ]
    }
   ],
   "source": [
    "tweet_df.info()"
   ]
  },
  {
   "cell_type": "code",
   "execution_count": 11,
   "metadata": {},
   "outputs": [
    {
     "data": {
      "text/plain": [
       "None            745\n",
       "a                55\n",
       "Charlie          12\n",
       "Oliver           11\n",
       "Cooper           11\n",
       "Lucy             11\n",
       "Tucker           10\n",
       "Penny            10\n",
       "Lola             10\n",
       "Bo                9\n",
       "Winston           9\n",
       "Sadie             8\n",
       "the               8\n",
       "Bailey            7\n",
       "Daisy             7\n",
       "Buddy             7\n",
       "Toby              7\n",
       "an                7\n",
       "Dave              6\n",
       "Bella             6\n",
       "Jack              6\n",
       "Oscar             6\n",
       "Milo              6\n",
       "Scout             6\n",
       "Koda              6\n",
       "Rusty             6\n",
       "Stanley           6\n",
       "Jax               6\n",
       "Leo               6\n",
       "Chester           5\n",
       "               ... \n",
       "Lillie            1\n",
       "Dex               1\n",
       "Acro              1\n",
       "life              1\n",
       "Meatball          1\n",
       "Zoe               1\n",
       "Lucia             1\n",
       "Zuzu              1\n",
       "Sobe              1\n",
       "Nugget            1\n",
       "Iroh              1\n",
       "Aja               1\n",
       "Bloop             1\n",
       "Arlen             1\n",
       "Augie             1\n",
       "Covach            1\n",
       "Anna              1\n",
       "Jed               1\n",
       "Chuck             1\n",
       "Tove              1\n",
       "Duddles           1\n",
       "Dug               1\n",
       "Cleopatricia      1\n",
       "Teddy             1\n",
       "Longfellow        1\n",
       "Pancake           1\n",
       "Blipson           1\n",
       "Al                1\n",
       "Peanut            1\n",
       "Pluto             1\n",
       "Name: name, Length: 957, dtype: int64"
      ]
     },
     "execution_count": 11,
     "metadata": {},
     "output_type": "execute_result"
    }
   ],
   "source": [
    "archive_df.name.value_counts()"
   ]
  },
  {
   "cell_type": "code",
   "execution_count": 12,
   "metadata": {},
   "outputs": [
    {
     "data": {
      "text/plain": [
       "10     2333\n",
       "11        3\n",
       "50        3\n",
       "80        2\n",
       "20        2\n",
       "2         1\n",
       "16        1\n",
       "40        1\n",
       "70        1\n",
       "15        1\n",
       "90        1\n",
       "110       1\n",
       "120       1\n",
       "130       1\n",
       "150       1\n",
       "170       1\n",
       "7         1\n",
       "0         1\n",
       "Name: rating_denominator, dtype: int64"
      ]
     },
     "execution_count": 12,
     "metadata": {},
     "output_type": "execute_result"
    }
   ],
   "source": [
    "archive_df.rating_denominator.value_counts()"
   ]
  },
  {
   "cell_type": "code",
   "execution_count": 13,
   "metadata": {
    "scrolled": true
   },
   "outputs": [
    {
     "data": {
      "text/plain": [
       "12      558\n",
       "11      464\n",
       "10      461\n",
       "13      351\n",
       "9       158\n",
       "8       102\n",
       "7        55\n",
       "14       54\n",
       "5        37\n",
       "6        32\n",
       "3        19\n",
       "4        17\n",
       "1         9\n",
       "2         9\n",
       "420       2\n",
       "0         2\n",
       "15        2\n",
       "75        2\n",
       "80        1\n",
       "20        1\n",
       "24        1\n",
       "26        1\n",
       "44        1\n",
       "50        1\n",
       "60        1\n",
       "165       1\n",
       "84        1\n",
       "88        1\n",
       "144       1\n",
       "182       1\n",
       "143       1\n",
       "666       1\n",
       "960       1\n",
       "1776      1\n",
       "17        1\n",
       "27        1\n",
       "45        1\n",
       "99        1\n",
       "121       1\n",
       "204       1\n",
       "Name: rating_numerator, dtype: int64"
      ]
     },
     "execution_count": 13,
     "metadata": {},
     "output_type": "execute_result"
    }
   ],
   "source": [
    "archive_df.rating_numerator.value_counts()"
   ]
  },
  {
   "cell_type": "code",
   "execution_count": 14,
   "metadata": {},
   "outputs": [
    {
     "data": {
      "text/plain": [
       "<a href=\"http://twitter.com/download/iphone\" rel=\"nofollow\">Twitter for iPhone</a>     2221\n",
       "<a href=\"http://vine.co\" rel=\"nofollow\">Vine - Make a Scene</a>                          91\n",
       "<a href=\"http://twitter.com\" rel=\"nofollow\">Twitter Web Client</a>                       33\n",
       "<a href=\"https://about.twitter.com/products/tweetdeck\" rel=\"nofollow\">TweetDeck</a>      11\n",
       "Name: source, dtype: int64"
      ]
     },
     "execution_count": 14,
     "metadata": {},
     "output_type": "execute_result"
    }
   ],
   "source": [
    "archive_df.source.value_counts()"
   ]
  },
  {
   "cell_type": "markdown",
   "metadata": {},
   "source": [
    "## Quality and Tidiness Issues: <a name=\"a\"></a>\n"
   ]
  },
  {
   "cell_type": "markdown",
   "metadata": {},
   "source": [
    "<font color=blue>     \n",
    "### Quality Issues:<br>\n",
    "Identifying the issues with the content of the dataframes.\n",
    "\n",
    "-  change timestamp column from string object to datatime object.\n",
    "-  Parse the timestamp into date and time. Extract day, month, year from date and hour from time.\n",
    "-  Names of dogs mispelled in the name column.\n",
    "-  Missing values in 'name' and dog stages showing as 'None'\n",
    "-  Make the source column more readable.\n",
    "-  Fix the rating numerator by finding second occurences of ##/## and replacing. \n",
    "-  The retweeted_status_id shows there are 181 retweets. Exclude those retweets and keep only the original tweets.\n",
    "-  Exclude tweets with no images. Image dataframe has only 2075 rows and archive dataframe has 2376 rows.\n",
    "\n",
    "    \n",
    "### Tidiness:\n",
    "\n",
    "Identifying the issues with the structure of the dataset.\n",
    "\n",
    "-  Condense the dog stage into one column filled with values rather than four columns.\n",
    "-  Condense the dog breed predictions column to one column.\n",
    "-  There is no need for unnamed 0 column from image_df dataframe.\n",
    "-  Drop columns that are not needed & rearrange column order for an easier read\n",
    "-  Fix the column datatypes:\n",
    "    *  Rating columns need to be converted to float values.\n",
    "    *  tweet_id column  from int to string object.\n",
    "    *  img_num column from float to int"
   ]
  },
  {
   "cell_type": "markdown",
   "metadata": {},
   "source": [
    "## Clean the data: <a name=\"clean\"></a>\n"
   ]
  },
  {
   "cell_type": "code",
   "execution_count": 15,
   "metadata": {},
   "outputs": [],
   "source": [
    "# get a copy of each dataframe\n",
    "archive_clean = archive_df\n",
    "image_clean = image_file\n",
    "tweet_clean = tweet_df\n"
   ]
  },
  {
   "cell_type": "markdown",
   "metadata": {},
   "source": [
    "#### Define\n",
    "Changing timestamp datatype from string object to datetime object\n",
    "#### Code"
   ]
  },
  {
   "cell_type": "code",
   "execution_count": 16,
   "metadata": {},
   "outputs": [],
   "source": [
    "#change the timestamp datatype to datetime object\n",
    "archive_clean['timestamp'] =pd.to_datetime(archive_clean.timestamp)"
   ]
  },
  {
   "cell_type": "markdown",
   "metadata": {},
   "source": [
    "#### Test"
   ]
  },
  {
   "cell_type": "code",
   "execution_count": 17,
   "metadata": {},
   "outputs": [
    {
     "name": "stdout",
     "output_type": "stream",
     "text": [
      "<class 'pandas.core.frame.DataFrame'>\n",
      "RangeIndex: 2356 entries, 0 to 2355\n",
      "Data columns (total 17 columns):\n",
      "tweet_id                      2356 non-null int64\n",
      "in_reply_to_status_id         78 non-null float64\n",
      "in_reply_to_user_id           78 non-null float64\n",
      "timestamp                     2356 non-null datetime64[ns]\n",
      "source                        2356 non-null object\n",
      "text                          2356 non-null object\n",
      "retweeted_status_id           181 non-null float64\n",
      "retweeted_status_user_id      181 non-null float64\n",
      "retweeted_status_timestamp    181 non-null object\n",
      "expanded_urls                 2297 non-null object\n",
      "rating_numerator              2356 non-null int64\n",
      "rating_denominator            2356 non-null int64\n",
      "name                          2356 non-null object\n",
      "doggo                         2356 non-null object\n",
      "floofer                       2356 non-null object\n",
      "pupper                        2356 non-null object\n",
      "puppo                         2356 non-null object\n",
      "dtypes: datetime64[ns](1), float64(4), int64(3), object(9)\n",
      "memory usage: 313.0+ KB\n"
     ]
    }
   ],
   "source": [
    "# Test the timestamp column datatype\n",
    "archive_clean.info()\n"
   ]
  },
  {
   "cell_type": "markdown",
   "metadata": {},
   "source": [
    "**Define**\n",
    "\n",
    "Parse the timestamp column into date and time. Extract day of the week, month,year and hour repectively.\n",
    "\n",
    "**Code**"
   ]
  },
  {
   "cell_type": "code",
   "execution_count": 18,
   "metadata": {},
   "outputs": [],
   "source": [
    "#parse date and time for timestamp column\n",
    "import time\n",
    "archive_clean['date'] = pd.to_datetime(archive_clean['timestamp'].dt.date)\n",
    "archive_clean['time'] = pd.to_datetime(archive_clean['timestamp'].dt.time,format='%H:%M:%S')\n",
    "\n",
    "#extract hour from the time column\n",
    "archive_clean['hour'] = archive_clean.time.apply(lambda x: x.hour)\n",
    "\n",
    "#extract day, month and year from date column\n",
    "archive_clean['day'] = archive_clean['date'].dt.day\n",
    "archive_clean['month'] = archive_clean['date'].dt.month\n",
    "archive_clean['year'] = archive_clean['date'].dt.year"
   ]
  },
  {
   "cell_type": "code",
   "execution_count": 19,
   "metadata": {},
   "outputs": [
    {
     "name": "stdout",
     "output_type": "stream",
     "text": [
      "<class 'pandas.core.frame.DataFrame'>\n",
      "RangeIndex: 2356 entries, 0 to 2355\n",
      "Data columns (total 23 columns):\n",
      "tweet_id                      2356 non-null int64\n",
      "in_reply_to_status_id         78 non-null float64\n",
      "in_reply_to_user_id           78 non-null float64\n",
      "timestamp                     2356 non-null datetime64[ns]\n",
      "source                        2356 non-null object\n",
      "text                          2356 non-null object\n",
      "retweeted_status_id           181 non-null float64\n",
      "retweeted_status_user_id      181 non-null float64\n",
      "retweeted_status_timestamp    181 non-null object\n",
      "expanded_urls                 2297 non-null object\n",
      "rating_numerator              2356 non-null int64\n",
      "rating_denominator            2356 non-null int64\n",
      "name                          2356 non-null object\n",
      "doggo                         2356 non-null object\n",
      "floofer                       2356 non-null object\n",
      "pupper                        2356 non-null object\n",
      "puppo                         2356 non-null object\n",
      "date                          2356 non-null datetime64[ns]\n",
      "time                          2356 non-null datetime64[ns]\n",
      "hour                          2356 non-null int64\n",
      "day                           2356 non-null int64\n",
      "month                         2356 non-null int64\n",
      "year                          2356 non-null int64\n",
      "dtypes: datetime64[ns](3), float64(4), int64(7), object(9)\n",
      "memory usage: 423.4+ KB\n"
     ]
    }
   ],
   "source": [
    "archive_clean.info()"
   ]
  },
  {
   "cell_type": "markdown",
   "metadata": {},
   "source": [
    "We can delete the timestamp column from the dataframe as we no longer need that column "
   ]
  },
  {
   "cell_type": "code",
   "execution_count": 20,
   "metadata": {},
   "outputs": [],
   "source": [
    "archive_clean.drop('timestamp',axis=1,inplace=True)"
   ]
  },
  {
   "cell_type": "markdown",
   "metadata": {},
   "source": [
    "**Test**"
   ]
  },
  {
   "cell_type": "code",
   "execution_count": 21,
   "metadata": {},
   "outputs": [
    {
     "data": {
      "text/html": [
       "<div>\n",
       "<style>\n",
       "    .dataframe thead tr:only-child th {\n",
       "        text-align: right;\n",
       "    }\n",
       "\n",
       "    .dataframe thead th {\n",
       "        text-align: left;\n",
       "    }\n",
       "\n",
       "    .dataframe tbody tr th {\n",
       "        vertical-align: top;\n",
       "    }\n",
       "</style>\n",
       "<table border=\"1\" class=\"dataframe\">\n",
       "  <thead>\n",
       "    <tr style=\"text-align: right;\">\n",
       "      <th></th>\n",
       "      <th>tweet_id</th>\n",
       "      <th>in_reply_to_status_id</th>\n",
       "      <th>in_reply_to_user_id</th>\n",
       "      <th>source</th>\n",
       "      <th>text</th>\n",
       "      <th>retweeted_status_id</th>\n",
       "      <th>retweeted_status_user_id</th>\n",
       "      <th>retweeted_status_timestamp</th>\n",
       "      <th>expanded_urls</th>\n",
       "      <th>rating_numerator</th>\n",
       "      <th>...</th>\n",
       "      <th>doggo</th>\n",
       "      <th>floofer</th>\n",
       "      <th>pupper</th>\n",
       "      <th>puppo</th>\n",
       "      <th>date</th>\n",
       "      <th>time</th>\n",
       "      <th>hour</th>\n",
       "      <th>day</th>\n",
       "      <th>month</th>\n",
       "      <th>year</th>\n",
       "    </tr>\n",
       "  </thead>\n",
       "  <tbody>\n",
       "    <tr>\n",
       "      <th>0</th>\n",
       "      <td>892420643555336193</td>\n",
       "      <td>NaN</td>\n",
       "      <td>NaN</td>\n",
       "      <td>&lt;a href=\"http://twitter.com/download/iphone\" r...</td>\n",
       "      <td>This is Phineas. He's a mystical boy. Only eve...</td>\n",
       "      <td>NaN</td>\n",
       "      <td>NaN</td>\n",
       "      <td>NaN</td>\n",
       "      <td>https://twitter.com/dog_rates/status/892420643...</td>\n",
       "      <td>13</td>\n",
       "      <td>...</td>\n",
       "      <td>None</td>\n",
       "      <td>None</td>\n",
       "      <td>None</td>\n",
       "      <td>None</td>\n",
       "      <td>2017-08-01</td>\n",
       "      <td>1900-01-01 16:23:56</td>\n",
       "      <td>16</td>\n",
       "      <td>1</td>\n",
       "      <td>8</td>\n",
       "      <td>2017</td>\n",
       "    </tr>\n",
       "    <tr>\n",
       "      <th>1</th>\n",
       "      <td>892177421306343426</td>\n",
       "      <td>NaN</td>\n",
       "      <td>NaN</td>\n",
       "      <td>&lt;a href=\"http://twitter.com/download/iphone\" r...</td>\n",
       "      <td>This is Tilly. She's just checking pup on you....</td>\n",
       "      <td>NaN</td>\n",
       "      <td>NaN</td>\n",
       "      <td>NaN</td>\n",
       "      <td>https://twitter.com/dog_rates/status/892177421...</td>\n",
       "      <td>13</td>\n",
       "      <td>...</td>\n",
       "      <td>None</td>\n",
       "      <td>None</td>\n",
       "      <td>None</td>\n",
       "      <td>None</td>\n",
       "      <td>2017-08-01</td>\n",
       "      <td>1900-01-01 00:17:27</td>\n",
       "      <td>0</td>\n",
       "      <td>1</td>\n",
       "      <td>8</td>\n",
       "      <td>2017</td>\n",
       "    </tr>\n",
       "    <tr>\n",
       "      <th>2</th>\n",
       "      <td>891815181378084864</td>\n",
       "      <td>NaN</td>\n",
       "      <td>NaN</td>\n",
       "      <td>&lt;a href=\"http://twitter.com/download/iphone\" r...</td>\n",
       "      <td>This is Archie. He is a rare Norwegian Pouncin...</td>\n",
       "      <td>NaN</td>\n",
       "      <td>NaN</td>\n",
       "      <td>NaN</td>\n",
       "      <td>https://twitter.com/dog_rates/status/891815181...</td>\n",
       "      <td>12</td>\n",
       "      <td>...</td>\n",
       "      <td>None</td>\n",
       "      <td>None</td>\n",
       "      <td>None</td>\n",
       "      <td>None</td>\n",
       "      <td>2017-07-31</td>\n",
       "      <td>1900-01-01 00:18:03</td>\n",
       "      <td>0</td>\n",
       "      <td>31</td>\n",
       "      <td>7</td>\n",
       "      <td>2017</td>\n",
       "    </tr>\n",
       "    <tr>\n",
       "      <th>3</th>\n",
       "      <td>891689557279858688</td>\n",
       "      <td>NaN</td>\n",
       "      <td>NaN</td>\n",
       "      <td>&lt;a href=\"http://twitter.com/download/iphone\" r...</td>\n",
       "      <td>This is Darla. She commenced a snooze mid meal...</td>\n",
       "      <td>NaN</td>\n",
       "      <td>NaN</td>\n",
       "      <td>NaN</td>\n",
       "      <td>https://twitter.com/dog_rates/status/891689557...</td>\n",
       "      <td>13</td>\n",
       "      <td>...</td>\n",
       "      <td>None</td>\n",
       "      <td>None</td>\n",
       "      <td>None</td>\n",
       "      <td>None</td>\n",
       "      <td>2017-07-30</td>\n",
       "      <td>1900-01-01 15:58:51</td>\n",
       "      <td>15</td>\n",
       "      <td>30</td>\n",
       "      <td>7</td>\n",
       "      <td>2017</td>\n",
       "    </tr>\n",
       "    <tr>\n",
       "      <th>4</th>\n",
       "      <td>891327558926688256</td>\n",
       "      <td>NaN</td>\n",
       "      <td>NaN</td>\n",
       "      <td>&lt;a href=\"http://twitter.com/download/iphone\" r...</td>\n",
       "      <td>This is Franklin. He would like you to stop ca...</td>\n",
       "      <td>NaN</td>\n",
       "      <td>NaN</td>\n",
       "      <td>NaN</td>\n",
       "      <td>https://twitter.com/dog_rates/status/891327558...</td>\n",
       "      <td>12</td>\n",
       "      <td>...</td>\n",
       "      <td>None</td>\n",
       "      <td>None</td>\n",
       "      <td>None</td>\n",
       "      <td>None</td>\n",
       "      <td>2017-07-29</td>\n",
       "      <td>1900-01-01 16:00:24</td>\n",
       "      <td>16</td>\n",
       "      <td>29</td>\n",
       "      <td>7</td>\n",
       "      <td>2017</td>\n",
       "    </tr>\n",
       "  </tbody>\n",
       "</table>\n",
       "<p>5 rows × 22 columns</p>\n",
       "</div>"
      ],
      "text/plain": [
       "             tweet_id  in_reply_to_status_id  in_reply_to_user_id  \\\n",
       "0  892420643555336193                    NaN                  NaN   \n",
       "1  892177421306343426                    NaN                  NaN   \n",
       "2  891815181378084864                    NaN                  NaN   \n",
       "3  891689557279858688                    NaN                  NaN   \n",
       "4  891327558926688256                    NaN                  NaN   \n",
       "\n",
       "                                              source  \\\n",
       "0  <a href=\"http://twitter.com/download/iphone\" r...   \n",
       "1  <a href=\"http://twitter.com/download/iphone\" r...   \n",
       "2  <a href=\"http://twitter.com/download/iphone\" r...   \n",
       "3  <a href=\"http://twitter.com/download/iphone\" r...   \n",
       "4  <a href=\"http://twitter.com/download/iphone\" r...   \n",
       "\n",
       "                                                text  retweeted_status_id  \\\n",
       "0  This is Phineas. He's a mystical boy. Only eve...                  NaN   \n",
       "1  This is Tilly. She's just checking pup on you....                  NaN   \n",
       "2  This is Archie. He is a rare Norwegian Pouncin...                  NaN   \n",
       "3  This is Darla. She commenced a snooze mid meal...                  NaN   \n",
       "4  This is Franklin. He would like you to stop ca...                  NaN   \n",
       "\n",
       "   retweeted_status_user_id retweeted_status_timestamp  \\\n",
       "0                       NaN                        NaN   \n",
       "1                       NaN                        NaN   \n",
       "2                       NaN                        NaN   \n",
       "3                       NaN                        NaN   \n",
       "4                       NaN                        NaN   \n",
       "\n",
       "                                       expanded_urls  rating_numerator  ...   \\\n",
       "0  https://twitter.com/dog_rates/status/892420643...                13  ...    \n",
       "1  https://twitter.com/dog_rates/status/892177421...                13  ...    \n",
       "2  https://twitter.com/dog_rates/status/891815181...                12  ...    \n",
       "3  https://twitter.com/dog_rates/status/891689557...                13  ...    \n",
       "4  https://twitter.com/dog_rates/status/891327558...                12  ...    \n",
       "\n",
       "   doggo floofer pupper puppo       date                time hour day  month  \\\n",
       "0   None    None   None  None 2017-08-01 1900-01-01 16:23:56   16   1      8   \n",
       "1   None    None   None  None 2017-08-01 1900-01-01 00:17:27    0   1      8   \n",
       "2   None    None   None  None 2017-07-31 1900-01-01 00:18:03    0  31      7   \n",
       "3   None    None   None  None 2017-07-30 1900-01-01 15:58:51   15  30      7   \n",
       "4   None    None   None  None 2017-07-29 1900-01-01 16:00:24   16  29      7   \n",
       "\n",
       "   year  \n",
       "0  2017  \n",
       "1  2017  \n",
       "2  2017  \n",
       "3  2017  \n",
       "4  2017  \n",
       "\n",
       "[5 rows x 22 columns]"
      ]
     },
     "execution_count": 21,
     "metadata": {},
     "output_type": "execute_result"
    }
   ],
   "source": [
    "archive_clean.head()"
   ]
  },
  {
   "cell_type": "markdown",
   "metadata": {},
   "source": [
    "####  Define\n",
    "Dog names mispelled/missing. The dog name that are starting with lowercase letters doesn't seem to be actual names.\n",
    "Replace them with Nan.\n",
    "#### Code"
   ]
  },
  {
   "cell_type": "code",
   "execution_count": 22,
   "metadata": {},
   "outputs": [
    {
     "name": "stdout",
     "output_type": "stream",
     "text": [
      "22            such\n",
      "56               a\n",
      "118          quite\n",
      "169          quite\n",
      "193          quite\n",
      "335            not\n",
      "369            one\n",
      "542     incredibly\n",
      "649              a\n",
      "682            mad\n",
      "759             an\n",
      "773           very\n",
      "801              a\n",
      "819           very\n",
      "822           just\n",
      "852             my\n",
      "924            one\n",
      "988            not\n",
      "992            his\n",
      "993            one\n",
      "1002             a\n",
      "1004             a\n",
      "1017             a\n",
      "1025            an\n",
      "1031          very\n",
      "1040      actually\n",
      "1049             a\n",
      "1063          just\n",
      "1071       getting\n",
      "1095           mad\n",
      "           ...    \n",
      "2191             a\n",
      "2198             a\n",
      "2204            an\n",
      "2211             a\n",
      "2212           the\n",
      "2218             a\n",
      "2222             a\n",
      "2235             a\n",
      "2249             a\n",
      "2255             a\n",
      "2264             a\n",
      "2273             a\n",
      "2287             a\n",
      "2304             a\n",
      "2311             a\n",
      "2314             a\n",
      "2326         quite\n",
      "2327             a\n",
      "2333            an\n",
      "2334             a\n",
      "2335            an\n",
      "2345           the\n",
      "2346           the\n",
      "2347             a\n",
      "2348             a\n",
      "2349            an\n",
      "2350             a\n",
      "2352             a\n",
      "2353             a\n",
      "2354             a\n",
      "Name: name, Length: 109, dtype: object\n"
     ]
    }
   ],
   "source": [
    "# check and display names with lower cases\n",
    "faulty_names = archive_clean[archive_clean.name.str.islower()].name\n",
    "print(faulty_names)"
   ]
  },
  {
   "cell_type": "markdown",
   "metadata": {},
   "source": [
    "As these don't look like names, we can replace them name with Nan."
   ]
  },
  {
   "cell_type": "code",
   "execution_count": 23,
   "metadata": {},
   "outputs": [],
   "source": [
    "#replace them with nan\n",
    "archive_clean['name'].replace(archive_clean[archive_clean.name.str.islower()].name ,np.nan, inplace=True)\n",
    "#archive_clean['name'].replace('None',np.nan,inplace= True)"
   ]
  },
  {
   "cell_type": "markdown",
   "metadata": {},
   "source": [
    "#### Test"
   ]
  },
  {
   "cell_type": "code",
   "execution_count": 24,
   "metadata": {},
   "outputs": [
    {
     "data": {
      "text/plain": [
       "True"
      ]
     },
     "execution_count": 24,
     "metadata": {},
     "output_type": "execute_result"
    }
   ],
   "source": [
    "#test if the names have been replaced\n",
    "len(archive_clean[archive_clean.name.isnull()]) == len(faulty_names)"
   ]
  },
  {
   "cell_type": "markdown",
   "metadata": {},
   "source": [
    "** Define **<br>\n",
    "\n",
    "Replace the 'None' with Nan.\n",
    "\n",
    "**Code**"
   ]
  },
  {
   "cell_type": "code",
   "execution_count": 25,
   "metadata": {},
   "outputs": [
    {
     "data": {
      "text/plain": [
       "None            745\n",
       "Charlie          12\n",
       "Cooper           11\n",
       "Lucy             11\n",
       "Oliver           11\n",
       "Penny            10\n",
       "Tucker           10\n",
       "Lola             10\n",
       "Winston           9\n",
       "Bo                9\n",
       "Sadie             8\n",
       "Daisy             7\n",
       "Toby              7\n",
       "Bailey            7\n",
       "Buddy             7\n",
       "Rusty             6\n",
       "Jack              6\n",
       "Dave              6\n",
       "Koda              6\n",
       "Milo              6\n",
       "Jax               6\n",
       "Leo               6\n",
       "Oscar             6\n",
       "Stanley           6\n",
       "Scout             6\n",
       "Bella             6\n",
       "Oakley            5\n",
       "Alfie             5\n",
       "Finn              5\n",
       "Louis             5\n",
       "               ... \n",
       "Orion             1\n",
       "Mutt              1\n",
       "Mollie            1\n",
       "Lillie            1\n",
       "Dex               1\n",
       "Acro              1\n",
       "Shiloh            1\n",
       "Lucia             1\n",
       "Tove              1\n",
       "Peanut            1\n",
       "Rufio             1\n",
       "Nugget            1\n",
       "Iroh              1\n",
       "Bloop             1\n",
       "Arlen             1\n",
       "Augie             1\n",
       "Covach            1\n",
       "Anna              1\n",
       "Jed               1\n",
       "Sobe              1\n",
       "Chuck             1\n",
       "Duddles           1\n",
       "Dug               1\n",
       "Cleopatricia      1\n",
       "Teddy             1\n",
       "Longfellow        1\n",
       "Pancake           1\n",
       "Blipson           1\n",
       "Al                1\n",
       "Pluto             1\n",
       "Name: name, Length: 932, dtype: int64"
      ]
     },
     "execution_count": 25,
     "metadata": {},
     "output_type": "execute_result"
    }
   ],
   "source": [
    "# look for missing names\n",
    "archive_clean.name.value_counts()"
   ]
  },
  {
   "cell_type": "code",
   "execution_count": 26,
   "metadata": {},
   "outputs": [],
   "source": [
    "# Replace 'None' with Nan\n",
    "archive_clean['name'].replace('None',np.nan,inplace= True)"
   ]
  },
  {
   "cell_type": "markdown",
   "metadata": {},
   "source": [
    "** Test **"
   ]
  },
  {
   "cell_type": "code",
   "execution_count": 27,
   "metadata": {},
   "outputs": [
    {
     "data": {
      "text/html": [
       "<div>\n",
       "<style>\n",
       "    .dataframe thead tr:only-child th {\n",
       "        text-align: right;\n",
       "    }\n",
       "\n",
       "    .dataframe thead th {\n",
       "        text-align: left;\n",
       "    }\n",
       "\n",
       "    .dataframe tbody tr th {\n",
       "        vertical-align: top;\n",
       "    }\n",
       "</style>\n",
       "<table border=\"1\" class=\"dataframe\">\n",
       "  <thead>\n",
       "    <tr style=\"text-align: right;\">\n",
       "      <th></th>\n",
       "      <th>tweet_id</th>\n",
       "      <th>in_reply_to_status_id</th>\n",
       "      <th>in_reply_to_user_id</th>\n",
       "      <th>source</th>\n",
       "      <th>text</th>\n",
       "      <th>retweeted_status_id</th>\n",
       "      <th>retweeted_status_user_id</th>\n",
       "      <th>retweeted_status_timestamp</th>\n",
       "      <th>expanded_urls</th>\n",
       "      <th>rating_numerator</th>\n",
       "      <th>...</th>\n",
       "      <th>doggo</th>\n",
       "      <th>floofer</th>\n",
       "      <th>pupper</th>\n",
       "      <th>puppo</th>\n",
       "      <th>date</th>\n",
       "      <th>time</th>\n",
       "      <th>hour</th>\n",
       "      <th>day</th>\n",
       "      <th>month</th>\n",
       "      <th>year</th>\n",
       "    </tr>\n",
       "  </thead>\n",
       "  <tbody>\n",
       "  </tbody>\n",
       "</table>\n",
       "<p>0 rows × 22 columns</p>\n",
       "</div>"
      ],
      "text/plain": [
       "Empty DataFrame\n",
       "Columns: [tweet_id, in_reply_to_status_id, in_reply_to_user_id, source, text, retweeted_status_id, retweeted_status_user_id, retweeted_status_timestamp, expanded_urls, rating_numerator, rating_denominator, name, doggo, floofer, pupper, puppo, date, time, hour, day, month, year]\n",
       "Index: []\n",
       "\n",
       "[0 rows x 22 columns]"
      ]
     },
     "execution_count": 27,
     "metadata": {},
     "output_type": "execute_result"
    }
   ],
   "source": [
    "# test if 'None is replaced with nan\n",
    "archive_clean[archive_clean.name == 'None']"
   ]
  },
  {
   "cell_type": "markdown",
   "metadata": {},
   "source": [
    "####  Define\n",
    "\n",
    "Make the source column values more readable by deleting the url\n",
    "#### Code"
   ]
  },
  {
   "cell_type": "code",
   "execution_count": 28,
   "metadata": {},
   "outputs": [],
   "source": [
    "# make the source column more readble\n",
    "archive_clean['source'].replace('<a href=\"http://twitter.com/download/iphone\" rel=\"nofollow\">Twitter for iPhone</a>',\n",
    "                                'iPhone',inplace=True)\n",
    "\n",
    "archive_clean['source'].replace('<a href=\"http://vine.co\" rel=\"nofollow\">Vine - Make a Scene</a>',\n",
    "                                'Vine - Make a Scene',inplace=True)\n",
    "\n",
    "archive_clean['source'].replace('<a href=\"http://twitter.com\" rel=\"nofollow\">Twitter Web Client</a>',\n",
    "                                'Twitter Web Client',inplace=True)\n",
    "\n",
    "archive_clean['source'].replace('<a href=\"https://about.twitter.com/products/tweetdeck\" rel=\"nofollow\">TweetDeck</a>',\n",
    "                                'TweetDeck',inplace=True)"
   ]
  },
  {
   "cell_type": "markdown",
   "metadata": {},
   "source": [
    "#### Test"
   ]
  },
  {
   "cell_type": "code",
   "execution_count": 29,
   "metadata": {},
   "outputs": [
    {
     "data": {
      "text/plain": [
       "iPhone                 2221\n",
       "Vine - Make a Scene      91\n",
       "Twitter Web Client       33\n",
       "TweetDeck                11\n",
       "Name: source, dtype: int64"
      ]
     },
     "execution_count": 29,
     "metadata": {},
     "output_type": "execute_result"
    }
   ],
   "source": [
    "archive_clean.source.value_counts()"
   ]
  },
  {
   "cell_type": "markdown",
   "metadata": {},
   "source": [
    "####  Define\n",
    "Tweet's text with more than one occurences of ##/## has the rating numerator wrong. Fix the numerator by finding the second occurence of ##/##  and replace the numerator.\n",
    "#### Code"
   ]
  },
  {
   "cell_type": "code",
   "execution_count": 30,
   "metadata": {},
   "outputs": [
    {
     "data": {
      "text/html": [
       "<div>\n",
       "<style>\n",
       "    .dataframe thead tr:only-child th {\n",
       "        text-align: right;\n",
       "    }\n",
       "\n",
       "    .dataframe thead th {\n",
       "        text-align: left;\n",
       "    }\n",
       "\n",
       "    .dataframe tbody tr th {\n",
       "        vertical-align: top;\n",
       "    }\n",
       "</style>\n",
       "<table border=\"1\" class=\"dataframe\">\n",
       "  <thead>\n",
       "    <tr style=\"text-align: right;\">\n",
       "      <th></th>\n",
       "      <th></th>\n",
       "      <th>0</th>\n",
       "    </tr>\n",
       "    <tr>\n",
       "      <th></th>\n",
       "      <th>match</th>\n",
       "      <th></th>\n",
       "    </tr>\n",
       "  </thead>\n",
       "  <tbody>\n",
       "    <tr>\n",
       "      <th>55</th>\n",
       "      <th>0</th>\n",
       "      <td>17/10 is an emotional impulse rating. More lik...</td>\n",
       "    </tr>\n",
       "    <tr>\n",
       "      <th>313</th>\n",
       "      <th>0</th>\n",
       "      <td>960/00 isn't a valid rating, 13/10</td>\n",
       "    </tr>\n",
       "    <tr>\n",
       "      <th>561</th>\n",
       "      <th>0</th>\n",
       "      <td>12/10 and 11/10</td>\n",
       "    </tr>\n",
       "    <tr>\n",
       "      <th>766</th>\n",
       "      <th>0</th>\n",
       "      <td>12/10 and 11/10</td>\n",
       "    </tr>\n",
       "    <tr>\n",
       "      <th>784</th>\n",
       "      <th>0</th>\n",
       "      <td>9/11 search dog, and our second ever 14/10.</td>\n",
       "    </tr>\n",
       "    <tr>\n",
       "      <th>860</th>\n",
       "      <th>0</th>\n",
       "      <td>8/10 (would b 11/10</td>\n",
       "    </tr>\n",
       "    <tr>\n",
       "      <th>1007</th>\n",
       "      <th>0</th>\n",
       "      <td>10/10 and 7/10</td>\n",
       "    </tr>\n",
       "    <tr>\n",
       "      <th>1068</th>\n",
       "      <th>0</th>\n",
       "      <td>9/11 search dog, and our second ever 14/10.</td>\n",
       "    </tr>\n",
       "    <tr>\n",
       "      <th>1165</th>\n",
       "      <th>0</th>\n",
       "      <td>4/20 from the squad! 13/10</td>\n",
       "    </tr>\n",
       "    <tr>\n",
       "      <th>1202</th>\n",
       "      <th>0</th>\n",
       "      <td>50/50. Amazed af. 11/10</td>\n",
       "    </tr>\n",
       "    <tr>\n",
       "      <th>1222</th>\n",
       "      <th>0</th>\n",
       "      <td>10/10 &amp;amp; 8/10</td>\n",
       "    </tr>\n",
       "    <tr>\n",
       "      <th>1359</th>\n",
       "      <th>0</th>\n",
       "      <td>9/10 and 2/10</td>\n",
       "    </tr>\n",
       "    <tr>\n",
       "      <th>1459</th>\n",
       "      <th>0</th>\n",
       "      <td>4/10 for Charles the puppy, 13/10</td>\n",
       "    </tr>\n",
       "    <tr>\n",
       "      <th>1465</th>\n",
       "      <th>0</th>\n",
       "      <td>10/10 &amp;amp; 5/10</td>\n",
       "    </tr>\n",
       "    <tr>\n",
       "      <th>1508</th>\n",
       "      <th>0</th>\n",
       "      <td>5/10 &amp;amp; 10/10</td>\n",
       "    </tr>\n",
       "    <tr>\n",
       "      <th>1525</th>\n",
       "      <th>0</th>\n",
       "      <td>10/10 for Eriq\\n6/10</td>\n",
       "    </tr>\n",
       "    <tr>\n",
       "      <th>1538</th>\n",
       "      <th>0</th>\n",
       "      <td>11/10 &amp;amp; 10/10</td>\n",
       "    </tr>\n",
       "    <tr>\n",
       "      <th>1662</th>\n",
       "      <th>0</th>\n",
       "      <td>7/11 and is in a high speed police chase. Was ...</td>\n",
       "    </tr>\n",
       "    <tr>\n",
       "      <th>1795</th>\n",
       "      <th>0</th>\n",
       "      <td>10/10 &amp;amp; 11/10</td>\n",
       "    </tr>\n",
       "    <tr>\n",
       "      <th>1832</th>\n",
       "      <th>0</th>\n",
       "      <td>10/10 and 7/10</td>\n",
       "    </tr>\n",
       "    <tr>\n",
       "      <th>1897</th>\n",
       "      <th>0</th>\n",
       "      <td>10/10 &amp;amp; 4/10</td>\n",
       "    </tr>\n",
       "    <tr>\n",
       "      <th>1901</th>\n",
       "      <th>0</th>\n",
       "      <td>5/10 &amp;amp; 8/10</td>\n",
       "    </tr>\n",
       "    <tr>\n",
       "      <th>1970</th>\n",
       "      <th>0</th>\n",
       "      <td>8/10 (would b 11/10</td>\n",
       "    </tr>\n",
       "    <tr>\n",
       "      <th>2010</th>\n",
       "      <th>0</th>\n",
       "      <td>10/10 for dog. 7/10</td>\n",
       "    </tr>\n",
       "    <tr>\n",
       "      <th>2064</th>\n",
       "      <th>0</th>\n",
       "      <td>11/10 &amp;amp; 8/10</td>\n",
       "    </tr>\n",
       "    <tr>\n",
       "      <th>2113</th>\n",
       "      <th>0</th>\n",
       "      <td>11/10 and 8/10</td>\n",
       "    </tr>\n",
       "    <tr>\n",
       "      <th>2177</th>\n",
       "      <th>0</th>\n",
       "      <td>10/10 &amp;amp; 7/10</td>\n",
       "    </tr>\n",
       "    <tr>\n",
       "      <th>2216</th>\n",
       "      <th>0</th>\n",
       "      <td>8/10&amp;amp;1/10</td>\n",
       "    </tr>\n",
       "    <tr>\n",
       "      <th>2263</th>\n",
       "      <th>0</th>\n",
       "      <td>10/10 or 4/10</td>\n",
       "    </tr>\n",
       "    <tr>\n",
       "      <th>2272</th>\n",
       "      <th>0</th>\n",
       "      <td>7/10 and 8/10</td>\n",
       "    </tr>\n",
       "    <tr>\n",
       "      <th>2298</th>\n",
       "      <th>0</th>\n",
       "      <td>10/10. I repeat 10/10</td>\n",
       "    </tr>\n",
       "    <tr>\n",
       "      <th>2306</th>\n",
       "      <th>0</th>\n",
       "      <td>10/10 &amp;amp; 10/10</td>\n",
       "    </tr>\n",
       "    <tr>\n",
       "      <th>2335</th>\n",
       "      <th>0</th>\n",
       "      <td>1/2 legged  Episcopalian. Loves well-polished ...</td>\n",
       "    </tr>\n",
       "  </tbody>\n",
       "</table>\n",
       "</div>"
      ],
      "text/plain": [
       "                                                            0\n",
       "     match                                                   \n",
       "55   0      17/10 is an emotional impulse rating. More lik...\n",
       "313  0                     960/00 isn't a valid rating, 13/10\n",
       "561  0                                        12/10 and 11/10\n",
       "766  0                                        12/10 and 11/10\n",
       "784  0            9/11 search dog, and our second ever 14/10.\n",
       "860  0                                    8/10 (would b 11/10\n",
       "1007 0                                         10/10 and 7/10\n",
       "1068 0            9/11 search dog, and our second ever 14/10.\n",
       "1165 0                             4/20 from the squad! 13/10\n",
       "1202 0                                50/50. Amazed af. 11/10\n",
       "1222 0                                       10/10 &amp; 8/10\n",
       "1359 0                                          9/10 and 2/10\n",
       "1459 0                      4/10 for Charles the puppy, 13/10\n",
       "1465 0                                       10/10 &amp; 5/10\n",
       "1508 0                                       5/10 &amp; 10/10\n",
       "1525 0                                   10/10 for Eriq\\n6/10\n",
       "1538 0                                      11/10 &amp; 10/10\n",
       "1662 0      7/11 and is in a high speed police chase. Was ...\n",
       "1795 0                                      10/10 &amp; 11/10\n",
       "1832 0                                         10/10 and 7/10\n",
       "1897 0                                       10/10 &amp; 4/10\n",
       "1901 0                                        5/10 &amp; 8/10\n",
       "1970 0                                    8/10 (would b 11/10\n",
       "2010 0                                    10/10 for dog. 7/10\n",
       "2064 0                                       11/10 &amp; 8/10\n",
       "2113 0                                         11/10 and 8/10\n",
       "2177 0                                       10/10 &amp; 7/10\n",
       "2216 0                                          8/10&amp;1/10\n",
       "2263 0                                          10/10 or 4/10\n",
       "2272 0                                          7/10 and 8/10\n",
       "2298 0                                  10/10. I repeat 10/10\n",
       "2306 0                                      10/10 &amp; 10/10\n",
       "2335 0      1/2 legged  Episcopalian. Loves well-polished ..."
      ]
     },
     "execution_count": 30,
     "metadata": {},
     "output_type": "execute_result"
    }
   ],
   "source": [
    "# find the tweets with more than one occurences of ##/##\n",
    "archive_clean.text.str.extractall( r\"(\\d+\\.?\\d*\\/\\d+\\.?\\d*\\D+\\d+\\.?\\d*\\/\\d+\\.?\\d*)\")\n"
   ]
  },
  {
   "cell_type": "code",
   "execution_count": 31,
   "metadata": {},
   "outputs": [],
   "source": [
    "#save the tweet_id's of the above result\n",
    "warnings.filterwarnings(\"ignore\", 'This pattern has match groups')\n",
    "faulty_rating_id = archive_clean[archive_clean.text.str.contains( r\"(\\d+\\.?\\d*\\/\\d+\\.?\\d*\\D+\\d+\\.?\\d*\\/\\d+\\.?\\d*)\")].tweet_id\n"
   ]
  },
  {
   "cell_type": "markdown",
   "metadata": {},
   "source": [
    "The tweets with the above tweet id's have more than one occurences ##/##. Let me find the second occurence and change the numerator.\n"
   ]
  },
  {
   "cell_type": "code",
   "execution_count": 32,
   "metadata": {},
   "outputs": [],
   "source": [
    "\n",
    "for ids in faulty_rating_id:\n",
    "    txt = archive_clean[archive_clean.tweet_id == ids].text\n",
    "    #print(txt)\n",
    "    rating_list = txt.str.findall(r\"\\d+\\.?\\d*\\/\\d+\\.?\\d*\\D+(\\d+\\.?\\d*)\\/\\d+\\.?\\d*\")\n",
    "    archive_clean.loc[archive_clean.tweet_id == ids,'rating_numerator'] = rating_list.values[0]\n",
    "    archive_clean.loc[archive_clean.tweet_id == ids,'rating_denominator'] = 10  "
   ]
  },
  {
   "cell_type": "markdown",
   "metadata": {},
   "source": [
    "#### Test"
   ]
  },
  {
   "cell_type": "code",
   "execution_count": 33,
   "metadata": {},
   "outputs": [
    {
     "name": "stdout",
     "output_type": "stream",
     "text": [
      "<class 'pandas.core.frame.DataFrame'>\n",
      "RangeIndex: 2356 entries, 0 to 2355\n",
      "Data columns (total 22 columns):\n",
      "tweet_id                      2356 non-null int64\n",
      "in_reply_to_status_id         78 non-null float64\n",
      "in_reply_to_user_id           78 non-null float64\n",
      "source                        2356 non-null object\n",
      "text                          2356 non-null object\n",
      "retweeted_status_id           181 non-null float64\n",
      "retweeted_status_user_id      181 non-null float64\n",
      "retweeted_status_timestamp    181 non-null object\n",
      "expanded_urls                 2297 non-null object\n",
      "rating_numerator              2356 non-null object\n",
      "rating_denominator            2356 non-null int64\n",
      "name                          1502 non-null object\n",
      "doggo                         2356 non-null object\n",
      "floofer                       2356 non-null object\n",
      "pupper                        2356 non-null object\n",
      "puppo                         2356 non-null object\n",
      "date                          2356 non-null datetime64[ns]\n",
      "time                          2356 non-null datetime64[ns]\n",
      "hour                          2356 non-null int64\n",
      "day                           2356 non-null int64\n",
      "month                         2356 non-null int64\n",
      "year                          2356 non-null int64\n",
      "dtypes: datetime64[ns](2), float64(4), int64(6), object(10)\n",
      "memory usage: 405.0+ KB\n"
     ]
    }
   ],
   "source": [
    "archive_clean.info()"
   ]
  },
  {
   "cell_type": "markdown",
   "metadata": {},
   "source": [
    "####  Define\n",
    "The retweeted_status_id shows there are 181 retweets. Exclude those retweets and keep only the original tweets.\n",
    "#### Code"
   ]
  },
  {
   "cell_type": "code",
   "execution_count": 34,
   "metadata": {},
   "outputs": [],
   "source": [
    "#delete the retweet rows keeping the original tweets\n",
    "archive_clean.drop(archive_clean[archive_clean.retweeted_status_id.notnull()].index, axis=0,inplace=True)"
   ]
  },
  {
   "cell_type": "markdown",
   "metadata": {},
   "source": [
    "#### Test"
   ]
  },
  {
   "cell_type": "code",
   "execution_count": 35,
   "metadata": {},
   "outputs": [
    {
     "name": "stdout",
     "output_type": "stream",
     "text": [
      "<class 'pandas.core.frame.DataFrame'>\n",
      "Int64Index: 2175 entries, 0 to 2355\n",
      "Data columns (total 22 columns):\n",
      "tweet_id                      2175 non-null int64\n",
      "in_reply_to_status_id         78 non-null float64\n",
      "in_reply_to_user_id           78 non-null float64\n",
      "source                        2175 non-null object\n",
      "text                          2175 non-null object\n",
      "retweeted_status_id           0 non-null float64\n",
      "retweeted_status_user_id      0 non-null float64\n",
      "retweeted_status_timestamp    0 non-null object\n",
      "expanded_urls                 2117 non-null object\n",
      "rating_numerator              2175 non-null object\n",
      "rating_denominator            2175 non-null int64\n",
      "name                          1391 non-null object\n",
      "doggo                         2175 non-null object\n",
      "floofer                       2175 non-null object\n",
      "pupper                        2175 non-null object\n",
      "puppo                         2175 non-null object\n",
      "date                          2175 non-null datetime64[ns]\n",
      "time                          2175 non-null datetime64[ns]\n",
      "hour                          2175 non-null int64\n",
      "day                           2175 non-null int64\n",
      "month                         2175 non-null int64\n",
      "year                          2175 non-null int64\n",
      "dtypes: datetime64[ns](2), float64(4), int64(6), object(10)\n",
      "memory usage: 390.8+ KB\n"
     ]
    }
   ],
   "source": [
    "#Test whether the retweets are deleted\n",
    "archive_clean.info()"
   ]
  },
  {
   "cell_type": "markdown",
   "metadata": {},
   "source": [
    "** Define**\n",
    "\n",
    "Remove unwanted columns.\n",
    "\n",
    "** Code**"
   ]
  },
  {
   "cell_type": "code",
   "execution_count": 36,
   "metadata": {},
   "outputs": [],
   "source": [
    "#remove retweet columns\n",
    "archive_clean.drop(['retweeted_status_id','retweeted_status_user_id','retweeted_status_timestamp'],axis=1,inplace=True)\n"
   ]
  },
  {
   "cell_type": "markdown",
   "metadata": {},
   "source": [
    "Also deleting \"in_reply_to_status_id\" and in_reply_to_user_id which doesn't seem to be useful for analysing."
   ]
  },
  {
   "cell_type": "code",
   "execution_count": 37,
   "metadata": {},
   "outputs": [],
   "source": [
    "archive_clean.drop(['in_reply_to_status_id','in_reply_to_user_id','expanded_urls'],axis=1,inplace=True )"
   ]
  },
  {
   "cell_type": "markdown",
   "metadata": {},
   "source": [
    "** Test **"
   ]
  },
  {
   "cell_type": "code",
   "execution_count": 38,
   "metadata": {},
   "outputs": [
    {
     "name": "stdout",
     "output_type": "stream",
     "text": [
      "<class 'pandas.core.frame.DataFrame'>\n",
      "Int64Index: 2175 entries, 0 to 2355\n",
      "Data columns (total 16 columns):\n",
      "tweet_id              2175 non-null int64\n",
      "source                2175 non-null object\n",
      "text                  2175 non-null object\n",
      "rating_numerator      2175 non-null object\n",
      "rating_denominator    2175 non-null int64\n",
      "name                  1391 non-null object\n",
      "doggo                 2175 non-null object\n",
      "floofer               2175 non-null object\n",
      "pupper                2175 non-null object\n",
      "puppo                 2175 non-null object\n",
      "date                  2175 non-null datetime64[ns]\n",
      "time                  2175 non-null datetime64[ns]\n",
      "hour                  2175 non-null int64\n",
      "day                   2175 non-null int64\n",
      "month                 2175 non-null int64\n",
      "year                  2175 non-null int64\n",
      "dtypes: datetime64[ns](2), int64(6), object(8)\n",
      "memory usage: 288.9+ KB\n"
     ]
    }
   ],
   "source": [
    "#check if the columns are deleted\n",
    "archive_clean.info()"
   ]
  },
  {
   "cell_type": "markdown",
   "metadata": {},
   "source": [
    "** Define **<br>\n",
    "Condense the dog stages from four columns to one single column.<br>\n",
    "\n",
    "** Code**"
   ]
  },
  {
   "cell_type": "code",
   "execution_count": 39,
   "metadata": {},
   "outputs": [],
   "source": [
    "#create a dog_stage column and delete the each columns for dog stages\n",
    "archive_clean['dog_stages'] = archive_clean['text'].str.extract('(puppo|pupper|floofer|doggo)', expand=True)\n",
    "archive_clean.drop(['doggo','floofer','pupper','puppo'],axis=1,inplace=True)"
   ]
  },
  {
   "cell_type": "markdown",
   "metadata": {},
   "source": [
    "** Test **"
   ]
  },
  {
   "cell_type": "code",
   "execution_count": 40,
   "metadata": {
    "scrolled": true
   },
   "outputs": [
    {
     "name": "stdout",
     "output_type": "stream",
     "text": [
      "<class 'pandas.core.frame.DataFrame'>\n",
      "Int64Index: 2175 entries, 0 to 2355\n",
      "Data columns (total 13 columns):\n",
      "tweet_id              2175 non-null int64\n",
      "source                2175 non-null object\n",
      "text                  2175 non-null object\n",
      "rating_numerator      2175 non-null object\n",
      "rating_denominator    2175 non-null int64\n",
      "name                  1391 non-null object\n",
      "date                  2175 non-null datetime64[ns]\n",
      "time                  2175 non-null datetime64[ns]\n",
      "hour                  2175 non-null int64\n",
      "day                   2175 non-null int64\n",
      "month                 2175 non-null int64\n",
      "year                  2175 non-null int64\n",
      "dog_stages            364 non-null object\n",
      "dtypes: datetime64[ns](2), int64(6), object(5)\n",
      "memory usage: 237.9+ KB\n"
     ]
    }
   ],
   "source": [
    "#check the dog_stages column\n",
    "archive_clean.info()"
   ]
  },
  {
   "cell_type": "markdown",
   "metadata": {},
   "source": [
    "The archive_clean dataframe looks clean. Lets move on to image_file dataframe.\n"
   ]
  },
  {
   "cell_type": "code",
   "execution_count": 41,
   "metadata": {},
   "outputs": [
    {
     "name": "stdout",
     "output_type": "stream",
     "text": [
      "<class 'pandas.core.frame.DataFrame'>\n",
      "RangeIndex: 2075 entries, 0 to 2074\n",
      "Data columns (total 12 columns):\n",
      "tweet_id    2075 non-null int64\n",
      "jpg_url     2075 non-null object\n",
      "img_num     2075 non-null int64\n",
      "p1          2075 non-null object\n",
      "p1_conf     2075 non-null float64\n",
      "p1_dog      2075 non-null bool\n",
      "p2          2075 non-null object\n",
      "p2_conf     2075 non-null float64\n",
      "p2_dog      2075 non-null bool\n",
      "p3          2075 non-null object\n",
      "p3_conf     2075 non-null float64\n",
      "p3_dog      2075 non-null bool\n",
      "dtypes: bool(3), float64(3), int64(2), object(4)\n",
      "memory usage: 152.1+ KB\n"
     ]
    }
   ],
   "source": [
    "image_clean.info()"
   ]
  },
  {
   "cell_type": "code",
   "execution_count": 42,
   "metadata": {
    "scrolled": false
   },
   "outputs": [
    {
     "data": {
      "text/html": [
       "<div>\n",
       "<style>\n",
       "    .dataframe thead tr:only-child th {\n",
       "        text-align: right;\n",
       "    }\n",
       "\n",
       "    .dataframe thead th {\n",
       "        text-align: left;\n",
       "    }\n",
       "\n",
       "    .dataframe tbody tr th {\n",
       "        vertical-align: top;\n",
       "    }\n",
       "</style>\n",
       "<table border=\"1\" class=\"dataframe\">\n",
       "  <thead>\n",
       "    <tr style=\"text-align: right;\">\n",
       "      <th></th>\n",
       "      <th>tweet_id</th>\n",
       "      <th>jpg_url</th>\n",
       "      <th>img_num</th>\n",
       "      <th>p1</th>\n",
       "      <th>p1_conf</th>\n",
       "      <th>p1_dog</th>\n",
       "      <th>p2</th>\n",
       "      <th>p2_conf</th>\n",
       "      <th>p2_dog</th>\n",
       "      <th>p3</th>\n",
       "      <th>p3_conf</th>\n",
       "      <th>p3_dog</th>\n",
       "    </tr>\n",
       "  </thead>\n",
       "  <tbody>\n",
       "    <tr>\n",
       "      <th>0</th>\n",
       "      <td>666020888022790149</td>\n",
       "      <td>https://pbs.twimg.com/media/CT4udn0WwAA0aMy.jpg</td>\n",
       "      <td>1</td>\n",
       "      <td>Welsh_springer_spaniel</td>\n",
       "      <td>0.465074</td>\n",
       "      <td>True</td>\n",
       "      <td>collie</td>\n",
       "      <td>0.156665</td>\n",
       "      <td>True</td>\n",
       "      <td>Shetland_sheepdog</td>\n",
       "      <td>0.061428</td>\n",
       "      <td>True</td>\n",
       "    </tr>\n",
       "    <tr>\n",
       "      <th>1</th>\n",
       "      <td>666029285002620928</td>\n",
       "      <td>https://pbs.twimg.com/media/CT42GRgUYAA5iDo.jpg</td>\n",
       "      <td>1</td>\n",
       "      <td>redbone</td>\n",
       "      <td>0.506826</td>\n",
       "      <td>True</td>\n",
       "      <td>miniature_pinscher</td>\n",
       "      <td>0.074192</td>\n",
       "      <td>True</td>\n",
       "      <td>Rhodesian_ridgeback</td>\n",
       "      <td>0.072010</td>\n",
       "      <td>True</td>\n",
       "    </tr>\n",
       "    <tr>\n",
       "      <th>2</th>\n",
       "      <td>666033412701032449</td>\n",
       "      <td>https://pbs.twimg.com/media/CT4521TWwAEvMyu.jpg</td>\n",
       "      <td>1</td>\n",
       "      <td>German_shepherd</td>\n",
       "      <td>0.596461</td>\n",
       "      <td>True</td>\n",
       "      <td>malinois</td>\n",
       "      <td>0.138584</td>\n",
       "      <td>True</td>\n",
       "      <td>bloodhound</td>\n",
       "      <td>0.116197</td>\n",
       "      <td>True</td>\n",
       "    </tr>\n",
       "    <tr>\n",
       "      <th>3</th>\n",
       "      <td>666044226329800704</td>\n",
       "      <td>https://pbs.twimg.com/media/CT5Dr8HUEAA-lEu.jpg</td>\n",
       "      <td>1</td>\n",
       "      <td>Rhodesian_ridgeback</td>\n",
       "      <td>0.408143</td>\n",
       "      <td>True</td>\n",
       "      <td>redbone</td>\n",
       "      <td>0.360687</td>\n",
       "      <td>True</td>\n",
       "      <td>miniature_pinscher</td>\n",
       "      <td>0.222752</td>\n",
       "      <td>True</td>\n",
       "    </tr>\n",
       "    <tr>\n",
       "      <th>4</th>\n",
       "      <td>666049248165822465</td>\n",
       "      <td>https://pbs.twimg.com/media/CT5IQmsXIAAKY4A.jpg</td>\n",
       "      <td>1</td>\n",
       "      <td>miniature_pinscher</td>\n",
       "      <td>0.560311</td>\n",
       "      <td>True</td>\n",
       "      <td>Rottweiler</td>\n",
       "      <td>0.243682</td>\n",
       "      <td>True</td>\n",
       "      <td>Doberman</td>\n",
       "      <td>0.154629</td>\n",
       "      <td>True</td>\n",
       "    </tr>\n",
       "  </tbody>\n",
       "</table>\n",
       "</div>"
      ],
      "text/plain": [
       "             tweet_id                                          jpg_url  \\\n",
       "0  666020888022790149  https://pbs.twimg.com/media/CT4udn0WwAA0aMy.jpg   \n",
       "1  666029285002620928  https://pbs.twimg.com/media/CT42GRgUYAA5iDo.jpg   \n",
       "2  666033412701032449  https://pbs.twimg.com/media/CT4521TWwAEvMyu.jpg   \n",
       "3  666044226329800704  https://pbs.twimg.com/media/CT5Dr8HUEAA-lEu.jpg   \n",
       "4  666049248165822465  https://pbs.twimg.com/media/CT5IQmsXIAAKY4A.jpg   \n",
       "\n",
       "   img_num                      p1   p1_conf  p1_dog                  p2  \\\n",
       "0        1  Welsh_springer_spaniel  0.465074    True              collie   \n",
       "1        1                 redbone  0.506826    True  miniature_pinscher   \n",
       "2        1         German_shepherd  0.596461    True            malinois   \n",
       "3        1     Rhodesian_ridgeback  0.408143    True             redbone   \n",
       "4        1      miniature_pinscher  0.560311    True          Rottweiler   \n",
       "\n",
       "    p2_conf  p2_dog                   p3   p3_conf  p3_dog  \n",
       "0  0.156665    True    Shetland_sheepdog  0.061428    True  \n",
       "1  0.074192    True  Rhodesian_ridgeback  0.072010    True  \n",
       "2  0.138584    True           bloodhound  0.116197    True  \n",
       "3  0.360687    True   miniature_pinscher  0.222752    True  \n",
       "4  0.243682    True             Doberman  0.154629    True  "
      ]
     },
     "execution_count": 42,
     "metadata": {},
     "output_type": "execute_result"
    }
   ],
   "source": [
    "image_clean.head()"
   ]
  },
  {
   "cell_type": "markdown",
   "metadata": {},
   "source": [
    "** Define**<br>\n",
    "Condense the dog breed predictions column to one column.\n",
    "\n",
    "**Code**"
   ]
  },
  {
   "cell_type": "code",
   "execution_count": 43,
   "metadata": {},
   "outputs": [],
   "source": [
    "#create two columns - dog_breed and breed_conf using the prediction columns\n",
    "dog_breed =[]\n",
    "breed_conf = []\n",
    "for index,row in image_clean.iterrows():\n",
    " \n",
    "    if row['p1_dog']:\n",
    "        dog_breed.append(row['p1'])\n",
    "        breed_conf.append(row['p1_conf'])\n",
    "        \n",
    "    elif row['p2_dog']:\n",
    "        dog_breed.append(row['p2'])\n",
    "        breed_conf.append(row['p2_conf'])\n",
    "        \n",
    "    elif row['p3_dog']:\n",
    "        dog_breed.append(row['p3'])\n",
    "        breed_conf.append(row['p3_conf'])\n",
    "    else:\n",
    "        dog_breed.append('Unidentified')\n",
    "        breed_conf.append(0)\n",
    "        \n",
    "image_clean['dog_breed'] = dog_breed\n",
    "image_clean['breed_conf'] = breed_conf"
   ]
  },
  {
   "cell_type": "markdown",
   "metadata": {},
   "source": [
    "** Test **"
   ]
  },
  {
   "cell_type": "code",
   "execution_count": 44,
   "metadata": {},
   "outputs": [
    {
     "data": {
      "text/plain": [
       "Unidentified                   324\n",
       "golden_retriever               173\n",
       "Labrador_retriever             113\n",
       "Pembroke                        96\n",
       "Chihuahua                       95\n",
       "pug                             65\n",
       "toy_poodle                      52\n",
       "chow                            51\n",
       "Samoyed                         46\n",
       "Pomeranian                      42\n",
       "cocker_spaniel                  34\n",
       "malamute                        34\n",
       "French_bulldog                  32\n",
       "Chesapeake_Bay_retriever        31\n",
       "miniature_pinscher              26\n",
       "Cardigan                        23\n",
       "Staffordshire_bullterrier       22\n",
       "Eskimo_dog                      22\n",
       "beagle                          21\n",
       "German_shepherd                 21\n",
       "Siberian_husky                  20\n",
       "Shih-Tzu                        20\n",
       "Shetland_sheepdog               19\n",
       "Rottweiler                      19\n",
       "Maltese_dog                     19\n",
       "Lakeland_terrier                19\n",
       "kuvasz                          19\n",
       "basset                          17\n",
       "Italian_greyhound               17\n",
       "West_Highland_white_terrier     16\n",
       "                              ... \n",
       "Saluki                           4\n",
       "Gordon_setter                    4\n",
       "giant_schnauzer                  4\n",
       "bluetick                         4\n",
       "Tibetan_terrier                  4\n",
       "keeshond                         4\n",
       "Afghan_hound                     4\n",
       "Brabancon_griffon                3\n",
       "cairn                            3\n",
       "komondor                         3\n",
       "briard                           3\n",
       "Leonberg                         3\n",
       "curly-coated_retriever           3\n",
       "Greater_Swiss_Mountain_dog       3\n",
       "Irish_water_spaniel              3\n",
       "toy_terrier                      3\n",
       "Sussex_spaniel                   2\n",
       "groenendael                      2\n",
       "black-and-tan_coonhound          2\n",
       "Australian_terrier               2\n",
       "wire-haired_fox_terrier          2\n",
       "Appenzeller                      2\n",
       "clumber                          1\n",
       "EntleBucher                      1\n",
       "standard_schnauzer               1\n",
       "silky_terrier                    1\n",
       "Bouvier_des_Flandres             1\n",
       "Japanese_spaniel                 1\n",
       "Irish_wolfhound                  1\n",
       "Scotch_terrier                   1\n",
       "Name: dog_breed, Length: 114, dtype: int64"
      ]
     },
     "execution_count": 44,
     "metadata": {},
     "output_type": "execute_result"
    }
   ],
   "source": [
    "#test if dog breed column is updated\n",
    "image_clean.dog_breed.value_counts()"
   ]
  },
  {
   "cell_type": "markdown",
   "metadata": {},
   "source": [
    "** Define **<br>\n",
    "Remove the predictions columns keeping the newly created dog_breed and breed_conf.<br>\n",
    "\n",
    "** Code**"
   ]
  },
  {
   "cell_type": "code",
   "execution_count": 45,
   "metadata": {},
   "outputs": [],
   "source": [
    "# Remove the breed prection column that are no longer needed\n",
    "image_clean.drop(['p1','p1_conf','p1_dog','p2','p2_conf','p2_dog','p3','p3_conf','p3_dog'],axis=1,inplace=True)"
   ]
  },
  {
   "cell_type": "markdown",
   "metadata": {},
   "source": [
    "** Test**"
   ]
  },
  {
   "cell_type": "code",
   "execution_count": 46,
   "metadata": {},
   "outputs": [
    {
     "name": "stdout",
     "output_type": "stream",
     "text": [
      "<class 'pandas.core.frame.DataFrame'>\n",
      "RangeIndex: 2075 entries, 0 to 2074\n",
      "Data columns (total 5 columns):\n",
      "tweet_id      2075 non-null int64\n",
      "jpg_url       2075 non-null object\n",
      "img_num       2075 non-null int64\n",
      "dog_breed     2075 non-null object\n",
      "breed_conf    2075 non-null float64\n",
      "dtypes: float64(1), int64(2), object(2)\n",
      "memory usage: 81.1+ KB\n"
     ]
    }
   ],
   "source": [
    "image_clean.info()"
   ]
  },
  {
   "cell_type": "markdown",
   "metadata": {},
   "source": [
    "** Define**<br>\n",
    "Merge the archive_clean and image_clean dataframes.\n",
    "\n",
    "** Code**"
   ]
  },
  {
   "cell_type": "code",
   "execution_count": 47,
   "metadata": {},
   "outputs": [],
   "source": [
    "#merge image prediction dataset and twitter archive dataset\n",
    "df_merge = archive_clean.merge(image_clean,how='left',on = 'tweet_id',)\n"
   ]
  },
  {
   "cell_type": "markdown",
   "metadata": {},
   "source": [
    "** Test **"
   ]
  },
  {
   "cell_type": "code",
   "execution_count": 48,
   "metadata": {},
   "outputs": [
    {
     "data": {
      "text/html": [
       "<div>\n",
       "<style>\n",
       "    .dataframe thead tr:only-child th {\n",
       "        text-align: right;\n",
       "    }\n",
       "\n",
       "    .dataframe thead th {\n",
       "        text-align: left;\n",
       "    }\n",
       "\n",
       "    .dataframe tbody tr th {\n",
       "        vertical-align: top;\n",
       "    }\n",
       "</style>\n",
       "<table border=\"1\" class=\"dataframe\">\n",
       "  <thead>\n",
       "    <tr style=\"text-align: right;\">\n",
       "      <th></th>\n",
       "      <th>tweet_id</th>\n",
       "      <th>source</th>\n",
       "      <th>text</th>\n",
       "      <th>rating_numerator</th>\n",
       "      <th>rating_denominator</th>\n",
       "      <th>name</th>\n",
       "      <th>date</th>\n",
       "      <th>time</th>\n",
       "      <th>hour</th>\n",
       "      <th>day</th>\n",
       "      <th>month</th>\n",
       "      <th>year</th>\n",
       "      <th>dog_stages</th>\n",
       "      <th>jpg_url</th>\n",
       "      <th>img_num</th>\n",
       "      <th>dog_breed</th>\n",
       "      <th>breed_conf</th>\n",
       "    </tr>\n",
       "  </thead>\n",
       "  <tbody>\n",
       "    <tr>\n",
       "      <th>0</th>\n",
       "      <td>892420643555336193</td>\n",
       "      <td>iPhone</td>\n",
       "      <td>This is Phineas. He's a mystical boy. Only eve...</td>\n",
       "      <td>13</td>\n",
       "      <td>10</td>\n",
       "      <td>Phineas</td>\n",
       "      <td>2017-08-01</td>\n",
       "      <td>1900-01-01 16:23:56</td>\n",
       "      <td>16</td>\n",
       "      <td>1</td>\n",
       "      <td>8</td>\n",
       "      <td>2017</td>\n",
       "      <td>NaN</td>\n",
       "      <td>https://pbs.twimg.com/media/DGKD1-bXoAAIAUK.jpg</td>\n",
       "      <td>1.0</td>\n",
       "      <td>Unidentified</td>\n",
       "      <td>0.000000</td>\n",
       "    </tr>\n",
       "    <tr>\n",
       "      <th>1</th>\n",
       "      <td>892177421306343426</td>\n",
       "      <td>iPhone</td>\n",
       "      <td>This is Tilly. She's just checking pup on you....</td>\n",
       "      <td>13</td>\n",
       "      <td>10</td>\n",
       "      <td>Tilly</td>\n",
       "      <td>2017-08-01</td>\n",
       "      <td>1900-01-01 00:17:27</td>\n",
       "      <td>0</td>\n",
       "      <td>1</td>\n",
       "      <td>8</td>\n",
       "      <td>2017</td>\n",
       "      <td>NaN</td>\n",
       "      <td>https://pbs.twimg.com/media/DGGmoV4XsAAUL6n.jpg</td>\n",
       "      <td>1.0</td>\n",
       "      <td>Chihuahua</td>\n",
       "      <td>0.323581</td>\n",
       "    </tr>\n",
       "    <tr>\n",
       "      <th>2</th>\n",
       "      <td>891815181378084864</td>\n",
       "      <td>iPhone</td>\n",
       "      <td>This is Archie. He is a rare Norwegian Pouncin...</td>\n",
       "      <td>12</td>\n",
       "      <td>10</td>\n",
       "      <td>Archie</td>\n",
       "      <td>2017-07-31</td>\n",
       "      <td>1900-01-01 00:18:03</td>\n",
       "      <td>0</td>\n",
       "      <td>31</td>\n",
       "      <td>7</td>\n",
       "      <td>2017</td>\n",
       "      <td>NaN</td>\n",
       "      <td>https://pbs.twimg.com/media/DGBdLU1WsAANxJ9.jpg</td>\n",
       "      <td>1.0</td>\n",
       "      <td>Chihuahua</td>\n",
       "      <td>0.716012</td>\n",
       "    </tr>\n",
       "    <tr>\n",
       "      <th>3</th>\n",
       "      <td>891689557279858688</td>\n",
       "      <td>iPhone</td>\n",
       "      <td>This is Darla. She commenced a snooze mid meal...</td>\n",
       "      <td>13</td>\n",
       "      <td>10</td>\n",
       "      <td>Darla</td>\n",
       "      <td>2017-07-30</td>\n",
       "      <td>1900-01-01 15:58:51</td>\n",
       "      <td>15</td>\n",
       "      <td>30</td>\n",
       "      <td>7</td>\n",
       "      <td>2017</td>\n",
       "      <td>NaN</td>\n",
       "      <td>https://pbs.twimg.com/media/DF_q7IAWsAEuuN8.jpg</td>\n",
       "      <td>1.0</td>\n",
       "      <td>Labrador_retriever</td>\n",
       "      <td>0.168086</td>\n",
       "    </tr>\n",
       "    <tr>\n",
       "      <th>4</th>\n",
       "      <td>891327558926688256</td>\n",
       "      <td>iPhone</td>\n",
       "      <td>This is Franklin. He would like you to stop ca...</td>\n",
       "      <td>12</td>\n",
       "      <td>10</td>\n",
       "      <td>Franklin</td>\n",
       "      <td>2017-07-29</td>\n",
       "      <td>1900-01-01 16:00:24</td>\n",
       "      <td>16</td>\n",
       "      <td>29</td>\n",
       "      <td>7</td>\n",
       "      <td>2017</td>\n",
       "      <td>NaN</td>\n",
       "      <td>https://pbs.twimg.com/media/DF6hr6BUMAAzZgT.jpg</td>\n",
       "      <td>2.0</td>\n",
       "      <td>basset</td>\n",
       "      <td>0.555712</td>\n",
       "    </tr>\n",
       "  </tbody>\n",
       "</table>\n",
       "</div>"
      ],
      "text/plain": [
       "             tweet_id  source  \\\n",
       "0  892420643555336193  iPhone   \n",
       "1  892177421306343426  iPhone   \n",
       "2  891815181378084864  iPhone   \n",
       "3  891689557279858688  iPhone   \n",
       "4  891327558926688256  iPhone   \n",
       "\n",
       "                                                text rating_numerator  \\\n",
       "0  This is Phineas. He's a mystical boy. Only eve...               13   \n",
       "1  This is Tilly. She's just checking pup on you....               13   \n",
       "2  This is Archie. He is a rare Norwegian Pouncin...               12   \n",
       "3  This is Darla. She commenced a snooze mid meal...               13   \n",
       "4  This is Franklin. He would like you to stop ca...               12   \n",
       "\n",
       "   rating_denominator      name       date                time  hour  day  \\\n",
       "0                  10   Phineas 2017-08-01 1900-01-01 16:23:56    16    1   \n",
       "1                  10     Tilly 2017-08-01 1900-01-01 00:17:27     0    1   \n",
       "2                  10    Archie 2017-07-31 1900-01-01 00:18:03     0   31   \n",
       "3                  10     Darla 2017-07-30 1900-01-01 15:58:51    15   30   \n",
       "4                  10  Franklin 2017-07-29 1900-01-01 16:00:24    16   29   \n",
       "\n",
       "   month  year dog_stages                                          jpg_url  \\\n",
       "0      8  2017        NaN  https://pbs.twimg.com/media/DGKD1-bXoAAIAUK.jpg   \n",
       "1      8  2017        NaN  https://pbs.twimg.com/media/DGGmoV4XsAAUL6n.jpg   \n",
       "2      7  2017        NaN  https://pbs.twimg.com/media/DGBdLU1WsAANxJ9.jpg   \n",
       "3      7  2017        NaN  https://pbs.twimg.com/media/DF_q7IAWsAEuuN8.jpg   \n",
       "4      7  2017        NaN  https://pbs.twimg.com/media/DF6hr6BUMAAzZgT.jpg   \n",
       "\n",
       "   img_num           dog_breed  breed_conf  \n",
       "0      1.0        Unidentified    0.000000  \n",
       "1      1.0           Chihuahua    0.323581  \n",
       "2      1.0           Chihuahua    0.716012  \n",
       "3      1.0  Labrador_retriever    0.168086  \n",
       "4      2.0              basset    0.555712  "
      ]
     },
     "execution_count": 48,
     "metadata": {},
     "output_type": "execute_result"
    }
   ],
   "source": [
    "df_merge.head()"
   ]
  },
  {
   "cell_type": "code",
   "execution_count": 49,
   "metadata": {},
   "outputs": [
    {
     "name": "stdout",
     "output_type": "stream",
     "text": [
      "<class 'pandas.core.frame.DataFrame'>\n",
      "Int64Index: 2175 entries, 0 to 2174\n",
      "Data columns (total 17 columns):\n",
      "tweet_id              2175 non-null int64\n",
      "source                2175 non-null object\n",
      "text                  2175 non-null object\n",
      "rating_numerator      2175 non-null object\n",
      "rating_denominator    2175 non-null int64\n",
      "name                  1391 non-null object\n",
      "date                  2175 non-null datetime64[ns]\n",
      "time                  2175 non-null datetime64[ns]\n",
      "hour                  2175 non-null int64\n",
      "day                   2175 non-null int64\n",
      "month                 2175 non-null int64\n",
      "year                  2175 non-null int64\n",
      "dog_stages            364 non-null object\n",
      "jpg_url               1994 non-null object\n",
      "img_num               1994 non-null float64\n",
      "dog_breed             1994 non-null object\n",
      "breed_conf            1994 non-null float64\n",
      "dtypes: datetime64[ns](2), float64(2), int64(6), object(7)\n",
      "memory usage: 305.9+ KB\n"
     ]
    }
   ],
   "source": [
    "df_merge.info()"
   ]
  },
  {
   "cell_type": "markdown",
   "metadata": {},
   "source": [
    "** Define **<br>\n",
    "Removing the tweets without images.\n",
    "\n",
    "** Code**"
   ]
  },
  {
   "cell_type": "code",
   "execution_count": 50,
   "metadata": {},
   "outputs": [],
   "source": [
    "#remove tweets with null jpg_url values\n",
    "df_merge.drop(df_merge[df_merge.jpg_url.isnull()].index,axis=0,inplace=True)\n"
   ]
  },
  {
   "cell_type": "markdown",
   "metadata": {},
   "source": [
    "** Test **"
   ]
  },
  {
   "cell_type": "code",
   "execution_count": 51,
   "metadata": {},
   "outputs": [
    {
     "name": "stdout",
     "output_type": "stream",
     "text": [
      "<class 'pandas.core.frame.DataFrame'>\n",
      "Int64Index: 1994 entries, 0 to 2174\n",
      "Data columns (total 17 columns):\n",
      "tweet_id              1994 non-null int64\n",
      "source                1994 non-null object\n",
      "text                  1994 non-null object\n",
      "rating_numerator      1994 non-null object\n",
      "rating_denominator    1994 non-null int64\n",
      "name                  1350 non-null object\n",
      "date                  1994 non-null datetime64[ns]\n",
      "time                  1994 non-null datetime64[ns]\n",
      "hour                  1994 non-null int64\n",
      "day                   1994 non-null int64\n",
      "month                 1994 non-null int64\n",
      "year                  1994 non-null int64\n",
      "dog_stages            326 non-null object\n",
      "jpg_url               1994 non-null object\n",
      "img_num               1994 non-null float64\n",
      "dog_breed             1994 non-null object\n",
      "breed_conf            1994 non-null float64\n",
      "dtypes: datetime64[ns](2), float64(2), int64(6), object(7)\n",
      "memory usage: 280.4+ KB\n"
     ]
    }
   ],
   "source": [
    "df_merge.info()"
   ]
  },
  {
   "cell_type": "code",
   "execution_count": 52,
   "metadata": {},
   "outputs": [
    {
     "name": "stdout",
     "output_type": "stream",
     "text": [
      "<class 'pandas.core.frame.DataFrame'>\n",
      "RangeIndex: 2345 entries, 0 to 2344\n",
      "Data columns (total 4 columns):\n",
      "Unnamed: 0        2345 non-null int64\n",
      "tweet_id          2345 non-null int64\n",
      "favorite_count    2345 non-null int64\n",
      "retweet_count     2345 non-null int64\n",
      "dtypes: int64(4)\n",
      "memory usage: 73.4 KB\n"
     ]
    }
   ],
   "source": [
    "tweet_clean.info()"
   ]
  },
  {
   "cell_type": "markdown",
   "metadata": {},
   "source": [
    "** Define **<br>\n",
    "Remove the 'unnamed: 0' column.\n",
    "\n",
    "** Code**"
   ]
  },
  {
   "cell_type": "code",
   "execution_count": 53,
   "metadata": {},
   "outputs": [],
   "source": [
    "#drop the column unnamed \n",
    "tweet_clean.drop('Unnamed: 0',axis=1,inplace=True)"
   ]
  },
  {
   "cell_type": "markdown",
   "metadata": {},
   "source": [
    "** Test **"
   ]
  },
  {
   "cell_type": "code",
   "execution_count": 54,
   "metadata": {},
   "outputs": [
    {
     "name": "stdout",
     "output_type": "stream",
     "text": [
      "<class 'pandas.core.frame.DataFrame'>\n",
      "RangeIndex: 2345 entries, 0 to 2344\n",
      "Data columns (total 3 columns):\n",
      "tweet_id          2345 non-null int64\n",
      "favorite_count    2345 non-null int64\n",
      "retweet_count     2345 non-null int64\n",
      "dtypes: int64(3)\n",
      "memory usage: 55.0 KB\n"
     ]
    }
   ],
   "source": [
    "#check if column is deleted\n",
    "tweet_clean.info()"
   ]
  },
  {
   "cell_type": "markdown",
   "metadata": {},
   "source": [
    "** Define**<br>\n",
    "Now, merge the tweet_clean dataset with already merged dataset.\n",
    "\n",
    "** Code**"
   ]
  },
  {
   "cell_type": "code",
   "execution_count": 55,
   "metadata": {},
   "outputs": [],
   "source": [
    "# merge datasets\n",
    "tweet_full_df = df_merge.merge(tweet_clean,how='left',on = 'tweet_id')"
   ]
  },
  {
   "cell_type": "markdown",
   "metadata": {},
   "source": [
    "** Test **"
   ]
  },
  {
   "cell_type": "code",
   "execution_count": 56,
   "metadata": {},
   "outputs": [
    {
     "name": "stdout",
     "output_type": "stream",
     "text": [
      "<class 'pandas.core.frame.DataFrame'>\n",
      "Int64Index: 1994 entries, 0 to 1993\n",
      "Data columns (total 19 columns):\n",
      "tweet_id              1994 non-null int64\n",
      "source                1994 non-null object\n",
      "text                  1994 non-null object\n",
      "rating_numerator      1994 non-null object\n",
      "rating_denominator    1994 non-null int64\n",
      "name                  1350 non-null object\n",
      "date                  1994 non-null datetime64[ns]\n",
      "time                  1994 non-null datetime64[ns]\n",
      "hour                  1994 non-null int64\n",
      "day                   1994 non-null int64\n",
      "month                 1994 non-null int64\n",
      "year                  1994 non-null int64\n",
      "dog_stages            326 non-null object\n",
      "jpg_url               1994 non-null object\n",
      "img_num               1994 non-null float64\n",
      "dog_breed             1994 non-null object\n",
      "breed_conf            1994 non-null float64\n",
      "favorite_count        1994 non-null int64\n",
      "retweet_count         1994 non-null int64\n",
      "dtypes: datetime64[ns](2), float64(2), int64(8), object(7)\n",
      "memory usage: 311.6+ KB\n"
     ]
    }
   ],
   "source": [
    "tweet_full_df.info()"
   ]
  },
  {
   "cell_type": "code",
   "execution_count": 57,
   "metadata": {},
   "outputs": [
    {
     "data": {
      "text/html": [
       "<div>\n",
       "<style>\n",
       "    .dataframe thead tr:only-child th {\n",
       "        text-align: right;\n",
       "    }\n",
       "\n",
       "    .dataframe thead th {\n",
       "        text-align: left;\n",
       "    }\n",
       "\n",
       "    .dataframe tbody tr th {\n",
       "        vertical-align: top;\n",
       "    }\n",
       "</style>\n",
       "<table border=\"1\" class=\"dataframe\">\n",
       "  <thead>\n",
       "    <tr style=\"text-align: right;\">\n",
       "      <th></th>\n",
       "      <th>tweet_id</th>\n",
       "      <th>source</th>\n",
       "      <th>text</th>\n",
       "      <th>rating_numerator</th>\n",
       "      <th>rating_denominator</th>\n",
       "      <th>name</th>\n",
       "      <th>date</th>\n",
       "      <th>time</th>\n",
       "      <th>hour</th>\n",
       "      <th>day</th>\n",
       "      <th>month</th>\n",
       "      <th>year</th>\n",
       "      <th>dog_stages</th>\n",
       "      <th>jpg_url</th>\n",
       "      <th>img_num</th>\n",
       "      <th>dog_breed</th>\n",
       "      <th>breed_conf</th>\n",
       "      <th>favorite_count</th>\n",
       "      <th>retweet_count</th>\n",
       "    </tr>\n",
       "  </thead>\n",
       "  <tbody>\n",
       "    <tr>\n",
       "      <th>0</th>\n",
       "      <td>892420643555336193</td>\n",
       "      <td>iPhone</td>\n",
       "      <td>This is Phineas. He's a mystical boy. Only eve...</td>\n",
       "      <td>13</td>\n",
       "      <td>10</td>\n",
       "      <td>Phineas</td>\n",
       "      <td>2017-08-01</td>\n",
       "      <td>1900-01-01 16:23:56</td>\n",
       "      <td>16</td>\n",
       "      <td>1</td>\n",
       "      <td>8</td>\n",
       "      <td>2017</td>\n",
       "      <td>NaN</td>\n",
       "      <td>https://pbs.twimg.com/media/DGKD1-bXoAAIAUK.jpg</td>\n",
       "      <td>1.0</td>\n",
       "      <td>Unidentified</td>\n",
       "      <td>0.000000</td>\n",
       "      <td>39027</td>\n",
       "      <td>8665</td>\n",
       "    </tr>\n",
       "    <tr>\n",
       "      <th>1</th>\n",
       "      <td>892177421306343426</td>\n",
       "      <td>iPhone</td>\n",
       "      <td>This is Tilly. She's just checking pup on you....</td>\n",
       "      <td>13</td>\n",
       "      <td>10</td>\n",
       "      <td>Tilly</td>\n",
       "      <td>2017-08-01</td>\n",
       "      <td>1900-01-01 00:17:27</td>\n",
       "      <td>0</td>\n",
       "      <td>1</td>\n",
       "      <td>8</td>\n",
       "      <td>2017</td>\n",
       "      <td>NaN</td>\n",
       "      <td>https://pbs.twimg.com/media/DGGmoV4XsAAUL6n.jpg</td>\n",
       "      <td>1.0</td>\n",
       "      <td>Chihuahua</td>\n",
       "      <td>0.323581</td>\n",
       "      <td>33428</td>\n",
       "      <td>6364</td>\n",
       "    </tr>\n",
       "    <tr>\n",
       "      <th>2</th>\n",
       "      <td>891815181378084864</td>\n",
       "      <td>iPhone</td>\n",
       "      <td>This is Archie. He is a rare Norwegian Pouncin...</td>\n",
       "      <td>12</td>\n",
       "      <td>10</td>\n",
       "      <td>Archie</td>\n",
       "      <td>2017-07-31</td>\n",
       "      <td>1900-01-01 00:18:03</td>\n",
       "      <td>0</td>\n",
       "      <td>31</td>\n",
       "      <td>7</td>\n",
       "      <td>2017</td>\n",
       "      <td>NaN</td>\n",
       "      <td>https://pbs.twimg.com/media/DGBdLU1WsAANxJ9.jpg</td>\n",
       "      <td>1.0</td>\n",
       "      <td>Chihuahua</td>\n",
       "      <td>0.716012</td>\n",
       "      <td>25197</td>\n",
       "      <td>4226</td>\n",
       "    </tr>\n",
       "    <tr>\n",
       "      <th>3</th>\n",
       "      <td>891689557279858688</td>\n",
       "      <td>iPhone</td>\n",
       "      <td>This is Darla. She commenced a snooze mid meal...</td>\n",
       "      <td>13</td>\n",
       "      <td>10</td>\n",
       "      <td>Darla</td>\n",
       "      <td>2017-07-30</td>\n",
       "      <td>1900-01-01 15:58:51</td>\n",
       "      <td>15</td>\n",
       "      <td>30</td>\n",
       "      <td>7</td>\n",
       "      <td>2017</td>\n",
       "      <td>NaN</td>\n",
       "      <td>https://pbs.twimg.com/media/DF_q7IAWsAEuuN8.jpg</td>\n",
       "      <td>1.0</td>\n",
       "      <td>Labrador_retriever</td>\n",
       "      <td>0.168086</td>\n",
       "      <td>42398</td>\n",
       "      <td>8771</td>\n",
       "    </tr>\n",
       "    <tr>\n",
       "      <th>4</th>\n",
       "      <td>891327558926688256</td>\n",
       "      <td>iPhone</td>\n",
       "      <td>This is Franklin. He would like you to stop ca...</td>\n",
       "      <td>12</td>\n",
       "      <td>10</td>\n",
       "      <td>Franklin</td>\n",
       "      <td>2017-07-29</td>\n",
       "      <td>1900-01-01 16:00:24</td>\n",
       "      <td>16</td>\n",
       "      <td>29</td>\n",
       "      <td>7</td>\n",
       "      <td>2017</td>\n",
       "      <td>NaN</td>\n",
       "      <td>https://pbs.twimg.com/media/DF6hr6BUMAAzZgT.jpg</td>\n",
       "      <td>2.0</td>\n",
       "      <td>basset</td>\n",
       "      <td>0.555712</td>\n",
       "      <td>40541</td>\n",
       "      <td>9546</td>\n",
       "    </tr>\n",
       "  </tbody>\n",
       "</table>\n",
       "</div>"
      ],
      "text/plain": [
       "             tweet_id  source  \\\n",
       "0  892420643555336193  iPhone   \n",
       "1  892177421306343426  iPhone   \n",
       "2  891815181378084864  iPhone   \n",
       "3  891689557279858688  iPhone   \n",
       "4  891327558926688256  iPhone   \n",
       "\n",
       "                                                text rating_numerator  \\\n",
       "0  This is Phineas. He's a mystical boy. Only eve...               13   \n",
       "1  This is Tilly. She's just checking pup on you....               13   \n",
       "2  This is Archie. He is a rare Norwegian Pouncin...               12   \n",
       "3  This is Darla. She commenced a snooze mid meal...               13   \n",
       "4  This is Franklin. He would like you to stop ca...               12   \n",
       "\n",
       "   rating_denominator      name       date                time  hour  day  \\\n",
       "0                  10   Phineas 2017-08-01 1900-01-01 16:23:56    16    1   \n",
       "1                  10     Tilly 2017-08-01 1900-01-01 00:17:27     0    1   \n",
       "2                  10    Archie 2017-07-31 1900-01-01 00:18:03     0   31   \n",
       "3                  10     Darla 2017-07-30 1900-01-01 15:58:51    15   30   \n",
       "4                  10  Franklin 2017-07-29 1900-01-01 16:00:24    16   29   \n",
       "\n",
       "   month  year dog_stages                                          jpg_url  \\\n",
       "0      8  2017        NaN  https://pbs.twimg.com/media/DGKD1-bXoAAIAUK.jpg   \n",
       "1      8  2017        NaN  https://pbs.twimg.com/media/DGGmoV4XsAAUL6n.jpg   \n",
       "2      7  2017        NaN  https://pbs.twimg.com/media/DGBdLU1WsAANxJ9.jpg   \n",
       "3      7  2017        NaN  https://pbs.twimg.com/media/DF_q7IAWsAEuuN8.jpg   \n",
       "4      7  2017        NaN  https://pbs.twimg.com/media/DF6hr6BUMAAzZgT.jpg   \n",
       "\n",
       "   img_num           dog_breed  breed_conf  favorite_count  retweet_count  \n",
       "0      1.0        Unidentified    0.000000           39027           8665  \n",
       "1      1.0           Chihuahua    0.323581           33428           6364  \n",
       "2      1.0           Chihuahua    0.716012           25197           4226  \n",
       "3      1.0  Labrador_retriever    0.168086           42398           8771  \n",
       "4      2.0              basset    0.555712           40541           9546  "
      ]
     },
     "execution_count": 57,
     "metadata": {},
     "output_type": "execute_result"
    }
   ],
   "source": [
    "tweet_full_df.head()"
   ]
  },
  {
   "cell_type": "markdown",
   "metadata": {},
   "source": [
    "**Define**<br>\n",
    "-  As we re not going to do any mathematical operations on tweet_id, we can change it to string object.\n",
    "\n",
    "-  Change the rating numerator and denominator datatype to float.\n",
    "\n",
    "-  change the img_num datatype from float to integer. \n",
    "\n",
    "** Code**"
   ]
  },
  {
   "cell_type": "code",
   "execution_count": 58,
   "metadata": {},
   "outputs": [],
   "source": [
    "tweet_full_df['tweet_id']=tweet_full_df['tweet_id'].astype(str)"
   ]
  },
  {
   "cell_type": "code",
   "execution_count": 59,
   "metadata": {},
   "outputs": [],
   "source": [
    "tweet_full_df['rating_numerator']=tweet_full_df['rating_numerator'].astype(float)"
   ]
  },
  {
   "cell_type": "code",
   "execution_count": 60,
   "metadata": {},
   "outputs": [],
   "source": [
    "tweet_full_df['rating_denominator']=tweet_full_df['rating_denominator'].astype(float)"
   ]
  },
  {
   "cell_type": "code",
   "execution_count": 61,
   "metadata": {},
   "outputs": [],
   "source": [
    "tweet_full_df['img_num']=tweet_full_df['img_num'].astype(int)"
   ]
  },
  {
   "cell_type": "markdown",
   "metadata": {},
   "source": [
    "** Test**"
   ]
  },
  {
   "cell_type": "code",
   "execution_count": 62,
   "metadata": {
    "scrolled": true
   },
   "outputs": [
    {
     "name": "stdout",
     "output_type": "stream",
     "text": [
      "<class 'pandas.core.frame.DataFrame'>\n",
      "Int64Index: 1994 entries, 0 to 1993\n",
      "Data columns (total 19 columns):\n",
      "tweet_id              1994 non-null object\n",
      "source                1994 non-null object\n",
      "text                  1994 non-null object\n",
      "rating_numerator      1994 non-null float64\n",
      "rating_denominator    1994 non-null float64\n",
      "name                  1350 non-null object\n",
      "date                  1994 non-null datetime64[ns]\n",
      "time                  1994 non-null datetime64[ns]\n",
      "hour                  1994 non-null int64\n",
      "day                   1994 non-null int64\n",
      "month                 1994 non-null int64\n",
      "year                  1994 non-null int64\n",
      "dog_stages            326 non-null object\n",
      "jpg_url               1994 non-null object\n",
      "img_num               1994 non-null int64\n",
      "dog_breed             1994 non-null object\n",
      "breed_conf            1994 non-null float64\n",
      "favorite_count        1994 non-null int64\n",
      "retweet_count         1994 non-null int64\n",
      "dtypes: datetime64[ns](2), float64(3), int64(7), object(7)\n",
      "memory usage: 311.6+ KB\n"
     ]
    }
   ],
   "source": [
    "tweet_full_df.info()"
   ]
  },
  {
   "cell_type": "markdown",
   "metadata": {},
   "source": [
    "** Define**<br>\n",
    "Change the column name 'name' to 'dog_name'and arrange the columns in a neat order.\n",
    "\n",
    "** Code**"
   ]
  },
  {
   "cell_type": "code",
   "execution_count": 63,
   "metadata": {},
   "outputs": [],
   "source": [
    "#change the column name 'name' to 'dog_name'\n",
    "tweet_full_df.rename(columns={'name':'dog_name'},inplace=True)\n",
    "\n",
    "#arrange the columns in neat order\n",
    "tweet_full_df = tweet_full_df[['tweet_id','date','year','month','day','time','hour','dog_name','dog_stages',\n",
    "                               'dog_breed','breed_conf','rating_numerator','rating_denominator','img_num',\n",
    "                               'jpg_url','source','text','favorite_count','retweet_count']]\n"
   ]
  },
  {
   "cell_type": "markdown",
   "metadata": {},
   "source": [
    "** Test **"
   ]
  },
  {
   "cell_type": "code",
   "execution_count": 64,
   "metadata": {},
   "outputs": [
    {
     "name": "stdout",
     "output_type": "stream",
     "text": [
      "<class 'pandas.core.frame.DataFrame'>\n",
      "Int64Index: 1994 entries, 0 to 1993\n",
      "Data columns (total 19 columns):\n",
      "tweet_id              1994 non-null object\n",
      "date                  1994 non-null datetime64[ns]\n",
      "year                  1994 non-null int64\n",
      "month                 1994 non-null int64\n",
      "day                   1994 non-null int64\n",
      "time                  1994 non-null datetime64[ns]\n",
      "hour                  1994 non-null int64\n",
      "dog_name              1350 non-null object\n",
      "dog_stages            326 non-null object\n",
      "dog_breed             1994 non-null object\n",
      "breed_conf            1994 non-null float64\n",
      "rating_numerator      1994 non-null float64\n",
      "rating_denominator    1994 non-null float64\n",
      "img_num               1994 non-null int64\n",
      "jpg_url               1994 non-null object\n",
      "source                1994 non-null object\n",
      "text                  1994 non-null object\n",
      "favorite_count        1994 non-null int64\n",
      "retweet_count         1994 non-null int64\n",
      "dtypes: datetime64[ns](2), float64(3), int64(7), object(7)\n",
      "memory usage: 311.6+ KB\n"
     ]
    }
   ],
   "source": [
    "#test the column order\n",
    "tweet_full_df.info()"
   ]
  },
  {
   "cell_type": "markdown",
   "metadata": {},
   "source": [
    "## Store, Analyze, and Visualize the Data <a name=\"store\" ></a>"
   ]
  },
  {
   "cell_type": "markdown",
   "metadata": {},
   "source": [
    "Store the clean and merged dataframe in a csv file called 'twitter_archive_master.csv'."
   ]
  },
  {
   "cell_type": "code",
   "execution_count": 65,
   "metadata": {},
   "outputs": [],
   "source": [
    "#copy the clean dataframe to the csv file\n",
    "tweet_full_df.to_csv('twitter_archive_master.csv')"
   ]
  },
  {
   "cell_type": "markdown",
   "metadata": {},
   "source": [
    "### Insights:"
   ]
  },
  {
   "cell_type": "markdown",
   "metadata": {},
   "source": [
    "-  [Descriptive Statistical Analysis](#dsa)\n",
    "-  [Which dog has the highest rating?](#dograting)\n",
    "-  [Which tweet/dog is most popular with most favorite count?](#dogfav)\n",
    "-  [which tweet/dog  has the most retweets?](#dogretweet)"
   ]
  },
  {
   "cell_type": "markdown",
   "metadata": {},
   "source": [
    "### Visualization:"
   ]
  },
  {
   "cell_type": "markdown",
   "metadata": {},
   "source": [
    "-  [Top 20 dog breeds by rating](#top20rating)\n",
    "-  [Top 20 dog breeds by favorite count](#top20fav)\n",
    "-  [Retweet and favorite count by dog stages](#dogstage)\n",
    "-  [Which month has the most tweets?](#month)\n"
   ]
  },
  {
   "cell_type": "code",
   "execution_count": 78,
   "metadata": {},
   "outputs": [],
   "source": [
    "#read the csv file to a dataframe\n",
    "df_master = pd.read_csv('twitter_archive_master.csv')"
   ]
  },
  {
   "cell_type": "code",
   "execution_count": 79,
   "metadata": {},
   "outputs": [
    {
     "name": "stdout",
     "output_type": "stream",
     "text": [
      "<class 'pandas.core.frame.DataFrame'>\n",
      "RangeIndex: 1994 entries, 0 to 1993\n",
      "Data columns (total 20 columns):\n",
      "Unnamed: 0            1994 non-null int64\n",
      "tweet_id              1994 non-null int64\n",
      "date                  1994 non-null object\n",
      "year                  1994 non-null int64\n",
      "month                 1994 non-null int64\n",
      "day                   1994 non-null int64\n",
      "time                  1994 non-null object\n",
      "hour                  1994 non-null int64\n",
      "dog_name              1350 non-null object\n",
      "dog_stages            326 non-null object\n",
      "dog_breed             1994 non-null object\n",
      "breed_conf            1994 non-null float64\n",
      "rating_numerator      1994 non-null float64\n",
      "rating_denominator    1994 non-null float64\n",
      "img_num               1994 non-null int64\n",
      "jpg_url               1994 non-null object\n",
      "source                1994 non-null object\n",
      "text                  1994 non-null object\n",
      "favorite_count        1994 non-null int64\n",
      "retweet_count         1994 non-null int64\n",
      "dtypes: float64(3), int64(9), object(8)\n",
      "memory usage: 311.6+ KB\n"
     ]
    }
   ],
   "source": [
    "df_master.info()"
   ]
  },
  {
   "cell_type": "code",
   "execution_count": 80,
   "metadata": {},
   "outputs": [
    {
     "data": {
      "text/html": [
       "<div>\n",
       "<style>\n",
       "    .dataframe thead tr:only-child th {\n",
       "        text-align: right;\n",
       "    }\n",
       "\n",
       "    .dataframe thead th {\n",
       "        text-align: left;\n",
       "    }\n",
       "\n",
       "    .dataframe tbody tr th {\n",
       "        vertical-align: top;\n",
       "    }\n",
       "</style>\n",
       "<table border=\"1\" class=\"dataframe\">\n",
       "  <thead>\n",
       "    <tr style=\"text-align: right;\">\n",
       "      <th></th>\n",
       "      <th>Unnamed: 0</th>\n",
       "      <th>tweet_id</th>\n",
       "      <th>date</th>\n",
       "      <th>year</th>\n",
       "      <th>month</th>\n",
       "      <th>day</th>\n",
       "      <th>time</th>\n",
       "      <th>hour</th>\n",
       "      <th>dog_name</th>\n",
       "      <th>dog_stages</th>\n",
       "      <th>dog_breed</th>\n",
       "      <th>breed_conf</th>\n",
       "      <th>rating_numerator</th>\n",
       "      <th>rating_denominator</th>\n",
       "      <th>img_num</th>\n",
       "      <th>jpg_url</th>\n",
       "      <th>source</th>\n",
       "      <th>text</th>\n",
       "      <th>favorite_count</th>\n",
       "      <th>retweet_count</th>\n",
       "    </tr>\n",
       "  </thead>\n",
       "  <tbody>\n",
       "    <tr>\n",
       "      <th>0</th>\n",
       "      <td>0</td>\n",
       "      <td>892420643555336193</td>\n",
       "      <td>2017-08-01 00:00:00</td>\n",
       "      <td>2017</td>\n",
       "      <td>8</td>\n",
       "      <td>1</td>\n",
       "      <td>1900-01-01 16:23:56</td>\n",
       "      <td>16</td>\n",
       "      <td>Phineas</td>\n",
       "      <td>NaN</td>\n",
       "      <td>Unidentified</td>\n",
       "      <td>0.000000</td>\n",
       "      <td>13.0</td>\n",
       "      <td>10.0</td>\n",
       "      <td>1</td>\n",
       "      <td>https://pbs.twimg.com/media/DGKD1-bXoAAIAUK.jpg</td>\n",
       "      <td>iPhone</td>\n",
       "      <td>This is Phineas. He's a mystical boy. Only eve...</td>\n",
       "      <td>39027</td>\n",
       "      <td>8665</td>\n",
       "    </tr>\n",
       "    <tr>\n",
       "      <th>1</th>\n",
       "      <td>1</td>\n",
       "      <td>892177421306343426</td>\n",
       "      <td>2017-08-01 00:00:00</td>\n",
       "      <td>2017</td>\n",
       "      <td>8</td>\n",
       "      <td>1</td>\n",
       "      <td>1900-01-01 00:17:27</td>\n",
       "      <td>0</td>\n",
       "      <td>Tilly</td>\n",
       "      <td>NaN</td>\n",
       "      <td>Chihuahua</td>\n",
       "      <td>0.323581</td>\n",
       "      <td>13.0</td>\n",
       "      <td>10.0</td>\n",
       "      <td>1</td>\n",
       "      <td>https://pbs.twimg.com/media/DGGmoV4XsAAUL6n.jpg</td>\n",
       "      <td>iPhone</td>\n",
       "      <td>This is Tilly. She's just checking pup on you....</td>\n",
       "      <td>33428</td>\n",
       "      <td>6364</td>\n",
       "    </tr>\n",
       "    <tr>\n",
       "      <th>2</th>\n",
       "      <td>2</td>\n",
       "      <td>891815181378084864</td>\n",
       "      <td>2017-07-31 00:00:00</td>\n",
       "      <td>2017</td>\n",
       "      <td>7</td>\n",
       "      <td>31</td>\n",
       "      <td>1900-01-01 00:18:03</td>\n",
       "      <td>0</td>\n",
       "      <td>Archie</td>\n",
       "      <td>NaN</td>\n",
       "      <td>Chihuahua</td>\n",
       "      <td>0.716012</td>\n",
       "      <td>12.0</td>\n",
       "      <td>10.0</td>\n",
       "      <td>1</td>\n",
       "      <td>https://pbs.twimg.com/media/DGBdLU1WsAANxJ9.jpg</td>\n",
       "      <td>iPhone</td>\n",
       "      <td>This is Archie. He is a rare Norwegian Pouncin...</td>\n",
       "      <td>25197</td>\n",
       "      <td>4226</td>\n",
       "    </tr>\n",
       "    <tr>\n",
       "      <th>3</th>\n",
       "      <td>3</td>\n",
       "      <td>891689557279858688</td>\n",
       "      <td>2017-07-30 00:00:00</td>\n",
       "      <td>2017</td>\n",
       "      <td>7</td>\n",
       "      <td>30</td>\n",
       "      <td>1900-01-01 15:58:51</td>\n",
       "      <td>15</td>\n",
       "      <td>Darla</td>\n",
       "      <td>NaN</td>\n",
       "      <td>Labrador_retriever</td>\n",
       "      <td>0.168086</td>\n",
       "      <td>13.0</td>\n",
       "      <td>10.0</td>\n",
       "      <td>1</td>\n",
       "      <td>https://pbs.twimg.com/media/DF_q7IAWsAEuuN8.jpg</td>\n",
       "      <td>iPhone</td>\n",
       "      <td>This is Darla. She commenced a snooze mid meal...</td>\n",
       "      <td>42398</td>\n",
       "      <td>8771</td>\n",
       "    </tr>\n",
       "    <tr>\n",
       "      <th>4</th>\n",
       "      <td>4</td>\n",
       "      <td>891327558926688256</td>\n",
       "      <td>2017-07-29 00:00:00</td>\n",
       "      <td>2017</td>\n",
       "      <td>7</td>\n",
       "      <td>29</td>\n",
       "      <td>1900-01-01 16:00:24</td>\n",
       "      <td>16</td>\n",
       "      <td>Franklin</td>\n",
       "      <td>NaN</td>\n",
       "      <td>basset</td>\n",
       "      <td>0.555712</td>\n",
       "      <td>12.0</td>\n",
       "      <td>10.0</td>\n",
       "      <td>2</td>\n",
       "      <td>https://pbs.twimg.com/media/DF6hr6BUMAAzZgT.jpg</td>\n",
       "      <td>iPhone</td>\n",
       "      <td>This is Franklin. He would like you to stop ca...</td>\n",
       "      <td>40541</td>\n",
       "      <td>9546</td>\n",
       "    </tr>\n",
       "  </tbody>\n",
       "</table>\n",
       "</div>"
      ],
      "text/plain": [
       "   Unnamed: 0            tweet_id                 date  year  month  day  \\\n",
       "0           0  892420643555336193  2017-08-01 00:00:00  2017      8    1   \n",
       "1           1  892177421306343426  2017-08-01 00:00:00  2017      8    1   \n",
       "2           2  891815181378084864  2017-07-31 00:00:00  2017      7   31   \n",
       "3           3  891689557279858688  2017-07-30 00:00:00  2017      7   30   \n",
       "4           4  891327558926688256  2017-07-29 00:00:00  2017      7   29   \n",
       "\n",
       "                  time  hour  dog_name dog_stages           dog_breed  \\\n",
       "0  1900-01-01 16:23:56    16   Phineas        NaN        Unidentified   \n",
       "1  1900-01-01 00:17:27     0     Tilly        NaN           Chihuahua   \n",
       "2  1900-01-01 00:18:03     0    Archie        NaN           Chihuahua   \n",
       "3  1900-01-01 15:58:51    15     Darla        NaN  Labrador_retriever   \n",
       "4  1900-01-01 16:00:24    16  Franklin        NaN              basset   \n",
       "\n",
       "   breed_conf  rating_numerator  rating_denominator  img_num  \\\n",
       "0    0.000000              13.0                10.0        1   \n",
       "1    0.323581              13.0                10.0        1   \n",
       "2    0.716012              12.0                10.0        1   \n",
       "3    0.168086              13.0                10.0        1   \n",
       "4    0.555712              12.0                10.0        2   \n",
       "\n",
       "                                           jpg_url  source  \\\n",
       "0  https://pbs.twimg.com/media/DGKD1-bXoAAIAUK.jpg  iPhone   \n",
       "1  https://pbs.twimg.com/media/DGGmoV4XsAAUL6n.jpg  iPhone   \n",
       "2  https://pbs.twimg.com/media/DGBdLU1WsAANxJ9.jpg  iPhone   \n",
       "3  https://pbs.twimg.com/media/DF_q7IAWsAEuuN8.jpg  iPhone   \n",
       "4  https://pbs.twimg.com/media/DF6hr6BUMAAzZgT.jpg  iPhone   \n",
       "\n",
       "                                                text  favorite_count  \\\n",
       "0  This is Phineas. He's a mystical boy. Only eve...           39027   \n",
       "1  This is Tilly. She's just checking pup on you....           33428   \n",
       "2  This is Archie. He is a rare Norwegian Pouncin...           25197   \n",
       "3  This is Darla. She commenced a snooze mid meal...           42398   \n",
       "4  This is Franklin. He would like you to stop ca...           40541   \n",
       "\n",
       "   retweet_count  \n",
       "0           8665  \n",
       "1           6364  \n",
       "2           4226  \n",
       "3           8771  \n",
       "4           9546  "
      ]
     },
     "execution_count": 80,
     "metadata": {},
     "output_type": "execute_result"
    }
   ],
   "source": [
    "df_master.head()"
   ]
  },
  {
   "cell_type": "code",
   "execution_count": 81,
   "metadata": {},
   "outputs": [],
   "source": [
    "#drop the 'unnamed 0:' column\n",
    "df_master.drop('Unnamed: 0',axis=1,inplace=True)"
   ]
  },
  {
   "cell_type": "markdown",
   "metadata": {},
   "source": [
    "### Insights:<a name=\"insights\"></a>"
   ]
  },
  {
   "cell_type": "markdown",
   "metadata": {},
   "source": [
    "### Descriptive Statistical Analysis <a name=\"dsa\"></a>\n"
   ]
  },
  {
   "cell_type": "code",
   "execution_count": 82,
   "metadata": {},
   "outputs": [
    {
     "data": {
      "text/html": [
       "<div>\n",
       "<style>\n",
       "    .dataframe thead tr:only-child th {\n",
       "        text-align: right;\n",
       "    }\n",
       "\n",
       "    .dataframe thead th {\n",
       "        text-align: left;\n",
       "    }\n",
       "\n",
       "    .dataframe tbody tr th {\n",
       "        vertical-align: top;\n",
       "    }\n",
       "</style>\n",
       "<table border=\"1\" class=\"dataframe\">\n",
       "  <thead>\n",
       "    <tr style=\"text-align: right;\">\n",
       "      <th></th>\n",
       "      <th>tweet_id</th>\n",
       "      <th>year</th>\n",
       "      <th>month</th>\n",
       "      <th>day</th>\n",
       "      <th>hour</th>\n",
       "      <th>breed_conf</th>\n",
       "      <th>rating_numerator</th>\n",
       "      <th>rating_denominator</th>\n",
       "      <th>img_num</th>\n",
       "      <th>favorite_count</th>\n",
       "      <th>retweet_count</th>\n",
       "    </tr>\n",
       "  </thead>\n",
       "  <tbody>\n",
       "    <tr>\n",
       "      <th>count</th>\n",
       "      <td>1.994000e+03</td>\n",
       "      <td>1994.000000</td>\n",
       "      <td>1994.000000</td>\n",
       "      <td>1994.000000</td>\n",
       "      <td>1994.000000</td>\n",
       "      <td>1994.000000</td>\n",
       "      <td>1994.000000</td>\n",
       "      <td>1994.000000</td>\n",
       "      <td>1994.000000</td>\n",
       "      <td>1994.000000</td>\n",
       "      <td>1994.000000</td>\n",
       "    </tr>\n",
       "    <tr>\n",
       "      <th>mean</th>\n",
       "      <td>7.358508e+17</td>\n",
       "      <td>2015.846540</td>\n",
       "      <td>7.158475</td>\n",
       "      <td>16.006520</td>\n",
       "      <td>9.720160</td>\n",
       "      <td>0.464991</td>\n",
       "      <td>12.256269</td>\n",
       "      <td>10.510030</td>\n",
       "      <td>1.203109</td>\n",
       "      <td>8901.055667</td>\n",
       "      <td>2740.760782</td>\n",
       "    </tr>\n",
       "    <tr>\n",
       "      <th>std</th>\n",
       "      <td>6.747816e+16</td>\n",
       "      <td>0.698734</td>\n",
       "      <td>4.121823</td>\n",
       "      <td>8.933015</td>\n",
       "      <td>8.617182</td>\n",
       "      <td>0.339470</td>\n",
       "      <td>41.490083</td>\n",
       "      <td>7.261522</td>\n",
       "      <td>0.560777</td>\n",
       "      <td>12629.751508</td>\n",
       "      <td>4729.131846</td>\n",
       "    </tr>\n",
       "    <tr>\n",
       "      <th>min</th>\n",
       "      <td>6.660209e+17</td>\n",
       "      <td>2015.000000</td>\n",
       "      <td>1.000000</td>\n",
       "      <td>1.000000</td>\n",
       "      <td>0.000000</td>\n",
       "      <td>0.000000</td>\n",
       "      <td>0.000000</td>\n",
       "      <td>7.000000</td>\n",
       "      <td>1.000000</td>\n",
       "      <td>80.000000</td>\n",
       "      <td>13.000000</td>\n",
       "    </tr>\n",
       "    <tr>\n",
       "      <th>25%</th>\n",
       "      <td>6.758475e+17</td>\n",
       "      <td>2015.000000</td>\n",
       "      <td>3.000000</td>\n",
       "      <td>8.000000</td>\n",
       "      <td>1.000000</td>\n",
       "      <td>0.140466</td>\n",
       "      <td>10.000000</td>\n",
       "      <td>10.000000</td>\n",
       "      <td>1.000000</td>\n",
       "      <td>1939.250000</td>\n",
       "      <td>613.250000</td>\n",
       "    </tr>\n",
       "    <tr>\n",
       "      <th>50%</th>\n",
       "      <td>7.084748e+17</td>\n",
       "      <td>2016.000000</td>\n",
       "      <td>7.000000</td>\n",
       "      <td>16.000000</td>\n",
       "      <td>4.000000</td>\n",
       "      <td>0.459130</td>\n",
       "      <td>11.000000</td>\n",
       "      <td>10.000000</td>\n",
       "      <td>1.000000</td>\n",
       "      <td>4067.500000</td>\n",
       "      <td>1324.500000</td>\n",
       "    </tr>\n",
       "    <tr>\n",
       "      <th>75%</th>\n",
       "      <td>7.877873e+17</td>\n",
       "      <td>2016.000000</td>\n",
       "      <td>11.000000</td>\n",
       "      <td>24.000000</td>\n",
       "      <td>18.000000</td>\n",
       "      <td>0.776387</td>\n",
       "      <td>12.000000</td>\n",
       "      <td>10.000000</td>\n",
       "      <td>1.000000</td>\n",
       "      <td>11222.750000</td>\n",
       "      <td>3150.000000</td>\n",
       "    </tr>\n",
       "    <tr>\n",
       "      <th>max</th>\n",
       "      <td>8.924206e+17</td>\n",
       "      <td>2017.000000</td>\n",
       "      <td>12.000000</td>\n",
       "      <td>31.000000</td>\n",
       "      <td>23.000000</td>\n",
       "      <td>0.999956</td>\n",
       "      <td>1776.000000</td>\n",
       "      <td>170.000000</td>\n",
       "      <td>4.000000</td>\n",
       "      <td>144118.000000</td>\n",
       "      <td>77955.000000</td>\n",
       "    </tr>\n",
       "  </tbody>\n",
       "</table>\n",
       "</div>"
      ],
      "text/plain": [
       "           tweet_id         year        month          day         hour  \\\n",
       "count  1.994000e+03  1994.000000  1994.000000  1994.000000  1994.000000   \n",
       "mean   7.358508e+17  2015.846540     7.158475    16.006520     9.720160   \n",
       "std    6.747816e+16     0.698734     4.121823     8.933015     8.617182   \n",
       "min    6.660209e+17  2015.000000     1.000000     1.000000     0.000000   \n",
       "25%    6.758475e+17  2015.000000     3.000000     8.000000     1.000000   \n",
       "50%    7.084748e+17  2016.000000     7.000000    16.000000     4.000000   \n",
       "75%    7.877873e+17  2016.000000    11.000000    24.000000    18.000000   \n",
       "max    8.924206e+17  2017.000000    12.000000    31.000000    23.000000   \n",
       "\n",
       "        breed_conf  rating_numerator  rating_denominator      img_num  \\\n",
       "count  1994.000000       1994.000000         1994.000000  1994.000000   \n",
       "mean      0.464991         12.256269           10.510030     1.203109   \n",
       "std       0.339470         41.490083            7.261522     0.560777   \n",
       "min       0.000000          0.000000            7.000000     1.000000   \n",
       "25%       0.140466         10.000000           10.000000     1.000000   \n",
       "50%       0.459130         11.000000           10.000000     1.000000   \n",
       "75%       0.776387         12.000000           10.000000     1.000000   \n",
       "max       0.999956       1776.000000          170.000000     4.000000   \n",
       "\n",
       "       favorite_count  retweet_count  \n",
       "count     1994.000000    1994.000000  \n",
       "mean      8901.055667    2740.760782  \n",
       "std      12629.751508    4729.131846  \n",
       "min         80.000000      13.000000  \n",
       "25%       1939.250000     613.250000  \n",
       "50%       4067.500000    1324.500000  \n",
       "75%      11222.750000    3150.000000  \n",
       "max     144118.000000   77955.000000  "
      ]
     },
     "execution_count": 82,
     "metadata": {},
     "output_type": "execute_result"
    }
   ],
   "source": [
    "df_master.describe()"
   ]
  },
  {
   "cell_type": "markdown",
   "metadata": {},
   "source": [
    "**Notes:**<br>\n",
    "    The mean rating for the dogs is 12.26 with an oulier of 1776<br>\n",
    "    The mean favorite count is 8901 and maximun is 144121.<br>\n",
    "    The mean retweet count is 2741 and maximum is 77967 and it looks like an outlier since the 75% is at only 3150.<br>\n",
    "\n",
    "**Lets take a look at the rating numerator outlier: **\n",
    "** Which dog has the most rating ?**"
   ]
  },
  {
   "cell_type": "code",
   "execution_count": 83,
   "metadata": {
    "scrolled": true
   },
   "outputs": [
    {
     "data": {
      "text/html": [
       "<div>\n",
       "<style>\n",
       "    .dataframe thead tr:only-child th {\n",
       "        text-align: right;\n",
       "    }\n",
       "\n",
       "    .dataframe thead th {\n",
       "        text-align: left;\n",
       "    }\n",
       "\n",
       "    .dataframe tbody tr th {\n",
       "        vertical-align: top;\n",
       "    }\n",
       "</style>\n",
       "<table border=\"1\" class=\"dataframe\">\n",
       "  <thead>\n",
       "    <tr style=\"text-align: right;\">\n",
       "      <th></th>\n",
       "      <th>tweet_id</th>\n",
       "      <th>date</th>\n",
       "      <th>year</th>\n",
       "      <th>month</th>\n",
       "      <th>day</th>\n",
       "      <th>time</th>\n",
       "      <th>hour</th>\n",
       "      <th>dog_name</th>\n",
       "      <th>dog_stages</th>\n",
       "      <th>dog_breed</th>\n",
       "      <th>breed_conf</th>\n",
       "      <th>rating_numerator</th>\n",
       "      <th>rating_denominator</th>\n",
       "      <th>img_num</th>\n",
       "      <th>jpg_url</th>\n",
       "      <th>source</th>\n",
       "      <th>text</th>\n",
       "      <th>favorite_count</th>\n",
       "      <th>retweet_count</th>\n",
       "    </tr>\n",
       "  </thead>\n",
       "  <tbody>\n",
       "    <tr>\n",
       "      <th>726</th>\n",
       "      <td>749981277374128128</td>\n",
       "      <td>2016-07-04 00:00:00</td>\n",
       "      <td>2016</td>\n",
       "      <td>7</td>\n",
       "      <td>4</td>\n",
       "      <td>1900-01-01 15:00:45</td>\n",
       "      <td>15</td>\n",
       "      <td>Atticus</td>\n",
       "      <td>NaN</td>\n",
       "      <td>Unidentified</td>\n",
       "      <td>0.0</td>\n",
       "      <td>1776.0</td>\n",
       "      <td>10.0</td>\n",
       "      <td>1</td>\n",
       "      <td>https://pbs.twimg.com/media/CmgBZ7kWcAAlzFD.jpg</td>\n",
       "      <td>TweetDeck</td>\n",
       "      <td>This is Atticus. He's quite simply America af....</td>\n",
       "      <td>5542</td>\n",
       "      <td>2728</td>\n",
       "    </tr>\n",
       "  </tbody>\n",
       "</table>\n",
       "</div>"
      ],
      "text/plain": [
       "               tweet_id                 date  year  month  day  \\\n",
       "726  749981277374128128  2016-07-04 00:00:00  2016      7    4   \n",
       "\n",
       "                    time  hour dog_name dog_stages     dog_breed  breed_conf  \\\n",
       "726  1900-01-01 15:00:45    15  Atticus        NaN  Unidentified         0.0   \n",
       "\n",
       "     rating_numerator  rating_denominator  img_num  \\\n",
       "726            1776.0                10.0        1   \n",
       "\n",
       "                                             jpg_url     source  \\\n",
       "726  https://pbs.twimg.com/media/CmgBZ7kWcAAlzFD.jpg  TweetDeck   \n",
       "\n",
       "                                                  text  favorite_count  \\\n",
       "726  This is Atticus. He's quite simply America af....            5542   \n",
       "\n",
       "     retweet_count  \n",
       "726           2728  "
      ]
     },
     "execution_count": 83,
     "metadata": {},
     "output_type": "execute_result"
    }
   ],
   "source": [
    "df_master[df_master.rating_numerator==1776]"
   ]
  },
  {
   "cell_type": "markdown",
   "metadata": {},
   "source": [
    "**Which dog has the most rating ?**<br><a name=\"dograting\"></a>\n"
   ]
  },
  {
   "cell_type": "markdown",
   "metadata": {},
   "source": [
    "The dog Atticus has the most rating(1776) and the breed is unidentified. Let's use the jpg.url to look at its picture."
   ]
  },
  {
   "cell_type": "code",
   "execution_count": 84,
   "metadata": {},
   "outputs": [
    {
     "data": {
      "text/plain": [
       "726    https://pbs.twimg.com/media/CmgBZ7kWcAAlzFD.jpg\n",
       "Name: jpg_url, dtype: object"
      ]
     },
     "execution_count": 84,
     "metadata": {},
     "output_type": "execute_result"
    }
   ],
   "source": [
    "# Retrieve the jpg file url  \n",
    "df_master[df_master.rating_numerator==1776].jpg_url"
   ]
  },
  {
   "cell_type": "code",
   "execution_count": 85,
   "metadata": {},
   "outputs": [
    {
     "data": {
      "text/html": [
       "<img src=\"https://pbs.twimg.com/media/CmgBZ7kWcAAlzFD.jpg\"/>"
      ],
      "text/plain": [
       "<IPython.core.display.Image object>"
      ]
     },
     "execution_count": 85,
     "metadata": {},
     "output_type": "execute_result"
    }
   ],
   "source": [
    "#display the picture of the dog with the most rating\n",
    "from IPython.display import Image\n",
    "from IPython.core.display import HTML \n",
    "Image(url= \"https://pbs.twimg.com/media/CmgBZ7kWcAAlzFD.jpg\")"
   ]
  },
  {
   "cell_type": "markdown",
   "metadata": {},
   "source": [
    "So, this is Atticus with highest rating as 1776."
   ]
  },
  {
   "cell_type": "markdown",
   "metadata": {},
   "source": [
    "**Let me ask few more questions based on the most rating. Is this the dog(higest rating) most favorited and retweeted?**\n"
   ]
  },
  {
   "cell_type": "code",
   "execution_count": 86,
   "metadata": {},
   "outputs": [
    {
     "data": {
      "text/html": [
       "<div>\n",
       "<style>\n",
       "    .dataframe thead tr:only-child th {\n",
       "        text-align: right;\n",
       "    }\n",
       "\n",
       "    .dataframe thead th {\n",
       "        text-align: left;\n",
       "    }\n",
       "\n",
       "    .dataframe tbody tr th {\n",
       "        vertical-align: top;\n",
       "    }\n",
       "</style>\n",
       "<table border=\"1\" class=\"dataframe\">\n",
       "  <thead>\n",
       "    <tr style=\"text-align: right;\">\n",
       "      <th></th>\n",
       "      <th>tweet_id</th>\n",
       "      <th>date</th>\n",
       "      <th>year</th>\n",
       "      <th>month</th>\n",
       "      <th>day</th>\n",
       "      <th>time</th>\n",
       "      <th>hour</th>\n",
       "      <th>dog_name</th>\n",
       "      <th>dog_stages</th>\n",
       "      <th>dog_breed</th>\n",
       "      <th>breed_conf</th>\n",
       "      <th>rating_numerator</th>\n",
       "      <th>rating_denominator</th>\n",
       "      <th>img_num</th>\n",
       "      <th>jpg_url</th>\n",
       "      <th>source</th>\n",
       "      <th>text</th>\n",
       "      <th>favorite_count</th>\n",
       "      <th>retweet_count</th>\n",
       "    </tr>\n",
       "  </thead>\n",
       "  <tbody>\n",
       "    <tr>\n",
       "      <th>309</th>\n",
       "      <td>822872901745569793</td>\n",
       "      <td>2017-01-21 00:00:00</td>\n",
       "      <td>2017</td>\n",
       "      <td>1</td>\n",
       "      <td>21</td>\n",
       "      <td>1900-01-01 18:26:02</td>\n",
       "      <td>18</td>\n",
       "      <td>NaN</td>\n",
       "      <td>puppo</td>\n",
       "      <td>Lakeland_terrier</td>\n",
       "      <td>0.196015</td>\n",
       "      <td>13.0</td>\n",
       "      <td>10.0</td>\n",
       "      <td>1</td>\n",
       "      <td>https://pbs.twimg.com/media/C2tugXLXgAArJO4.jpg</td>\n",
       "      <td>iPhone</td>\n",
       "      <td>Here's a super supportive puppo participating ...</td>\n",
       "      <td>144118</td>\n",
       "      <td>49551</td>\n",
       "    </tr>\n",
       "  </tbody>\n",
       "</table>\n",
       "</div>"
      ],
      "text/plain": [
       "               tweet_id                 date  year  month  day  \\\n",
       "309  822872901745569793  2017-01-21 00:00:00  2017      1   21   \n",
       "\n",
       "                    time  hour dog_name dog_stages         dog_breed  \\\n",
       "309  1900-01-01 18:26:02    18      NaN      puppo  Lakeland_terrier   \n",
       "\n",
       "     breed_conf  rating_numerator  rating_denominator  img_num  \\\n",
       "309    0.196015              13.0                10.0        1   \n",
       "\n",
       "                                             jpg_url  source  \\\n",
       "309  https://pbs.twimg.com/media/C2tugXLXgAArJO4.jpg  iPhone   \n",
       "\n",
       "                                                  text  favorite_count  \\\n",
       "309  Here's a super supportive puppo participating ...          144118   \n",
       "\n",
       "     retweet_count  \n",
       "309          49551  "
      ]
     },
     "execution_count": 86,
     "metadata": {},
     "output_type": "execute_result"
    }
   ],
   "source": [
    "#find the tweet with highest favorite count\n",
    "df_master[df_master.favorite_count == [df_master['favorite_count'].max()]]"
   ]
  },
  {
   "cell_type": "code",
   "execution_count": 87,
   "metadata": {},
   "outputs": [
    {
     "data": {
      "text/html": [
       "<div>\n",
       "<style>\n",
       "    .dataframe thead tr:only-child th {\n",
       "        text-align: right;\n",
       "    }\n",
       "\n",
       "    .dataframe thead th {\n",
       "        text-align: left;\n",
       "    }\n",
       "\n",
       "    .dataframe tbody tr th {\n",
       "        vertical-align: top;\n",
       "    }\n",
       "</style>\n",
       "<table border=\"1\" class=\"dataframe\">\n",
       "  <thead>\n",
       "    <tr style=\"text-align: right;\">\n",
       "      <th></th>\n",
       "      <th>tweet_id</th>\n",
       "      <th>date</th>\n",
       "      <th>year</th>\n",
       "      <th>month</th>\n",
       "      <th>day</th>\n",
       "      <th>time</th>\n",
       "      <th>hour</th>\n",
       "      <th>dog_name</th>\n",
       "      <th>dog_stages</th>\n",
       "      <th>dog_breed</th>\n",
       "      <th>breed_conf</th>\n",
       "      <th>rating_numerator</th>\n",
       "      <th>rating_denominator</th>\n",
       "      <th>img_num</th>\n",
       "      <th>jpg_url</th>\n",
       "      <th>source</th>\n",
       "      <th>text</th>\n",
       "      <th>favorite_count</th>\n",
       "      <th>retweet_count</th>\n",
       "    </tr>\n",
       "  </thead>\n",
       "  <tbody>\n",
       "    <tr>\n",
       "      <th>775</th>\n",
       "      <td>744234799360020481</td>\n",
       "      <td>2016-06-18 00:00:00</td>\n",
       "      <td>2016</td>\n",
       "      <td>6</td>\n",
       "      <td>18</td>\n",
       "      <td>1900-01-01 18:26:18</td>\n",
       "      <td>18</td>\n",
       "      <td>NaN</td>\n",
       "      <td>doggo</td>\n",
       "      <td>Labrador_retriever</td>\n",
       "      <td>0.825333</td>\n",
       "      <td>13.0</td>\n",
       "      <td>10.0</td>\n",
       "      <td>1</td>\n",
       "      <td>https://pbs.twimg.com/ext_tw_video_thumb/74423...</td>\n",
       "      <td>iPhone</td>\n",
       "      <td>Here's a doggo realizing you can stand in a po...</td>\n",
       "      <td>129067</td>\n",
       "      <td>77955</td>\n",
       "    </tr>\n",
       "  </tbody>\n",
       "</table>\n",
       "</div>"
      ],
      "text/plain": [
       "               tweet_id                 date  year  month  day  \\\n",
       "775  744234799360020481  2016-06-18 00:00:00  2016      6   18   \n",
       "\n",
       "                    time  hour dog_name dog_stages           dog_breed  \\\n",
       "775  1900-01-01 18:26:18    18      NaN      doggo  Labrador_retriever   \n",
       "\n",
       "     breed_conf  rating_numerator  rating_denominator  img_num  \\\n",
       "775    0.825333              13.0                10.0        1   \n",
       "\n",
       "                                               jpg_url  source  \\\n",
       "775  https://pbs.twimg.com/ext_tw_video_thumb/74423...  iPhone   \n",
       "\n",
       "                                                  text  favorite_count  \\\n",
       "775  Here's a doggo realizing you can stand in a po...          129067   \n",
       "\n",
       "     retweet_count  \n",
       "775          77955  "
      ]
     },
     "execution_count": 87,
     "metadata": {},
     "output_type": "execute_result"
    }
   ],
   "source": [
    "#find the tweet with highest retweet count\n",
    "df_master[df_master.retweet_count == [df_master['retweet_count'].max()]]"
   ]
  },
  {
   "cell_type": "markdown",
   "metadata": {},
   "source": [
    "The dog with the highest rating(Atticus) is not the one most favorited and retweeted.<br>"
   ]
  },
  {
   "cell_type": "markdown",
   "metadata": {},
   "source": [
    "**Which tweet/dog is most popular with most favorite count?**<a name=\"dogfav\"></a>"
   ]
  },
  {
   "cell_type": "code",
   "execution_count": 88,
   "metadata": {},
   "outputs": [
    {
     "data": {
      "text/plain": [
       "309    https://pbs.twimg.com/media/C2tugXLXgAArJO4.jpg\n",
       "Name: jpg_url, dtype: object"
      ]
     },
     "execution_count": 88,
     "metadata": {},
     "output_type": "execute_result"
    }
   ],
   "source": [
    "# Retrieve the jpg file url  \n",
    "df_master[df_master.favorite_count==144118].jpg_url"
   ]
  },
  {
   "cell_type": "code",
   "execution_count": 89,
   "metadata": {},
   "outputs": [
    {
     "data": {
      "text/html": [
       "<img src=\"https://pbs.twimg.com/media/C2tugXLXgAArJO4.jpg\"/>"
      ],
      "text/plain": [
       "<IPython.core.display.Image object>"
      ]
     },
     "execution_count": 89,
     "metadata": {},
     "output_type": "execute_result"
    }
   ],
   "source": [
    "#display the picture of the most favorited dog\n",
    "Image(url= \"https://pbs.twimg.com/media/C2tugXLXgAArJO4.jpg\")"
   ]
  },
  {
   "cell_type": "markdown",
   "metadata": {},
   "source": [
    "\n",
    "The tweet with most favorite count is puppo, lakelaned_terrier and its name is unknown. The tweet's text is \"Here's a super supportive puppo participating ...\""
   ]
  },
  {
   "cell_type": "markdown",
   "metadata": {},
   "source": [
    "**which tweet/dog  has the most retweets?**<a name=\"dogretweet\"></a>"
   ]
  },
  {
   "cell_type": "markdown",
   "metadata": {},
   "source": [
    "The tweet with most retweet count is doggo, labrador_retriever and iagain its name is unknown.<br>\n",
    "The tweet's text is \"Here's a doggo realizing you can stand in a po..\"<br>\n"
   ]
  },
  {
   "cell_type": "markdown",
   "metadata": {},
   "source": [
    "### Visualization:<a name=\"visual\"></a>"
   ]
  },
  {
   "cell_type": "markdown",
   "metadata": {},
   "source": [
    "** Top Rated breeds**"
   ]
  },
  {
   "cell_type": "code",
   "execution_count": 90,
   "metadata": {},
   "outputs": [],
   "source": [
    "#group by breeds and then sort them by rating numerator\n",
    "\n",
    "groupby_breed = df_master.groupby('dog_breed').sum().reset_index()\n",
    "groupby_breed.sort_values('rating_numerator',inplace=True,ascending=False)\n"
   ]
  },
  {
   "cell_type": "markdown",
   "metadata": {},
   "source": [
    "**The below is the order of breeds by rating:**"
   ]
  },
  {
   "cell_type": "code",
   "execution_count": 91,
   "metadata": {},
   "outputs": [
    {
     "data": {
      "text/html": [
       "<div>\n",
       "<style>\n",
       "    .dataframe thead tr:only-child th {\n",
       "        text-align: right;\n",
       "    }\n",
       "\n",
       "    .dataframe thead th {\n",
       "        text-align: left;\n",
       "    }\n",
       "\n",
       "    .dataframe tbody tr th {\n",
       "        vertical-align: top;\n",
       "    }\n",
       "</style>\n",
       "<table border=\"1\" class=\"dataframe\">\n",
       "  <thead>\n",
       "    <tr style=\"text-align: right;\">\n",
       "      <th></th>\n",
       "      <th>dog_breed</th>\n",
       "      <th>tweet_id</th>\n",
       "      <th>year</th>\n",
       "      <th>month</th>\n",
       "      <th>day</th>\n",
       "      <th>hour</th>\n",
       "      <th>breed_conf</th>\n",
       "      <th>rating_numerator</th>\n",
       "      <th>rating_denominator</th>\n",
       "      <th>img_num</th>\n",
       "      <th>favorite_count</th>\n",
       "      <th>retweet_count</th>\n",
       "    </tr>\n",
       "  </thead>\n",
       "  <tbody>\n",
       "    <tr>\n",
       "      <th>65</th>\n",
       "      <td>Unidentified</td>\n",
       "      <td>2.208757e+20</td>\n",
       "      <td>620816.0</td>\n",
       "      <td>2455.0</td>\n",
       "      <td>5063.0</td>\n",
       "      <td>2918.0</td>\n",
       "      <td>0.000000</td>\n",
       "      <td>5152.0</td>\n",
       "      <td>3240.0</td>\n",
       "      <td>349.0</td>\n",
       "      <td>2188049.0</td>\n",
       "      <td>762293.0</td>\n",
       "    </tr>\n",
       "    <tr>\n",
       "      <th>90</th>\n",
       "      <td>golden_retriever</td>\n",
       "      <td>1.195304e+20</td>\n",
       "      <td>318529.0</td>\n",
       "      <td>1126.0</td>\n",
       "      <td>2470.0</td>\n",
       "      <td>1449.0</td>\n",
       "      <td>102.175419</td>\n",
       "      <td>2062.0</td>\n",
       "      <td>1777.0</td>\n",
       "      <td>201.0</td>\n",
       "      <td>1938038.0</td>\n",
       "      <td>580479.0</td>\n",
       "    </tr>\n",
       "    <tr>\n",
       "      <th>37</th>\n",
       "      <td>Labrador_retriever</td>\n",
       "      <td>8.104769e+19</td>\n",
       "      <td>217725.0</td>\n",
       "      <td>751.0</td>\n",
       "      <td>1795.0</td>\n",
       "      <td>1216.0</td>\n",
       "      <td>63.784266</td>\n",
       "      <td>1470.0</td>\n",
       "      <td>1320.0</td>\n",
       "      <td>128.0</td>\n",
       "      <td>1255008.0</td>\n",
       "      <td>398800.0</td>\n",
       "    </tr>\n",
       "    <tr>\n",
       "      <th>49</th>\n",
       "      <td>Pembroke</td>\n",
       "      <td>7.170114e+19</td>\n",
       "      <td>191522.0</td>\n",
       "      <td>638.0</td>\n",
       "      <td>1700.0</td>\n",
       "      <td>942.0</td>\n",
       "      <td>64.194626</td>\n",
       "      <td>1080.0</td>\n",
       "      <td>950.0</td>\n",
       "      <td>119.0</td>\n",
       "      <td>1043268.0</td>\n",
       "      <td>288369.0</td>\n",
       "    </tr>\n",
       "    <tr>\n",
       "      <th>16</th>\n",
       "      <td>Chihuahua</td>\n",
       "      <td>6.556073e+19</td>\n",
       "      <td>183430.0</td>\n",
       "      <td>671.0</td>\n",
       "      <td>1396.0</td>\n",
       "      <td>835.0</td>\n",
       "      <td>47.595800</td>\n",
       "      <td>954.0</td>\n",
       "      <td>910.0</td>\n",
       "      <td>112.0</td>\n",
       "      <td>767827.0</td>\n",
       "      <td>256465.0</td>\n",
       "    </tr>\n",
       "  </tbody>\n",
       "</table>\n",
       "</div>"
      ],
      "text/plain": [
       "             dog_breed      tweet_id      year   month     day    hour  \\\n",
       "65        Unidentified  2.208757e+20  620816.0  2455.0  5063.0  2918.0   \n",
       "90    golden_retriever  1.195304e+20  318529.0  1126.0  2470.0  1449.0   \n",
       "37  Labrador_retriever  8.104769e+19  217725.0   751.0  1795.0  1216.0   \n",
       "49            Pembroke  7.170114e+19  191522.0   638.0  1700.0   942.0   \n",
       "16           Chihuahua  6.556073e+19  183430.0   671.0  1396.0   835.0   \n",
       "\n",
       "    breed_conf  rating_numerator  rating_denominator  img_num  favorite_count  \\\n",
       "65    0.000000            5152.0              3240.0    349.0       2188049.0   \n",
       "90  102.175419            2062.0              1777.0    201.0       1938038.0   \n",
       "37   63.784266            1470.0              1320.0    128.0       1255008.0   \n",
       "49   64.194626            1080.0               950.0    119.0       1043268.0   \n",
       "16   47.595800             954.0               910.0    112.0        767827.0   \n",
       "\n",
       "    retweet_count  \n",
       "65       762293.0  \n",
       "90       580479.0  \n",
       "37       398800.0  \n",
       "49       288369.0  \n",
       "16       256465.0  "
      ]
     },
     "execution_count": 91,
     "metadata": {},
     "output_type": "execute_result"
    }
   ],
   "source": [
    "groupby_breed.head()"
   ]
  },
  {
   "cell_type": "code",
   "execution_count": 92,
   "metadata": {},
   "outputs": [
    {
     "data": {
      "text/html": [
       "<div>\n",
       "<style>\n",
       "    .dataframe thead tr:only-child th {\n",
       "        text-align: right;\n",
       "    }\n",
       "\n",
       "    .dataframe thead th {\n",
       "        text-align: left;\n",
       "    }\n",
       "\n",
       "    .dataframe tbody tr th {\n",
       "        vertical-align: top;\n",
       "    }\n",
       "</style>\n",
       "<table border=\"1\" class=\"dataframe\">\n",
       "  <thead>\n",
       "    <tr style=\"text-align: right;\">\n",
       "      <th></th>\n",
       "      <th>dog_breed</th>\n",
       "      <th>tweet_id</th>\n",
       "      <th>year</th>\n",
       "      <th>month</th>\n",
       "      <th>day</th>\n",
       "      <th>hour</th>\n",
       "      <th>breed_conf</th>\n",
       "      <th>rating_numerator</th>\n",
       "      <th>rating_denominator</th>\n",
       "      <th>img_num</th>\n",
       "      <th>favorite_count</th>\n",
       "      <th>retweet_count</th>\n",
       "    </tr>\n",
       "  </thead>\n",
       "  <tbody>\n",
       "    <tr>\n",
       "      <th>108</th>\n",
       "      <td>standard_schnauzer</td>\n",
       "      <td>6.757109e+17</td>\n",
       "      <td>2015.0</td>\n",
       "      <td>12.0</td>\n",
       "      <td>12.0</td>\n",
       "      <td>16.0</td>\n",
       "      <td>0.441427</td>\n",
       "      <td>12.0</td>\n",
       "      <td>10.0</td>\n",
       "      <td>2.0</td>\n",
       "      <td>2007.0</td>\n",
       "      <td>904.0</td>\n",
       "    </tr>\n",
       "    <tr>\n",
       "      <th>34</th>\n",
       "      <td>Irish_wolfhound</td>\n",
       "      <td>6.717356e+17</td>\n",
       "      <td>2015.0</td>\n",
       "      <td>12.0</td>\n",
       "      <td>1.0</td>\n",
       "      <td>17.0</td>\n",
       "      <td>0.063078</td>\n",
       "      <td>11.0</td>\n",
       "      <td>10.0</td>\n",
       "      <td>2.0</td>\n",
       "      <td>1508.0</td>\n",
       "      <td>797.0</td>\n",
       "    </tr>\n",
       "    <tr>\n",
       "      <th>21</th>\n",
       "      <td>EntleBucher</td>\n",
       "      <td>6.798621e+17</td>\n",
       "      <td>2015.0</td>\n",
       "      <td>12.0</td>\n",
       "      <td>24.0</td>\n",
       "      <td>3.0</td>\n",
       "      <td>0.523206</td>\n",
       "      <td>11.0</td>\n",
       "      <td>10.0</td>\n",
       "      <td>1.0</td>\n",
       "      <td>2640.0</td>\n",
       "      <td>688.0</td>\n",
       "    </tr>\n",
       "    <tr>\n",
       "      <th>56</th>\n",
       "      <td>Scotch_terrier</td>\n",
       "      <td>6.892838e+17</td>\n",
       "      <td>2016.0</td>\n",
       "      <td>1.0</td>\n",
       "      <td>19.0</td>\n",
       "      <td>3.0</td>\n",
       "      <td>0.267979</td>\n",
       "      <td>9.0</td>\n",
       "      <td>10.0</td>\n",
       "      <td>1.0</td>\n",
       "      <td>3553.0</td>\n",
       "      <td>1226.0</td>\n",
       "    </tr>\n",
       "    <tr>\n",
       "      <th>36</th>\n",
       "      <td>Japanese_spaniel</td>\n",
       "      <td>6.773010e+17</td>\n",
       "      <td>2015.0</td>\n",
       "      <td>12.0</td>\n",
       "      <td>17.0</td>\n",
       "      <td>1.0</td>\n",
       "      <td>0.661178</td>\n",
       "      <td>5.0</td>\n",
       "      <td>10.0</td>\n",
       "      <td>1.0</td>\n",
       "      <td>1333.0</td>\n",
       "      <td>456.0</td>\n",
       "    </tr>\n",
       "  </tbody>\n",
       "</table>\n",
       "</div>"
      ],
      "text/plain": [
       "              dog_breed      tweet_id    year  month   day  hour  breed_conf  \\\n",
       "108  standard_schnauzer  6.757109e+17  2015.0   12.0  12.0  16.0    0.441427   \n",
       "34      Irish_wolfhound  6.717356e+17  2015.0   12.0   1.0  17.0    0.063078   \n",
       "21          EntleBucher  6.798621e+17  2015.0   12.0  24.0   3.0    0.523206   \n",
       "56       Scotch_terrier  6.892838e+17  2016.0    1.0  19.0   3.0    0.267979   \n",
       "36     Japanese_spaniel  6.773010e+17  2015.0   12.0  17.0   1.0    0.661178   \n",
       "\n",
       "     rating_numerator  rating_denominator  img_num  favorite_count  \\\n",
       "108              12.0                10.0      2.0          2007.0   \n",
       "34               11.0                10.0      2.0          1508.0   \n",
       "21               11.0                10.0      1.0          2640.0   \n",
       "56                9.0                10.0      1.0          3553.0   \n",
       "36                5.0                10.0      1.0          1333.0   \n",
       "\n",
       "     retweet_count  \n",
       "108          904.0  \n",
       "34           797.0  \n",
       "21           688.0  \n",
       "56          1226.0  \n",
       "36           456.0  "
      ]
     },
     "execution_count": 92,
     "metadata": {},
     "output_type": "execute_result"
    }
   ],
   "source": [
    "groupby_breed.tail()"
   ]
  },
  {
   "cell_type": "markdown",
   "metadata": {},
   "source": [
    "There are 113 types of breeds predicted in the dataset with some unidentified. The **golden reteriever** breed is the top rated breed and the least rated breed is **Japenese spaniel**.\n"
   ]
  },
  {
   "cell_type": "markdown",
   "metadata": {},
   "source": [
    "\n",
    "** Bar Plot for the top 20 breeds by rating**<a name=\"toprating\"></a>"
   ]
  },
  {
   "cell_type": "code",
   "execution_count": 93,
   "metadata": {},
   "outputs": [
    {
     "data": {
      "image/png": "[encoded data removed]",
      "text/plain": [
       "<matplotlib.figure.Figure at 0x7fd750311518>"
      ]
     },
     "metadata": {},
     "output_type": "display_data"
    }
   ],
   "source": [
    "#pick the top 20 breeds by rating from the above dataframe and plot a bar gragh\n",
    "#discarding the unidentified breed\n",
    "x = groupby_breed.iloc[1:21,0]\n",
    "y = groupby_breed.iloc[1:21,7]\n",
    "\n",
    "top20_breed=pd.DataFrame({'Breed':x,'Rating':y})\n",
    "ax = top20_breed[['Rating']].plot(kind='bar',figsize=(10, 5), legend=True, fontsize=12)\n",
    "ax.set_xlabel('Top 20 Dog Breeds')\n",
    "ticks=np.arange(len(x))\n",
    "plt.xticks(ticks,x)\n",
    "plt.title('Top 20 Dog Breeds by Rating')\n",
    "plt.show()\n"
   ]
  },
  {
   "cell_type": "markdown",
   "metadata": {},
   "source": [
    "**Top breeds by favorite count**\n"
   ]
  },
  {
   "cell_type": "code",
   "execution_count": 94,
   "metadata": {},
   "outputs": [],
   "source": [
    "#group by breeds and then sort them by rating numerator\n",
    "\n",
    "groupby_breed = df_master.groupby('dog_breed').sum().reset_index()\n",
    "groupby_breed.sort_values('favorite_count',inplace=True,ascending=False)"
   ]
  },
  {
   "cell_type": "markdown",
   "metadata": {},
   "source": [
    "**The below is the order of breeds by favorite count:**"
   ]
  },
  {
   "cell_type": "code",
   "execution_count": 95,
   "metadata": {},
   "outputs": [
    {
     "data": {
      "text/html": [
       "<div>\n",
       "<style>\n",
       "    .dataframe thead tr:only-child th {\n",
       "        text-align: right;\n",
       "    }\n",
       "\n",
       "    .dataframe thead th {\n",
       "        text-align: left;\n",
       "    }\n",
       "\n",
       "    .dataframe tbody tr th {\n",
       "        vertical-align: top;\n",
       "    }\n",
       "</style>\n",
       "<table border=\"1\" class=\"dataframe\">\n",
       "  <thead>\n",
       "    <tr style=\"text-align: right;\">\n",
       "      <th></th>\n",
       "      <th>dog_breed</th>\n",
       "      <th>favorite_count</th>\n",
       "    </tr>\n",
       "  </thead>\n",
       "  <tbody>\n",
       "    <tr>\n",
       "      <th>65</th>\n",
       "      <td>Unidentified</td>\n",
       "      <td>2188049.0</td>\n",
       "    </tr>\n",
       "    <tr>\n",
       "      <th>90</th>\n",
       "      <td>golden_retriever</td>\n",
       "      <td>1938038.0</td>\n",
       "    </tr>\n",
       "    <tr>\n",
       "      <th>37</th>\n",
       "      <td>Labrador_retriever</td>\n",
       "      <td>1255008.0</td>\n",
       "    </tr>\n",
       "    <tr>\n",
       "      <th>49</th>\n",
       "      <td>Pembroke</td>\n",
       "      <td>1043268.0</td>\n",
       "    </tr>\n",
       "    <tr>\n",
       "      <th>16</th>\n",
       "      <td>Chihuahua</td>\n",
       "      <td>767827.0</td>\n",
       "    </tr>\n",
       "    <tr>\n",
       "      <th>23</th>\n",
       "      <td>French_bulldog</td>\n",
       "      <td>609433.0</td>\n",
       "    </tr>\n",
       "    <tr>\n",
       "      <th>55</th>\n",
       "      <td>Samoyed</td>\n",
       "      <td>575104.0</td>\n",
       "    </tr>\n",
       "    <tr>\n",
       "      <th>82</th>\n",
       "      <td>chow</td>\n",
       "      <td>451480.0</td>\n",
       "    </tr>\n",
       "    <tr>\n",
       "      <th>84</th>\n",
       "      <td>cocker_spaniel</td>\n",
       "      <td>409426.0</td>\n",
       "    </tr>\n",
       "    <tr>\n",
       "      <th>102</th>\n",
       "      <td>pug</td>\n",
       "      <td>378008.0</td>\n",
       "    </tr>\n",
       "    <tr>\n",
       "      <th>96</th>\n",
       "      <td>malamute</td>\n",
       "      <td>353082.0</td>\n",
       "    </tr>\n",
       "    <tr>\n",
       "      <th>109</th>\n",
       "      <td>toy_poodle</td>\n",
       "      <td>333616.0</td>\n",
       "    </tr>\n",
       "    <tr>\n",
       "      <th>50</th>\n",
       "      <td>Pomeranian</td>\n",
       "      <td>318580.0</td>\n",
       "    </tr>\n",
       "    <tr>\n",
       "      <th>15</th>\n",
       "      <td>Chesapeake_Bay_retriever</td>\n",
       "      <td>308152.0</td>\n",
       "    </tr>\n",
       "    <tr>\n",
       "      <th>14</th>\n",
       "      <td>Cardigan</td>\n",
       "      <td>265499.0</td>\n",
       "    </tr>\n",
       "    <tr>\n",
       "      <th>22</th>\n",
       "      <td>Eskimo_dog</td>\n",
       "      <td>231311.0</td>\n",
       "    </tr>\n",
       "    <tr>\n",
       "      <th>38</th>\n",
       "      <td>Lakeland_terrier</td>\n",
       "      <td>222286.0</td>\n",
       "    </tr>\n",
       "    <tr>\n",
       "      <th>24</th>\n",
       "      <td>German_shepherd</td>\n",
       "      <td>214196.0</td>\n",
       "    </tr>\n",
       "    <tr>\n",
       "      <th>98</th>\n",
       "      <td>miniature_pinscher</td>\n",
       "      <td>200103.0</td>\n",
       "    </tr>\n",
       "    <tr>\n",
       "      <th>72</th>\n",
       "      <td>basset</td>\n",
       "      <td>197274.0</td>\n",
       "    </tr>\n",
       "    <tr>\n",
       "      <th>61</th>\n",
       "      <td>Staffordshire_bullterrier</td>\n",
       "      <td>188923.0</td>\n",
       "    </tr>\n",
       "    <tr>\n",
       "      <th>28</th>\n",
       "      <td>Great_Pyrenees</td>\n",
       "      <td>183778.0</td>\n",
       "    </tr>\n",
       "    <tr>\n",
       "      <th>58</th>\n",
       "      <td>Shetland_sheepdog</td>\n",
       "      <td>166664.0</td>\n",
       "    </tr>\n",
       "    <tr>\n",
       "      <th>112</th>\n",
       "      <td>whippet</td>\n",
       "      <td>158677.0</td>\n",
       "    </tr>\n",
       "    <tr>\n",
       "      <th>107</th>\n",
       "      <td>standard_poodle</td>\n",
       "      <td>150833.0</td>\n",
       "    </tr>\n",
       "    <tr>\n",
       "      <th>2</th>\n",
       "      <td>American_Staffordshire_terrier</td>\n",
       "      <td>147656.0</td>\n",
       "    </tr>\n",
       "    <tr>\n",
       "      <th>35</th>\n",
       "      <td>Italian_greyhound</td>\n",
       "      <td>140038.0</td>\n",
       "    </tr>\n",
       "    <tr>\n",
       "      <th>20</th>\n",
       "      <td>English_springer</td>\n",
       "      <td>139491.0</td>\n",
       "    </tr>\n",
       "    <tr>\n",
       "      <th>60</th>\n",
       "      <td>Siberian_husky</td>\n",
       "      <td>138042.0</td>\n",
       "    </tr>\n",
       "    <tr>\n",
       "      <th>52</th>\n",
       "      <td>Rottweiler</td>\n",
       "      <td>134450.0</td>\n",
       "    </tr>\n",
       "    <tr>\n",
       "      <th>...</th>\n",
       "      <td>...</td>\n",
       "      <td>...</td>\n",
       "    </tr>\n",
       "    <tr>\n",
       "      <th>17</th>\n",
       "      <td>Dandie_Dinmont</td>\n",
       "      <td>23866.0</td>\n",
       "    </tr>\n",
       "    <tr>\n",
       "      <th>71</th>\n",
       "      <td>basenji</td>\n",
       "      <td>22097.0</td>\n",
       "    </tr>\n",
       "    <tr>\n",
       "      <th>4</th>\n",
       "      <td>Australian_terrier</td>\n",
       "      <td>21910.0</td>\n",
       "    </tr>\n",
       "    <tr>\n",
       "      <th>26</th>\n",
       "      <td>Gordon_setter</td>\n",
       "      <td>21764.0</td>\n",
       "    </tr>\n",
       "    <tr>\n",
       "      <th>68</th>\n",
       "      <td>Welsh_springer_spaniel</td>\n",
       "      <td>19920.0</td>\n",
       "    </tr>\n",
       "    <tr>\n",
       "      <th>76</th>\n",
       "      <td>bluetick</td>\n",
       "      <td>19816.0</td>\n",
       "    </tr>\n",
       "    <tr>\n",
       "      <th>103</th>\n",
       "      <td>redbone</td>\n",
       "      <td>19447.0</td>\n",
       "    </tr>\n",
       "    <tr>\n",
       "      <th>92</th>\n",
       "      <td>keeshond</td>\n",
       "      <td>19342.0</td>\n",
       "    </tr>\n",
       "    <tr>\n",
       "      <th>30</th>\n",
       "      <td>Ibizan_hound</td>\n",
       "      <td>18581.0</td>\n",
       "    </tr>\n",
       "    <tr>\n",
       "      <th>11</th>\n",
       "      <td>Bouvier_des_Flandres</td>\n",
       "      <td>17723.0</td>\n",
       "    </tr>\n",
       "    <tr>\n",
       "      <th>113</th>\n",
       "      <td>wire-haired_fox_terrier</td>\n",
       "      <td>16788.0</td>\n",
       "    </tr>\n",
       "    <tr>\n",
       "      <th>100</th>\n",
       "      <td>miniature_schnauzer</td>\n",
       "      <td>16780.0</td>\n",
       "    </tr>\n",
       "    <tr>\n",
       "      <th>81</th>\n",
       "      <td>cairn</td>\n",
       "      <td>16124.0</td>\n",
       "    </tr>\n",
       "    <tr>\n",
       "      <th>51</th>\n",
       "      <td>Rhodesian_ridgeback</td>\n",
       "      <td>15943.0</td>\n",
       "    </tr>\n",
       "    <tr>\n",
       "      <th>3</th>\n",
       "      <td>Appenzeller</td>\n",
       "      <td>14464.0</td>\n",
       "    </tr>\n",
       "    <tr>\n",
       "      <th>86</th>\n",
       "      <td>curly-coated_retriever</td>\n",
       "      <td>13603.0</td>\n",
       "    </tr>\n",
       "    <tr>\n",
       "      <th>40</th>\n",
       "      <td>Lhasa</td>\n",
       "      <td>13063.0</td>\n",
       "    </tr>\n",
       "    <tr>\n",
       "      <th>110</th>\n",
       "      <td>toy_terrier</td>\n",
       "      <td>9388.0</td>\n",
       "    </tr>\n",
       "    <tr>\n",
       "      <th>57</th>\n",
       "      <td>Scottish_deerhound</td>\n",
       "      <td>9053.0</td>\n",
       "    </tr>\n",
       "    <tr>\n",
       "      <th>62</th>\n",
       "      <td>Sussex_spaniel</td>\n",
       "      <td>7993.0</td>\n",
       "    </tr>\n",
       "    <tr>\n",
       "      <th>64</th>\n",
       "      <td>Tibetan_terrier</td>\n",
       "      <td>7220.0</td>\n",
       "    </tr>\n",
       "    <tr>\n",
       "      <th>105</th>\n",
       "      <td>silky_terrier</td>\n",
       "      <td>7202.0</td>\n",
       "    </tr>\n",
       "    <tr>\n",
       "      <th>83</th>\n",
       "      <td>clumber</td>\n",
       "      <td>7200.0</td>\n",
       "    </tr>\n",
       "    <tr>\n",
       "      <th>56</th>\n",
       "      <td>Scotch_terrier</td>\n",
       "      <td>3553.0</td>\n",
       "    </tr>\n",
       "    <tr>\n",
       "      <th>21</th>\n",
       "      <td>EntleBucher</td>\n",
       "      <td>2640.0</td>\n",
       "    </tr>\n",
       "    <tr>\n",
       "      <th>12</th>\n",
       "      <td>Brabancon_griffon</td>\n",
       "      <td>2614.0</td>\n",
       "    </tr>\n",
       "    <tr>\n",
       "      <th>91</th>\n",
       "      <td>groenendael</td>\n",
       "      <td>2272.0</td>\n",
       "    </tr>\n",
       "    <tr>\n",
       "      <th>108</th>\n",
       "      <td>standard_schnauzer</td>\n",
       "      <td>2007.0</td>\n",
       "    </tr>\n",
       "    <tr>\n",
       "      <th>34</th>\n",
       "      <td>Irish_wolfhound</td>\n",
       "      <td>1508.0</td>\n",
       "    </tr>\n",
       "    <tr>\n",
       "      <th>36</th>\n",
       "      <td>Japanese_spaniel</td>\n",
       "      <td>1333.0</td>\n",
       "    </tr>\n",
       "  </tbody>\n",
       "</table>\n",
       "<p>114 rows × 2 columns</p>\n",
       "</div>"
      ],
      "text/plain": [
       "                          dog_breed  favorite_count\n",
       "65                     Unidentified       2188049.0\n",
       "90                 golden_retriever       1938038.0\n",
       "37               Labrador_retriever       1255008.0\n",
       "49                         Pembroke       1043268.0\n",
       "16                        Chihuahua        767827.0\n",
       "23                   French_bulldog        609433.0\n",
       "55                          Samoyed        575104.0\n",
       "82                             chow        451480.0\n",
       "84                   cocker_spaniel        409426.0\n",
       "102                             pug        378008.0\n",
       "96                         malamute        353082.0\n",
       "109                      toy_poodle        333616.0\n",
       "50                       Pomeranian        318580.0\n",
       "15         Chesapeake_Bay_retriever        308152.0\n",
       "14                         Cardigan        265499.0\n",
       "22                       Eskimo_dog        231311.0\n",
       "38                 Lakeland_terrier        222286.0\n",
       "24                  German_shepherd        214196.0\n",
       "98               miniature_pinscher        200103.0\n",
       "72                           basset        197274.0\n",
       "61        Staffordshire_bullterrier        188923.0\n",
       "28                   Great_Pyrenees        183778.0\n",
       "58                Shetland_sheepdog        166664.0\n",
       "112                         whippet        158677.0\n",
       "107                 standard_poodle        150833.0\n",
       "2    American_Staffordshire_terrier        147656.0\n",
       "35                Italian_greyhound        140038.0\n",
       "20                 English_springer        139491.0\n",
       "60                   Siberian_husky        138042.0\n",
       "52                       Rottweiler        134450.0\n",
       "..                              ...             ...\n",
       "17                   Dandie_Dinmont         23866.0\n",
       "71                          basenji         22097.0\n",
       "4                Australian_terrier         21910.0\n",
       "26                    Gordon_setter         21764.0\n",
       "68           Welsh_springer_spaniel         19920.0\n",
       "76                         bluetick         19816.0\n",
       "103                         redbone         19447.0\n",
       "92                         keeshond         19342.0\n",
       "30                     Ibizan_hound         18581.0\n",
       "11             Bouvier_des_Flandres         17723.0\n",
       "113         wire-haired_fox_terrier         16788.0\n",
       "100             miniature_schnauzer         16780.0\n",
       "81                            cairn         16124.0\n",
       "51              Rhodesian_ridgeback         15943.0\n",
       "3                       Appenzeller         14464.0\n",
       "86           curly-coated_retriever         13603.0\n",
       "40                            Lhasa         13063.0\n",
       "110                     toy_terrier          9388.0\n",
       "57               Scottish_deerhound          9053.0\n",
       "62                   Sussex_spaniel          7993.0\n",
       "64                  Tibetan_terrier          7220.0\n",
       "105                   silky_terrier          7202.0\n",
       "83                          clumber          7200.0\n",
       "56                   Scotch_terrier          3553.0\n",
       "21                      EntleBucher          2640.0\n",
       "12                Brabancon_griffon          2614.0\n",
       "91                      groenendael          2272.0\n",
       "108              standard_schnauzer          2007.0\n",
       "34                  Irish_wolfhound          1508.0\n",
       "36                 Japanese_spaniel          1333.0\n",
       "\n",
       "[114 rows x 2 columns]"
      ]
     },
     "execution_count": 95,
     "metadata": {},
     "output_type": "execute_result"
    }
   ],
   "source": [
    "groupby_breed[['dog_breed','favorite_count']]"
   ]
  },
  {
   "cell_type": "markdown",
   "metadata": {},
   "source": [
    "\n",
    "** Bar plot for top 20 breeds by favorite count **<a name=\"topfav\"></a>"
   ]
  },
  {
   "cell_type": "code",
   "execution_count": 96,
   "metadata": {},
   "outputs": [
    {
     "data": {
      "image/png": "[encoded data removed]",
      "text/plain": [
       "<matplotlib.figure.Figure at 0x7fd74f9512e8>"
      ]
     },
     "metadata": {},
     "output_type": "display_data"
    }
   ],
   "source": [
    "#pick the top 20 breeds by from the above dataframe and plot a bar gragh\n",
    "#discarding the unidentified breed\n",
    "x = groupby_breed.iloc[1:21,0]\n",
    "y = groupby_breed.iloc[1:21,10]\n",
    "ticks = np.arange(len(x))\n",
    "top20_breed=pd.DataFrame({'Breed':x,'Favorite_count':y})\n",
    "ax = top20_breed[['Favorite_count']].plot(kind='bar',figsize=(10, 5), legend=True, fontsize=12)\n",
    "ax.set_xlabel('Top 20 Dog Breeds')\n",
    "plt.xticks(ticks,x)\n",
    "plt.title('Top 20 Dog Breeds by Favorite Count')\n",
    "plt.show()\n"
   ]
  },
  {
   "cell_type": "markdown",
   "metadata": {},
   "source": [
    "** Retweet and Favorite count by dog stages**<a name=\"dogstages\"></a>"
   ]
  },
  {
   "cell_type": "code",
   "execution_count": 97,
   "metadata": {},
   "outputs": [
    {
     "data": {
      "image/png": "[encoded data removed]",
      "text/plain": [
       "<matplotlib.figure.Figure at 0x7fd74ffe1e80>"
      ]
     },
     "metadata": {},
     "output_type": "display_data"
    }
   ],
   "source": [
    "# group by dog stages and plot bar graph for favorite and retweet counts\n",
    "df_master.groupby('dog_stages')['favorite_count','retweet_count'].sum().plot(kind='bar',figsize=(10,5))\n",
    "plt.xlabel('Dog Stages')\n",
    "plt.ylabel('Count')\n",
    "plt.title('Retweet and Favorite by Dog Stages')\n",
    "plt.show()"
   ]
  },
  {
   "cell_type": "markdown",
   "metadata": {},
   "source": [
    "**Notes:**\n",
    "of the four stages, pupper had the most favorite and retweet counts followed by doggo. Out of the 1994 tweets\n",
    "there were only 326 dog stages entries. This result might vary if we had all tweets with dog stages."
   ]
  },
  {
   "cell_type": "markdown",
   "metadata": {},
   "source": [
    "**Which month has the most tweets?** <a name=\"month\"></a>"
   ]
  },
  {
   "cell_type": "code",
   "execution_count": 98,
   "metadata": {},
   "outputs": [
    {
     "data": {
      "image/png": "[encoded data removed]",
      "text/plain": [
       "<matplotlib.figure.Figure at 0x7fd74f951860>"
      ]
     },
     "metadata": {},
     "output_type": "display_data"
    }
   ],
   "source": [
    "#group by year and by month. then plot the bar graph\n",
    "groupby_month = df_master.groupby(['year','month'],sort=False)['tweet_id'].count().plot(kind='bar',figsize=(10, 5),fontsize=12)\n",
    "                                                             \n",
    "plt.title('Number of original tweets per month',fontsize=15)\n",
    "\n",
    "plt.ylabel('Count')\n",
    "plt.xlabel('')\n",
    "plt.show()\n"
   ]
  },
  {
   "cell_type": "markdown",
   "metadata": {},
   "source": [
    "**Notes:**<br>\n",
    "The bar plot shows that towards the end of 2015(i.e, November & December) and the begining of 2016(January) werer the busiest months with the data we collected. <br>\n",
    "In the year 2016, beginging(first quater) seem to be busier than the others.<br>\n",
    "In the year 2017 the number of tweets didn't even exceed 100."
   ]
  },
  {
   "cell_type": "code",
   "execution_count": 1,
   "metadata": {},
   "outputs": [
    {
     "data": {
      "text/plain": [
       "0"
      ]
     },
     "execution_count": 1,
     "metadata": {},
     "output_type": "execute_result"
    }
   ],
   "source": [
    "from subprocess import call\n",
    "call(['python', '-m', 'nbconvert', 'wrangle_act.ipynb'])\n"
   ]
  },
  {
   "cell_type": "code",
   "execution_count": null,
   "metadata": {},
   "outputs": [],
   "source": []
  },
  {
   "cell_type": "code",
   "execution_count": null,
   "metadata": {},
   "outputs": [],
   "source": []
  },
  {
   "cell_type": "code",
   "execution_count": null,
   "metadata": {},
   "outputs": [],
   "source": []
  }
 ],
 "metadata": {
  "kernelspec": {
   "display_name": "Python 3",
   "language": "python",
   "name": "python3"
  },
  "language_info": {
   "codemirror_mode": {
    "name": "ipython",
    "version": 3
   },
   "file_extension": ".py",
   "mimetype": "text/x-python",
   "name": "python",
   "nbconvert_exporter": "python",
   "pygments_lexer": "ipython3",
   "version": "3.6.3"
  }
 },
 "nbformat": 4,
 "nbformat_minor": 2
}
